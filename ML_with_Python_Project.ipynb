{
  "cells": [
    {
      "cell_type": "markdown",
      "id": "61395075-f84d-4278-b2f6-f27fceafcda2",
      "metadata": {
        "id": "61395075-f84d-4278-b2f6-f27fceafcda2"
      },
      "source": [
        "# Course Project: Machine Learning with python"
      ]
    },
    {
      "cell_type": "markdown",
      "id": "19ae6af5-2b65-440d-baea-c1803bc32dfc",
      "metadata": {
        "id": "19ae6af5-2b65-440d-baea-c1803bc32dfc"
      },
      "source": [
        "### 1. Views about the problem statement\n",
        "Creating a machine learning model which will help the company in determining the salary of newly\n",
        "hired employees using the given data. TechWorks Consulting is a consulting company that specializes in providing top-notch IT talent\n",
        "to a variety of businesses The company takes multiple factors into account\n",
        "when determining an employee's salary,including the employee's experience, qualifications, and\n",
        "performance. Employee data as well as various other features that can be responsible for\n",
        "determining the employee's salary, such as the college an employee attends or the city\n",
        "which the employee is coming, what the employee's previous CTC was, how much experience\n",
        "that employee has, and his academic rec are given. As a data analyst at TechWorks Consulting, they have given me the task of creating a machine\n",
        "learning model which will help them in determining the salary of newly hired employees using the given data.\n"
      ]
    },
    {
      "cell_type": "markdown",
      "id": "7a1a2c7d-d806-4093-b77e-ede74856bc88",
      "metadata": {
        "id": "7a1a2c7d-d806-4093-b77e-ede74856bc88"
      },
      "source": [
        "### 2. What will be the approach to solving this task\n",
        "* Data Understanding: Begin by thoroughly understanding the given data set.\n",
        "* Data Preprocessing: Data pre-processing involves cleaning and transforming the data to make it suitable for training\n",
        "a machine learning model. This can include tasks such a (1)Handling missing values (2)Outlier detection and treatment (3)Handling categorical variables (4)Normalization (5)Feature selection.\n",
        "* Model Selection: Choose different Regression models.\n",
        "* Model Training and Evaluation: (1)Partitioning of data into train and test data (2)Use appropriate evaluation metrics like MeanSquaredError(MSE) and R-squared to measure the model's accuracy (3)Select the model with the best performance.\n",
        "* Model Optimization: Implementation of validation curves and Ensemble techniques.\n",
        "* Model Comparision: Compare the performance of different models and select the one with the best accuracy.\n",
        ":"
      ]
    },
    {
      "cell_type": "code",
      "execution_count": 3,
      "id": "ab61e2b0-be8f-4d93-9d16-7e6c5307118b",
      "metadata": {
        "id": "ab61e2b0-be8f-4d93-9d16-7e6c5307118b"
      },
      "outputs": [],
      "source": [
        "# Import numpy for numerical operations\n",
        "# Import pandas for data manipulation and analysis\n",
        "# Import seaborn for data visualization\n",
        "\n",
        "import numpy as np\n",
        "import pandas as pd\n",
        "import seaborn as sns"
      ]
    },
    {
      "cell_type": "code",
      "execution_count": 4,
      "id": "93040653-0fc4-4e24-b032-fcda90fbc41e",
      "metadata": {
        "id": "93040653-0fc4-4e24-b032-fcda90fbc41e"
      },
      "outputs": [],
      "source": [
        "# Read a csv file into a DataFrame\n",
        "\n",
        "df = pd.read_csv('/ML case Study.csv')\n",
        "colleges = pd.read_csv('/Colleges.csv')\n",
        "cities = pd.read_csv('/cities.csv')"
      ]
    },
    {
      "cell_type": "code",
      "execution_count": 5,
      "id": "8c13774a-4551-4a71-8b67-4dbc05ace09b",
      "metadata": {
        "colab": {
          "base_uri": "https://localhost:8080/",
          "height": 206
        },
        "id": "8c13774a-4551-4a71-8b67-4dbc05ace09b",
        "outputId": "7f20d7ef-e954-4e89-c7e7-b6b74b5216d6"
      },
      "outputs": [
        {
          "output_type": "execute_result",
          "data": {
            "text/plain": [
              "             College             City       Role  Previous CTC  \\\n",
              "0        SVNIT Surat          Asansol    Manager       55523.0   \n",
              "1         NIT Bhopal            Ajmer  Executive       57081.0   \n",
              "2       IEM, Kolkata  Rajpur Sonarpur  Executive       60347.0   \n",
              "3  KIIT, Bhubaneswar            Ajmer  Executive       49010.0   \n",
              "4                DTU         Durgapur  Executive       57879.0   \n",
              "\n",
              "   Previous job change  Graduation Marks  EXP (Month)       CTC  \n",
              "0                    3                66           19  71406.58  \n",
              "1                    1                84           18  68005.87  \n",
              "2                    2                52           28  76764.02  \n",
              "3                    2                81           33  82092.39  \n",
              "4                    4                74           32  73878.10  "
            ],
            "text/html": [
              "\n",
              "  <div id=\"df-971a2d84-1664-4a6c-aafa-529ce6923610\" class=\"colab-df-container\">\n",
              "    <div>\n",
              "<style scoped>\n",
              "    .dataframe tbody tr th:only-of-type {\n",
              "        vertical-align: middle;\n",
              "    }\n",
              "\n",
              "    .dataframe tbody tr th {\n",
              "        vertical-align: top;\n",
              "    }\n",
              "\n",
              "    .dataframe thead th {\n",
              "        text-align: right;\n",
              "    }\n",
              "</style>\n",
              "<table border=\"1\" class=\"dataframe\">\n",
              "  <thead>\n",
              "    <tr style=\"text-align: right;\">\n",
              "      <th></th>\n",
              "      <th>College</th>\n",
              "      <th>City</th>\n",
              "      <th>Role</th>\n",
              "      <th>Previous CTC</th>\n",
              "      <th>Previous job change</th>\n",
              "      <th>Graduation Marks</th>\n",
              "      <th>EXP (Month)</th>\n",
              "      <th>CTC</th>\n",
              "    </tr>\n",
              "  </thead>\n",
              "  <tbody>\n",
              "    <tr>\n",
              "      <th>0</th>\n",
              "      <td>SVNIT Surat</td>\n",
              "      <td>Asansol</td>\n",
              "      <td>Manager</td>\n",
              "      <td>55523.0</td>\n",
              "      <td>3</td>\n",
              "      <td>66</td>\n",
              "      <td>19</td>\n",
              "      <td>71406.58</td>\n",
              "    </tr>\n",
              "    <tr>\n",
              "      <th>1</th>\n",
              "      <td>NIT Bhopal</td>\n",
              "      <td>Ajmer</td>\n",
              "      <td>Executive</td>\n",
              "      <td>57081.0</td>\n",
              "      <td>1</td>\n",
              "      <td>84</td>\n",
              "      <td>18</td>\n",
              "      <td>68005.87</td>\n",
              "    </tr>\n",
              "    <tr>\n",
              "      <th>2</th>\n",
              "      <td>IEM, Kolkata</td>\n",
              "      <td>Rajpur Sonarpur</td>\n",
              "      <td>Executive</td>\n",
              "      <td>60347.0</td>\n",
              "      <td>2</td>\n",
              "      <td>52</td>\n",
              "      <td>28</td>\n",
              "      <td>76764.02</td>\n",
              "    </tr>\n",
              "    <tr>\n",
              "      <th>3</th>\n",
              "      <td>KIIT, Bhubaneswar</td>\n",
              "      <td>Ajmer</td>\n",
              "      <td>Executive</td>\n",
              "      <td>49010.0</td>\n",
              "      <td>2</td>\n",
              "      <td>81</td>\n",
              "      <td>33</td>\n",
              "      <td>82092.39</td>\n",
              "    </tr>\n",
              "    <tr>\n",
              "      <th>4</th>\n",
              "      <td>DTU</td>\n",
              "      <td>Durgapur</td>\n",
              "      <td>Executive</td>\n",
              "      <td>57879.0</td>\n",
              "      <td>4</td>\n",
              "      <td>74</td>\n",
              "      <td>32</td>\n",
              "      <td>73878.10</td>\n",
              "    </tr>\n",
              "  </tbody>\n",
              "</table>\n",
              "</div>\n",
              "    <div class=\"colab-df-buttons\">\n",
              "\n",
              "  <div class=\"colab-df-container\">\n",
              "    <button class=\"colab-df-convert\" onclick=\"convertToInteractive('df-971a2d84-1664-4a6c-aafa-529ce6923610')\"\n",
              "            title=\"Convert this dataframe to an interactive table.\"\n",
              "            style=\"display:none;\">\n",
              "\n",
              "  <svg xmlns=\"http://www.w3.org/2000/svg\" height=\"24px\" viewBox=\"0 -960 960 960\">\n",
              "    <path d=\"M120-120v-720h720v720H120Zm60-500h600v-160H180v160Zm220 220h160v-160H400v160Zm0 220h160v-160H400v160ZM180-400h160v-160H180v160Zm440 0h160v-160H620v160ZM180-180h160v-160H180v160Zm440 0h160v-160H620v160Z\"/>\n",
              "  </svg>\n",
              "    </button>\n",
              "\n",
              "  <style>\n",
              "    .colab-df-container {\n",
              "      display:flex;\n",
              "      gap: 12px;\n",
              "    }\n",
              "\n",
              "    .colab-df-convert {\n",
              "      background-color: #E8F0FE;\n",
              "      border: none;\n",
              "      border-radius: 50%;\n",
              "      cursor: pointer;\n",
              "      display: none;\n",
              "      fill: #1967D2;\n",
              "      height: 32px;\n",
              "      padding: 0 0 0 0;\n",
              "      width: 32px;\n",
              "    }\n",
              "\n",
              "    .colab-df-convert:hover {\n",
              "      background-color: #E2EBFA;\n",
              "      box-shadow: 0px 1px 2px rgba(60, 64, 67, 0.3), 0px 1px 3px 1px rgba(60, 64, 67, 0.15);\n",
              "      fill: #174EA6;\n",
              "    }\n",
              "\n",
              "    .colab-df-buttons div {\n",
              "      margin-bottom: 4px;\n",
              "    }\n",
              "\n",
              "    [theme=dark] .colab-df-convert {\n",
              "      background-color: #3B4455;\n",
              "      fill: #D2E3FC;\n",
              "    }\n",
              "\n",
              "    [theme=dark] .colab-df-convert:hover {\n",
              "      background-color: #434B5C;\n",
              "      box-shadow: 0px 1px 3px 1px rgba(0, 0, 0, 0.15);\n",
              "      filter: drop-shadow(0px 1px 2px rgba(0, 0, 0, 0.3));\n",
              "      fill: #FFFFFF;\n",
              "    }\n",
              "  </style>\n",
              "\n",
              "    <script>\n",
              "      const buttonEl =\n",
              "        document.querySelector('#df-971a2d84-1664-4a6c-aafa-529ce6923610 button.colab-df-convert');\n",
              "      buttonEl.style.display =\n",
              "        google.colab.kernel.accessAllowed ? 'block' : 'none';\n",
              "\n",
              "      async function convertToInteractive(key) {\n",
              "        const element = document.querySelector('#df-971a2d84-1664-4a6c-aafa-529ce6923610');\n",
              "        const dataTable =\n",
              "          await google.colab.kernel.invokeFunction('convertToInteractive',\n",
              "                                                    [key], {});\n",
              "        if (!dataTable) return;\n",
              "\n",
              "        const docLinkHtml = 'Like what you see? Visit the ' +\n",
              "          '<a target=\"_blank\" href=https://colab.research.google.com/notebooks/data_table.ipynb>data table notebook</a>'\n",
              "          + ' to learn more about interactive tables.';\n",
              "        element.innerHTML = '';\n",
              "        dataTable['output_type'] = 'display_data';\n",
              "        await google.colab.output.renderOutput(dataTable, element);\n",
              "        const docLink = document.createElement('div');\n",
              "        docLink.innerHTML = docLinkHtml;\n",
              "        element.appendChild(docLink);\n",
              "      }\n",
              "    </script>\n",
              "  </div>\n",
              "\n",
              "\n",
              "<div id=\"df-9d0d740d-ce3c-4099-bd3a-a38ca3e38731\">\n",
              "  <button class=\"colab-df-quickchart\" onclick=\"quickchart('df-9d0d740d-ce3c-4099-bd3a-a38ca3e38731')\"\n",
              "            title=\"Suggest charts\"\n",
              "            style=\"display:none;\">\n",
              "\n",
              "<svg xmlns=\"http://www.w3.org/2000/svg\" height=\"24px\"viewBox=\"0 0 24 24\"\n",
              "     width=\"24px\">\n",
              "    <g>\n",
              "        <path d=\"M19 3H5c-1.1 0-2 .9-2 2v14c0 1.1.9 2 2 2h14c1.1 0 2-.9 2-2V5c0-1.1-.9-2-2-2zM9 17H7v-7h2v7zm4 0h-2V7h2v10zm4 0h-2v-4h2v4z\"/>\n",
              "    </g>\n",
              "</svg>\n",
              "  </button>\n",
              "\n",
              "<style>\n",
              "  .colab-df-quickchart {\n",
              "      --bg-color: #E8F0FE;\n",
              "      --fill-color: #1967D2;\n",
              "      --hover-bg-color: #E2EBFA;\n",
              "      --hover-fill-color: #174EA6;\n",
              "      --disabled-fill-color: #AAA;\n",
              "      --disabled-bg-color: #DDD;\n",
              "  }\n",
              "\n",
              "  [theme=dark] .colab-df-quickchart {\n",
              "      --bg-color: #3B4455;\n",
              "      --fill-color: #D2E3FC;\n",
              "      --hover-bg-color: #434B5C;\n",
              "      --hover-fill-color: #FFFFFF;\n",
              "      --disabled-bg-color: #3B4455;\n",
              "      --disabled-fill-color: #666;\n",
              "  }\n",
              "\n",
              "  .colab-df-quickchart {\n",
              "    background-color: var(--bg-color);\n",
              "    border: none;\n",
              "    border-radius: 50%;\n",
              "    cursor: pointer;\n",
              "    display: none;\n",
              "    fill: var(--fill-color);\n",
              "    height: 32px;\n",
              "    padding: 0;\n",
              "    width: 32px;\n",
              "  }\n",
              "\n",
              "  .colab-df-quickchart:hover {\n",
              "    background-color: var(--hover-bg-color);\n",
              "    box-shadow: 0 1px 2px rgba(60, 64, 67, 0.3), 0 1px 3px 1px rgba(60, 64, 67, 0.15);\n",
              "    fill: var(--button-hover-fill-color);\n",
              "  }\n",
              "\n",
              "  .colab-df-quickchart-complete:disabled,\n",
              "  .colab-df-quickchart-complete:disabled:hover {\n",
              "    background-color: var(--disabled-bg-color);\n",
              "    fill: var(--disabled-fill-color);\n",
              "    box-shadow: none;\n",
              "  }\n",
              "\n",
              "  .colab-df-spinner {\n",
              "    border: 2px solid var(--fill-color);\n",
              "    border-color: transparent;\n",
              "    border-bottom-color: var(--fill-color);\n",
              "    animation:\n",
              "      spin 1s steps(1) infinite;\n",
              "  }\n",
              "\n",
              "  @keyframes spin {\n",
              "    0% {\n",
              "      border-color: transparent;\n",
              "      border-bottom-color: var(--fill-color);\n",
              "      border-left-color: var(--fill-color);\n",
              "    }\n",
              "    20% {\n",
              "      border-color: transparent;\n",
              "      border-left-color: var(--fill-color);\n",
              "      border-top-color: var(--fill-color);\n",
              "    }\n",
              "    30% {\n",
              "      border-color: transparent;\n",
              "      border-left-color: var(--fill-color);\n",
              "      border-top-color: var(--fill-color);\n",
              "      border-right-color: var(--fill-color);\n",
              "    }\n",
              "    40% {\n",
              "      border-color: transparent;\n",
              "      border-right-color: var(--fill-color);\n",
              "      border-top-color: var(--fill-color);\n",
              "    }\n",
              "    60% {\n",
              "      border-color: transparent;\n",
              "      border-right-color: var(--fill-color);\n",
              "    }\n",
              "    80% {\n",
              "      border-color: transparent;\n",
              "      border-right-color: var(--fill-color);\n",
              "      border-bottom-color: var(--fill-color);\n",
              "    }\n",
              "    90% {\n",
              "      border-color: transparent;\n",
              "      border-bottom-color: var(--fill-color);\n",
              "    }\n",
              "  }\n",
              "</style>\n",
              "\n",
              "  <script>\n",
              "    async function quickchart(key) {\n",
              "      const quickchartButtonEl =\n",
              "        document.querySelector('#' + key + ' button');\n",
              "      quickchartButtonEl.disabled = true;  // To prevent multiple clicks.\n",
              "      quickchartButtonEl.classList.add('colab-df-spinner');\n",
              "      try {\n",
              "        const charts = await google.colab.kernel.invokeFunction(\n",
              "            'suggestCharts', [key], {});\n",
              "      } catch (error) {\n",
              "        console.error('Error during call to suggestCharts:', error);\n",
              "      }\n",
              "      quickchartButtonEl.classList.remove('colab-df-spinner');\n",
              "      quickchartButtonEl.classList.add('colab-df-quickchart-complete');\n",
              "    }\n",
              "    (() => {\n",
              "      let quickchartButtonEl =\n",
              "        document.querySelector('#df-9d0d740d-ce3c-4099-bd3a-a38ca3e38731 button');\n",
              "      quickchartButtonEl.style.display =\n",
              "        google.colab.kernel.accessAllowed ? 'block' : 'none';\n",
              "    })();\n",
              "  </script>\n",
              "</div>\n",
              "\n",
              "    </div>\n",
              "  </div>\n"
            ],
            "application/vnd.google.colaboratory.intrinsic+json": {
              "type": "dataframe",
              "variable_name": "df",
              "summary": "{\n  \"name\": \"df\",\n  \"rows\": 1589,\n  \"fields\": [\n    {\n      \"column\": \"College\",\n      \"properties\": {\n        \"dtype\": \"category\",\n        \"num_unique_values\": 66,\n        \"samples\": [\n          \"BITS Pilani (Goa Campus)\",\n          \"IIIT Lucknow\",\n          \"SVNIT Surat\"\n        ],\n        \"semantic_type\": \"\",\n        \"description\": \"\"\n      }\n    },\n    {\n      \"column\": \"City\",\n      \"properties\": {\n        \"dtype\": \"category\",\n        \"num_unique_values\": 15,\n        \"samples\": [\n          \"Pune\",\n          \"Hyderabad\",\n          \"Asansol\"\n        ],\n        \"semantic_type\": \"\",\n        \"description\": \"\"\n      }\n    },\n    {\n      \"column\": \"Role\",\n      \"properties\": {\n        \"dtype\": \"category\",\n        \"num_unique_values\": 2,\n        \"samples\": [\n          \"Executive\",\n          \"Manager\"\n        ],\n        \"semantic_type\": \"\",\n        \"description\": \"\"\n      }\n    },\n    {\n      \"column\": \"Previous CTC\",\n      \"properties\": {\n        \"dtype\": \"number\",\n        \"std\": 6655.218445065719,\n        \"min\": 36990.0,\n        \"max\": 77911.0,\n        \"num_unique_values\": 1307,\n        \"samples\": [\n          49743.0,\n          62532.0\n        ],\n        \"semantic_type\": \"\",\n        \"description\": \"\"\n      }\n    },\n    {\n      \"column\": \"Previous job change\",\n      \"properties\": {\n        \"dtype\": \"number\",\n        \"std\": 1,\n        \"min\": 1,\n        \"max\": 4,\n        \"num_unique_values\": 4,\n        \"samples\": [\n          1,\n          4\n        ],\n        \"semantic_type\": \"\",\n        \"description\": \"\"\n      }\n    },\n    {\n      \"column\": \"Graduation Marks\",\n      \"properties\": {\n        \"dtype\": \"number\",\n        \"std\": 14,\n        \"min\": 35,\n        \"max\": 85,\n        \"num_unique_values\": 51,\n        \"samples\": [\n          67,\n          70\n        ],\n        \"semantic_type\": \"\",\n        \"description\": \"\"\n      }\n    },\n    {\n      \"column\": \"EXP (Month)\",\n      \"properties\": {\n        \"dtype\": \"number\",\n        \"std\": 14,\n        \"min\": 18,\n        \"max\": 64,\n        \"num_unique_values\": 47,\n        \"samples\": [\n          21,\n          45\n        ],\n        \"semantic_type\": \"\",\n        \"description\": \"\"\n      }\n    },\n    {\n      \"column\": \"CTC\",\n      \"properties\": {\n        \"dtype\": \"number\",\n        \"std\": 12587.28823745061,\n        \"min\": 53020.32,\n        \"max\": 123416.99,\n        \"num_unique_values\": 1338,\n        \"samples\": [\n          69720.35,\n          64010.16\n        ],\n        \"semantic_type\": \"\",\n        \"description\": \"\"\n      }\n    }\n  ]\n}"
            }
          },
          "metadata": {},
          "execution_count": 5
        }
      ],
      "source": [
        "# Overview of data\n",
        "\n",
        "df.head()"
      ]
    },
    {
      "cell_type": "code",
      "execution_count": 6,
      "id": "355d529e-ced4-44a3-abd0-b030e7dc9dea",
      "metadata": {
        "colab": {
          "base_uri": "https://localhost:8080/",
          "height": 206
        },
        "id": "355d529e-ced4-44a3-abd0-b030e7dc9dea",
        "outputId": "38ea1466-2f1b-4ae5-bd61-038d4409002d"
      },
      "outputs": [
        {
          "output_type": "execute_result",
          "data": {
            "text/plain": [
              "          Tier 1          Tier 2                                      Tier 3\n",
              "0     IIT Bombay  IIIT Bangalore  Ramaiah Institute of Technology, Bengaluru\n",
              "1      IIT Delhi      IIIT Delhi                      TIET/Thapar University\n",
              "2  IIT Kharagpur          IGDTUW                         Manipal Main Campus\n",
              "3     IIT Madras     NIT Calicut                                 VIT Vellore\n",
              "4     IIT Kanpur   IIITM Gwalior                             SRM Main Campus"
            ],
            "text/html": [
              "\n",
              "  <div id=\"df-acf7b27e-04ca-4bcb-bcd9-02edf7ae6ed2\" class=\"colab-df-container\">\n",
              "    <div>\n",
              "<style scoped>\n",
              "    .dataframe tbody tr th:only-of-type {\n",
              "        vertical-align: middle;\n",
              "    }\n",
              "\n",
              "    .dataframe tbody tr th {\n",
              "        vertical-align: top;\n",
              "    }\n",
              "\n",
              "    .dataframe thead th {\n",
              "        text-align: right;\n",
              "    }\n",
              "</style>\n",
              "<table border=\"1\" class=\"dataframe\">\n",
              "  <thead>\n",
              "    <tr style=\"text-align: right;\">\n",
              "      <th></th>\n",
              "      <th>Tier 1</th>\n",
              "      <th>Tier 2</th>\n",
              "      <th>Tier 3</th>\n",
              "    </tr>\n",
              "  </thead>\n",
              "  <tbody>\n",
              "    <tr>\n",
              "      <th>0</th>\n",
              "      <td>IIT Bombay</td>\n",
              "      <td>IIIT Bangalore</td>\n",
              "      <td>Ramaiah Institute of Technology, Bengaluru</td>\n",
              "    </tr>\n",
              "    <tr>\n",
              "      <th>1</th>\n",
              "      <td>IIT Delhi</td>\n",
              "      <td>IIIT Delhi</td>\n",
              "      <td>TIET/Thapar University</td>\n",
              "    </tr>\n",
              "    <tr>\n",
              "      <th>2</th>\n",
              "      <td>IIT Kharagpur</td>\n",
              "      <td>IGDTUW</td>\n",
              "      <td>Manipal Main Campus</td>\n",
              "    </tr>\n",
              "    <tr>\n",
              "      <th>3</th>\n",
              "      <td>IIT Madras</td>\n",
              "      <td>NIT Calicut</td>\n",
              "      <td>VIT Vellore</td>\n",
              "    </tr>\n",
              "    <tr>\n",
              "      <th>4</th>\n",
              "      <td>IIT Kanpur</td>\n",
              "      <td>IIITM Gwalior</td>\n",
              "      <td>SRM Main Campus</td>\n",
              "    </tr>\n",
              "  </tbody>\n",
              "</table>\n",
              "</div>\n",
              "    <div class=\"colab-df-buttons\">\n",
              "\n",
              "  <div class=\"colab-df-container\">\n",
              "    <button class=\"colab-df-convert\" onclick=\"convertToInteractive('df-acf7b27e-04ca-4bcb-bcd9-02edf7ae6ed2')\"\n",
              "            title=\"Convert this dataframe to an interactive table.\"\n",
              "            style=\"display:none;\">\n",
              "\n",
              "  <svg xmlns=\"http://www.w3.org/2000/svg\" height=\"24px\" viewBox=\"0 -960 960 960\">\n",
              "    <path d=\"M120-120v-720h720v720H120Zm60-500h600v-160H180v160Zm220 220h160v-160H400v160Zm0 220h160v-160H400v160ZM180-400h160v-160H180v160Zm440 0h160v-160H620v160ZM180-180h160v-160H180v160Zm440 0h160v-160H620v160Z\"/>\n",
              "  </svg>\n",
              "    </button>\n",
              "\n",
              "  <style>\n",
              "    .colab-df-container {\n",
              "      display:flex;\n",
              "      gap: 12px;\n",
              "    }\n",
              "\n",
              "    .colab-df-convert {\n",
              "      background-color: #E8F0FE;\n",
              "      border: none;\n",
              "      border-radius: 50%;\n",
              "      cursor: pointer;\n",
              "      display: none;\n",
              "      fill: #1967D2;\n",
              "      height: 32px;\n",
              "      padding: 0 0 0 0;\n",
              "      width: 32px;\n",
              "    }\n",
              "\n",
              "    .colab-df-convert:hover {\n",
              "      background-color: #E2EBFA;\n",
              "      box-shadow: 0px 1px 2px rgba(60, 64, 67, 0.3), 0px 1px 3px 1px rgba(60, 64, 67, 0.15);\n",
              "      fill: #174EA6;\n",
              "    }\n",
              "\n",
              "    .colab-df-buttons div {\n",
              "      margin-bottom: 4px;\n",
              "    }\n",
              "\n",
              "    [theme=dark] .colab-df-convert {\n",
              "      background-color: #3B4455;\n",
              "      fill: #D2E3FC;\n",
              "    }\n",
              "\n",
              "    [theme=dark] .colab-df-convert:hover {\n",
              "      background-color: #434B5C;\n",
              "      box-shadow: 0px 1px 3px 1px rgba(0, 0, 0, 0.15);\n",
              "      filter: drop-shadow(0px 1px 2px rgba(0, 0, 0, 0.3));\n",
              "      fill: #FFFFFF;\n",
              "    }\n",
              "  </style>\n",
              "\n",
              "    <script>\n",
              "      const buttonEl =\n",
              "        document.querySelector('#df-acf7b27e-04ca-4bcb-bcd9-02edf7ae6ed2 button.colab-df-convert');\n",
              "      buttonEl.style.display =\n",
              "        google.colab.kernel.accessAllowed ? 'block' : 'none';\n",
              "\n",
              "      async function convertToInteractive(key) {\n",
              "        const element = document.querySelector('#df-acf7b27e-04ca-4bcb-bcd9-02edf7ae6ed2');\n",
              "        const dataTable =\n",
              "          await google.colab.kernel.invokeFunction('convertToInteractive',\n",
              "                                                    [key], {});\n",
              "        if (!dataTable) return;\n",
              "\n",
              "        const docLinkHtml = 'Like what you see? Visit the ' +\n",
              "          '<a target=\"_blank\" href=https://colab.research.google.com/notebooks/data_table.ipynb>data table notebook</a>'\n",
              "          + ' to learn more about interactive tables.';\n",
              "        element.innerHTML = '';\n",
              "        dataTable['output_type'] = 'display_data';\n",
              "        await google.colab.output.renderOutput(dataTable, element);\n",
              "        const docLink = document.createElement('div');\n",
              "        docLink.innerHTML = docLinkHtml;\n",
              "        element.appendChild(docLink);\n",
              "      }\n",
              "    </script>\n",
              "  </div>\n",
              "\n",
              "\n",
              "<div id=\"df-4d15279d-512a-4298-8d5c-4accbfa81617\">\n",
              "  <button class=\"colab-df-quickchart\" onclick=\"quickchart('df-4d15279d-512a-4298-8d5c-4accbfa81617')\"\n",
              "            title=\"Suggest charts\"\n",
              "            style=\"display:none;\">\n",
              "\n",
              "<svg xmlns=\"http://www.w3.org/2000/svg\" height=\"24px\"viewBox=\"0 0 24 24\"\n",
              "     width=\"24px\">\n",
              "    <g>\n",
              "        <path d=\"M19 3H5c-1.1 0-2 .9-2 2v14c0 1.1.9 2 2 2h14c1.1 0 2-.9 2-2V5c0-1.1-.9-2-2-2zM9 17H7v-7h2v7zm4 0h-2V7h2v10zm4 0h-2v-4h2v4z\"/>\n",
              "    </g>\n",
              "</svg>\n",
              "  </button>\n",
              "\n",
              "<style>\n",
              "  .colab-df-quickchart {\n",
              "      --bg-color: #E8F0FE;\n",
              "      --fill-color: #1967D2;\n",
              "      --hover-bg-color: #E2EBFA;\n",
              "      --hover-fill-color: #174EA6;\n",
              "      --disabled-fill-color: #AAA;\n",
              "      --disabled-bg-color: #DDD;\n",
              "  }\n",
              "\n",
              "  [theme=dark] .colab-df-quickchart {\n",
              "      --bg-color: #3B4455;\n",
              "      --fill-color: #D2E3FC;\n",
              "      --hover-bg-color: #434B5C;\n",
              "      --hover-fill-color: #FFFFFF;\n",
              "      --disabled-bg-color: #3B4455;\n",
              "      --disabled-fill-color: #666;\n",
              "  }\n",
              "\n",
              "  .colab-df-quickchart {\n",
              "    background-color: var(--bg-color);\n",
              "    border: none;\n",
              "    border-radius: 50%;\n",
              "    cursor: pointer;\n",
              "    display: none;\n",
              "    fill: var(--fill-color);\n",
              "    height: 32px;\n",
              "    padding: 0;\n",
              "    width: 32px;\n",
              "  }\n",
              "\n",
              "  .colab-df-quickchart:hover {\n",
              "    background-color: var(--hover-bg-color);\n",
              "    box-shadow: 0 1px 2px rgba(60, 64, 67, 0.3), 0 1px 3px 1px rgba(60, 64, 67, 0.15);\n",
              "    fill: var(--button-hover-fill-color);\n",
              "  }\n",
              "\n",
              "  .colab-df-quickchart-complete:disabled,\n",
              "  .colab-df-quickchart-complete:disabled:hover {\n",
              "    background-color: var(--disabled-bg-color);\n",
              "    fill: var(--disabled-fill-color);\n",
              "    box-shadow: none;\n",
              "  }\n",
              "\n",
              "  .colab-df-spinner {\n",
              "    border: 2px solid var(--fill-color);\n",
              "    border-color: transparent;\n",
              "    border-bottom-color: var(--fill-color);\n",
              "    animation:\n",
              "      spin 1s steps(1) infinite;\n",
              "  }\n",
              "\n",
              "  @keyframes spin {\n",
              "    0% {\n",
              "      border-color: transparent;\n",
              "      border-bottom-color: var(--fill-color);\n",
              "      border-left-color: var(--fill-color);\n",
              "    }\n",
              "    20% {\n",
              "      border-color: transparent;\n",
              "      border-left-color: var(--fill-color);\n",
              "      border-top-color: var(--fill-color);\n",
              "    }\n",
              "    30% {\n",
              "      border-color: transparent;\n",
              "      border-left-color: var(--fill-color);\n",
              "      border-top-color: var(--fill-color);\n",
              "      border-right-color: var(--fill-color);\n",
              "    }\n",
              "    40% {\n",
              "      border-color: transparent;\n",
              "      border-right-color: var(--fill-color);\n",
              "      border-top-color: var(--fill-color);\n",
              "    }\n",
              "    60% {\n",
              "      border-color: transparent;\n",
              "      border-right-color: var(--fill-color);\n",
              "    }\n",
              "    80% {\n",
              "      border-color: transparent;\n",
              "      border-right-color: var(--fill-color);\n",
              "      border-bottom-color: var(--fill-color);\n",
              "    }\n",
              "    90% {\n",
              "      border-color: transparent;\n",
              "      border-bottom-color: var(--fill-color);\n",
              "    }\n",
              "  }\n",
              "</style>\n",
              "\n",
              "  <script>\n",
              "    async function quickchart(key) {\n",
              "      const quickchartButtonEl =\n",
              "        document.querySelector('#' + key + ' button');\n",
              "      quickchartButtonEl.disabled = true;  // To prevent multiple clicks.\n",
              "      quickchartButtonEl.classList.add('colab-df-spinner');\n",
              "      try {\n",
              "        const charts = await google.colab.kernel.invokeFunction(\n",
              "            'suggestCharts', [key], {});\n",
              "      } catch (error) {\n",
              "        console.error('Error during call to suggestCharts:', error);\n",
              "      }\n",
              "      quickchartButtonEl.classList.remove('colab-df-spinner');\n",
              "      quickchartButtonEl.classList.add('colab-df-quickchart-complete');\n",
              "    }\n",
              "    (() => {\n",
              "      let quickchartButtonEl =\n",
              "        document.querySelector('#df-4d15279d-512a-4298-8d5c-4accbfa81617 button');\n",
              "      quickchartButtonEl.style.display =\n",
              "        google.colab.kernel.accessAllowed ? 'block' : 'none';\n",
              "    })();\n",
              "  </script>\n",
              "</div>\n",
              "\n",
              "    </div>\n",
              "  </div>\n"
            ],
            "application/vnd.google.colaboratory.intrinsic+json": {
              "type": "dataframe",
              "variable_name": "colleges",
              "summary": "{\n  \"name\": \"colleges\",\n  \"rows\": 28,\n  \"fields\": [\n    {\n      \"column\": \"Tier 1\",\n      \"properties\": {\n        \"dtype\": \"string\",\n        \"num_unique_values\": 22,\n        \"samples\": [\n          \"IIT Bombay\",\n          \"DTU\",\n          \"BITS Pilani (Pilani Campus)\"\n        ],\n        \"semantic_type\": \"\",\n        \"description\": \"\"\n      }\n    },\n    {\n      \"column\": \"Tier 2\",\n      \"properties\": {\n        \"dtype\": \"string\",\n        \"num_unique_values\": 28,\n        \"samples\": [\n          \"MNIT Jaipur\",\n          \"Jalpaiguri Government Engineering College\",\n          \"DAIICT\"\n        ],\n        \"semantic_type\": \"\",\n        \"description\": \"\"\n      }\n    },\n    {\n      \"column\": \"Tier 3\",\n      \"properties\": {\n        \"dtype\": \"string\",\n        \"num_unique_values\": 19,\n        \"samples\": [\n          \"Ramaiah Institute of Technology, Bengaluru\",\n          \"KIIT, Bhubaneswar\",\n          \"MSIT, Delhi\"\n        ],\n        \"semantic_type\": \"\",\n        \"description\": \"\"\n      }\n    }\n  ]\n}"
            }
          },
          "metadata": {},
          "execution_count": 6
        }
      ],
      "source": [
        "colleges.head()"
      ]
    },
    {
      "cell_type": "code",
      "execution_count": 7,
      "id": "b1b20cb2-ebc3-4fbf-b06f-9947072ddf44",
      "metadata": {
        "colab": {
          "base_uri": "https://localhost:8080/",
          "height": 206
        },
        "id": "b1b20cb2-ebc3-4fbf-b06f-9947072ddf44",
        "outputId": "c329dabb-60be-4126-9376-09d2cbb63dda"
      },
      "outputs": [
        {
          "output_type": "execute_result",
          "data": {
            "text/plain": [
              "  Metrio City non-metro cities\n",
              "0      Mumbai         Dehradun\n",
              "1       Delhi         Durgapur\n",
              "2     Kolkata          Asansol\n",
              "3     Chennai         Rourkela\n",
              "4   Bangalore        Kozhikode"
            ],
            "text/html": [
              "\n",
              "  <div id=\"df-57356fcd-dae2-4b65-9e39-883473095692\" class=\"colab-df-container\">\n",
              "    <div>\n",
              "<style scoped>\n",
              "    .dataframe tbody tr th:only-of-type {\n",
              "        vertical-align: middle;\n",
              "    }\n",
              "\n",
              "    .dataframe tbody tr th {\n",
              "        vertical-align: top;\n",
              "    }\n",
              "\n",
              "    .dataframe thead th {\n",
              "        text-align: right;\n",
              "    }\n",
              "</style>\n",
              "<table border=\"1\" class=\"dataframe\">\n",
              "  <thead>\n",
              "    <tr style=\"text-align: right;\">\n",
              "      <th></th>\n",
              "      <th>Metrio City</th>\n",
              "      <th>non-metro cities</th>\n",
              "    </tr>\n",
              "  </thead>\n",
              "  <tbody>\n",
              "    <tr>\n",
              "      <th>0</th>\n",
              "      <td>Mumbai</td>\n",
              "      <td>Dehradun</td>\n",
              "    </tr>\n",
              "    <tr>\n",
              "      <th>1</th>\n",
              "      <td>Delhi</td>\n",
              "      <td>Durgapur</td>\n",
              "    </tr>\n",
              "    <tr>\n",
              "      <th>2</th>\n",
              "      <td>Kolkata</td>\n",
              "      <td>Asansol</td>\n",
              "    </tr>\n",
              "    <tr>\n",
              "      <th>3</th>\n",
              "      <td>Chennai</td>\n",
              "      <td>Rourkela</td>\n",
              "    </tr>\n",
              "    <tr>\n",
              "      <th>4</th>\n",
              "      <td>Bangalore</td>\n",
              "      <td>Kozhikode</td>\n",
              "    </tr>\n",
              "  </tbody>\n",
              "</table>\n",
              "</div>\n",
              "    <div class=\"colab-df-buttons\">\n",
              "\n",
              "  <div class=\"colab-df-container\">\n",
              "    <button class=\"colab-df-convert\" onclick=\"convertToInteractive('df-57356fcd-dae2-4b65-9e39-883473095692')\"\n",
              "            title=\"Convert this dataframe to an interactive table.\"\n",
              "            style=\"display:none;\">\n",
              "\n",
              "  <svg xmlns=\"http://www.w3.org/2000/svg\" height=\"24px\" viewBox=\"0 -960 960 960\">\n",
              "    <path d=\"M120-120v-720h720v720H120Zm60-500h600v-160H180v160Zm220 220h160v-160H400v160Zm0 220h160v-160H400v160ZM180-400h160v-160H180v160Zm440 0h160v-160H620v160ZM180-180h160v-160H180v160Zm440 0h160v-160H620v160Z\"/>\n",
              "  </svg>\n",
              "    </button>\n",
              "\n",
              "  <style>\n",
              "    .colab-df-container {\n",
              "      display:flex;\n",
              "      gap: 12px;\n",
              "    }\n",
              "\n",
              "    .colab-df-convert {\n",
              "      background-color: #E8F0FE;\n",
              "      border: none;\n",
              "      border-radius: 50%;\n",
              "      cursor: pointer;\n",
              "      display: none;\n",
              "      fill: #1967D2;\n",
              "      height: 32px;\n",
              "      padding: 0 0 0 0;\n",
              "      width: 32px;\n",
              "    }\n",
              "\n",
              "    .colab-df-convert:hover {\n",
              "      background-color: #E2EBFA;\n",
              "      box-shadow: 0px 1px 2px rgba(60, 64, 67, 0.3), 0px 1px 3px 1px rgba(60, 64, 67, 0.15);\n",
              "      fill: #174EA6;\n",
              "    }\n",
              "\n",
              "    .colab-df-buttons div {\n",
              "      margin-bottom: 4px;\n",
              "    }\n",
              "\n",
              "    [theme=dark] .colab-df-convert {\n",
              "      background-color: #3B4455;\n",
              "      fill: #D2E3FC;\n",
              "    }\n",
              "\n",
              "    [theme=dark] .colab-df-convert:hover {\n",
              "      background-color: #434B5C;\n",
              "      box-shadow: 0px 1px 3px 1px rgba(0, 0, 0, 0.15);\n",
              "      filter: drop-shadow(0px 1px 2px rgba(0, 0, 0, 0.3));\n",
              "      fill: #FFFFFF;\n",
              "    }\n",
              "  </style>\n",
              "\n",
              "    <script>\n",
              "      const buttonEl =\n",
              "        document.querySelector('#df-57356fcd-dae2-4b65-9e39-883473095692 button.colab-df-convert');\n",
              "      buttonEl.style.display =\n",
              "        google.colab.kernel.accessAllowed ? 'block' : 'none';\n",
              "\n",
              "      async function convertToInteractive(key) {\n",
              "        const element = document.querySelector('#df-57356fcd-dae2-4b65-9e39-883473095692');\n",
              "        const dataTable =\n",
              "          await google.colab.kernel.invokeFunction('convertToInteractive',\n",
              "                                                    [key], {});\n",
              "        if (!dataTable) return;\n",
              "\n",
              "        const docLinkHtml = 'Like what you see? Visit the ' +\n",
              "          '<a target=\"_blank\" href=https://colab.research.google.com/notebooks/data_table.ipynb>data table notebook</a>'\n",
              "          + ' to learn more about interactive tables.';\n",
              "        element.innerHTML = '';\n",
              "        dataTable['output_type'] = 'display_data';\n",
              "        await google.colab.output.renderOutput(dataTable, element);\n",
              "        const docLink = document.createElement('div');\n",
              "        docLink.innerHTML = docLinkHtml;\n",
              "        element.appendChild(docLink);\n",
              "      }\n",
              "    </script>\n",
              "  </div>\n",
              "\n",
              "\n",
              "<div id=\"df-0226d8a7-5eaa-4f70-80c3-390ce8991874\">\n",
              "  <button class=\"colab-df-quickchart\" onclick=\"quickchart('df-0226d8a7-5eaa-4f70-80c3-390ce8991874')\"\n",
              "            title=\"Suggest charts\"\n",
              "            style=\"display:none;\">\n",
              "\n",
              "<svg xmlns=\"http://www.w3.org/2000/svg\" height=\"24px\"viewBox=\"0 0 24 24\"\n",
              "     width=\"24px\">\n",
              "    <g>\n",
              "        <path d=\"M19 3H5c-1.1 0-2 .9-2 2v14c0 1.1.9 2 2 2h14c1.1 0 2-.9 2-2V5c0-1.1-.9-2-2-2zM9 17H7v-7h2v7zm4 0h-2V7h2v10zm4 0h-2v-4h2v4z\"/>\n",
              "    </g>\n",
              "</svg>\n",
              "  </button>\n",
              "\n",
              "<style>\n",
              "  .colab-df-quickchart {\n",
              "      --bg-color: #E8F0FE;\n",
              "      --fill-color: #1967D2;\n",
              "      --hover-bg-color: #E2EBFA;\n",
              "      --hover-fill-color: #174EA6;\n",
              "      --disabled-fill-color: #AAA;\n",
              "      --disabled-bg-color: #DDD;\n",
              "  }\n",
              "\n",
              "  [theme=dark] .colab-df-quickchart {\n",
              "      --bg-color: #3B4455;\n",
              "      --fill-color: #D2E3FC;\n",
              "      --hover-bg-color: #434B5C;\n",
              "      --hover-fill-color: #FFFFFF;\n",
              "      --disabled-bg-color: #3B4455;\n",
              "      --disabled-fill-color: #666;\n",
              "  }\n",
              "\n",
              "  .colab-df-quickchart {\n",
              "    background-color: var(--bg-color);\n",
              "    border: none;\n",
              "    border-radius: 50%;\n",
              "    cursor: pointer;\n",
              "    display: none;\n",
              "    fill: var(--fill-color);\n",
              "    height: 32px;\n",
              "    padding: 0;\n",
              "    width: 32px;\n",
              "  }\n",
              "\n",
              "  .colab-df-quickchart:hover {\n",
              "    background-color: var(--hover-bg-color);\n",
              "    box-shadow: 0 1px 2px rgba(60, 64, 67, 0.3), 0 1px 3px 1px rgba(60, 64, 67, 0.15);\n",
              "    fill: var(--button-hover-fill-color);\n",
              "  }\n",
              "\n",
              "  .colab-df-quickchart-complete:disabled,\n",
              "  .colab-df-quickchart-complete:disabled:hover {\n",
              "    background-color: var(--disabled-bg-color);\n",
              "    fill: var(--disabled-fill-color);\n",
              "    box-shadow: none;\n",
              "  }\n",
              "\n",
              "  .colab-df-spinner {\n",
              "    border: 2px solid var(--fill-color);\n",
              "    border-color: transparent;\n",
              "    border-bottom-color: var(--fill-color);\n",
              "    animation:\n",
              "      spin 1s steps(1) infinite;\n",
              "  }\n",
              "\n",
              "  @keyframes spin {\n",
              "    0% {\n",
              "      border-color: transparent;\n",
              "      border-bottom-color: var(--fill-color);\n",
              "      border-left-color: var(--fill-color);\n",
              "    }\n",
              "    20% {\n",
              "      border-color: transparent;\n",
              "      border-left-color: var(--fill-color);\n",
              "      border-top-color: var(--fill-color);\n",
              "    }\n",
              "    30% {\n",
              "      border-color: transparent;\n",
              "      border-left-color: var(--fill-color);\n",
              "      border-top-color: var(--fill-color);\n",
              "      border-right-color: var(--fill-color);\n",
              "    }\n",
              "    40% {\n",
              "      border-color: transparent;\n",
              "      border-right-color: var(--fill-color);\n",
              "      border-top-color: var(--fill-color);\n",
              "    }\n",
              "    60% {\n",
              "      border-color: transparent;\n",
              "      border-right-color: var(--fill-color);\n",
              "    }\n",
              "    80% {\n",
              "      border-color: transparent;\n",
              "      border-right-color: var(--fill-color);\n",
              "      border-bottom-color: var(--fill-color);\n",
              "    }\n",
              "    90% {\n",
              "      border-color: transparent;\n",
              "      border-bottom-color: var(--fill-color);\n",
              "    }\n",
              "  }\n",
              "</style>\n",
              "\n",
              "  <script>\n",
              "    async function quickchart(key) {\n",
              "      const quickchartButtonEl =\n",
              "        document.querySelector('#' + key + ' button');\n",
              "      quickchartButtonEl.disabled = true;  // To prevent multiple clicks.\n",
              "      quickchartButtonEl.classList.add('colab-df-spinner');\n",
              "      try {\n",
              "        const charts = await google.colab.kernel.invokeFunction(\n",
              "            'suggestCharts', [key], {});\n",
              "      } catch (error) {\n",
              "        console.error('Error during call to suggestCharts:', error);\n",
              "      }\n",
              "      quickchartButtonEl.classList.remove('colab-df-spinner');\n",
              "      quickchartButtonEl.classList.add('colab-df-quickchart-complete');\n",
              "    }\n",
              "    (() => {\n",
              "      let quickchartButtonEl =\n",
              "        document.querySelector('#df-0226d8a7-5eaa-4f70-80c3-390ce8991874 button');\n",
              "      quickchartButtonEl.style.display =\n",
              "        google.colab.kernel.accessAllowed ? 'block' : 'none';\n",
              "    })();\n",
              "  </script>\n",
              "</div>\n",
              "\n",
              "    </div>\n",
              "  </div>\n"
            ],
            "application/vnd.google.colaboratory.intrinsic+json": {
              "type": "dataframe",
              "variable_name": "cities",
              "summary": "{\n  \"name\": \"cities\",\n  \"rows\": 9,\n  \"fields\": [\n    {\n      \"column\": \"Metrio City\",\n      \"properties\": {\n        \"dtype\": \"string\",\n        \"num_unique_values\": 9,\n        \"samples\": [\n          \"Pune\",\n          \"Delhi\",\n          \"Hyderabad\"\n        ],\n        \"semantic_type\": \"\",\n        \"description\": \"\"\n      }\n    },\n    {\n      \"column\": \"non-metro cities\",\n      \"properties\": {\n        \"dtype\": \"string\",\n        \"num_unique_values\": 8,\n        \"samples\": [\n          \"Durgapur\",\n          \"Rajpur Sonarpur\",\n          \"Dehradun\"\n        ],\n        \"semantic_type\": \"\",\n        \"description\": \"\"\n      }\n    }\n  ]\n}"
            }
          },
          "metadata": {},
          "execution_count": 7
        }
      ],
      "source": [
        "cities.head()"
      ]
    },
    {
      "cell_type": "code",
      "execution_count": 8,
      "id": "5cfb32e3-d9bd-4d7c-8a6c-88f8a0fd52a8",
      "metadata": {
        "id": "5cfb32e3-d9bd-4d7c-8a6c-88f8a0fd52a8"
      },
      "outputs": [],
      "source": [
        "# Converting Tier 1, Tier 2 and Tier 3 from colleges dataframe to list\n",
        "\n",
        "Tier1=colleges[\"Tier 1\"].tolist()\n",
        "Tier1=[item for item in Tier1 if str(item) != 'nan']\n",
        "Tier2=colleges[\"Tier 2\"].tolist()\n",
        "Tier2=[item for item in Tier2 if str(item) != 'nan']\n",
        "Tier3=colleges[\"Tier 3\"].tolist()\n",
        "Tier3=[item for item in Tier3 if str(item) != 'nan']"
      ]
    },
    {
      "cell_type": "code",
      "execution_count": 9,
      "id": "207a6785-8f78-4c3d-8b35-397e9477886f",
      "metadata": {
        "colab": {
          "base_uri": "https://localhost:8080/"
        },
        "id": "207a6785-8f78-4c3d-8b35-397e9477886f",
        "outputId": "eed2fb97-269c-44d0-c1e4-0ac5391fc34c"
      },
      "outputs": [
        {
          "output_type": "execute_result",
          "data": {
            "text/plain": [
              "['IIT Bombay',\n",
              " 'IIT Delhi',\n",
              " 'IIT Kharagpur',\n",
              " 'IIT Madras',\n",
              " 'IIT Kanpur',\n",
              " 'IIT Roorkee',\n",
              " 'IIT Guwahati',\n",
              " 'IIIT Hyderabad',\n",
              " 'BITS Pilani (Pilani Campus)',\n",
              " 'IIT Indore',\n",
              " 'IIT Ropar',\n",
              " 'IIT BHU (Varanasi)',\n",
              " 'IIT ISM Dhanbad',\n",
              " 'DTU',\n",
              " 'NSUT Delhi (NSIT)',\n",
              " 'NIT Tiruchipally (Trichy)',\n",
              " 'NIT Warangal',\n",
              " 'NIT Surathkal (Karnataka)',\n",
              " 'Jadavpur University',\n",
              " 'BITS Pilani (Hyderabad Campus)',\n",
              " 'BITS Pilani (Goa Campus)',\n",
              " 'IIIT Allahabad']"
            ]
          },
          "metadata": {},
          "execution_count": 9
        }
      ],
      "source": [
        "Tier1"
      ]
    },
    {
      "cell_type": "code",
      "execution_count": 10,
      "id": "86883406-f547-450e-a82f-386ce812dd5c",
      "metadata": {
        "colab": {
          "base_uri": "https://localhost:8080/"
        },
        "id": "86883406-f547-450e-a82f-386ce812dd5c",
        "outputId": "d1044713-ee71-43b7-8f7b-cce6d688f680"
      },
      "outputs": [
        {
          "output_type": "execute_result",
          "data": {
            "text/plain": [
              "['IIIT Bangalore',\n",
              " 'IIIT Delhi',\n",
              " 'IGDTUW',\n",
              " 'NIT Calicut',\n",
              " 'IIITM Gwalior',\n",
              " 'IIIT Lucknow',\n",
              " 'MNNIT Allahabad',\n",
              " 'Punjab Engineering College',\n",
              " 'DAIICT',\n",
              " 'MNIT Jaipur',\n",
              " 'NIT Durgapur',\n",
              " 'VNIT Nagpur',\n",
              " 'LNMIIT',\n",
              " 'BIT Mesra',\n",
              " 'SVNIT Surat',\n",
              " 'NIT Jalandhar',\n",
              " 'NIT Jamshedpur',\n",
              " 'NIT Kurukshetra',\n",
              " 'NIT Patna',\n",
              " 'NIT Raipur',\n",
              " 'NIT Bhopal',\n",
              " 'NIT Rourkela',\n",
              " 'NIT Silchar',\n",
              " 'NIT Sikkim',\n",
              " 'IIIT Jabalpur',\n",
              " 'Jalpaiguri Government Engineering College',\n",
              " 'IIEST/BESU Shibpur',\n",
              " 'R.V. College of Engineering']"
            ]
          },
          "metadata": {},
          "execution_count": 10
        }
      ],
      "source": [
        "Tier2"
      ]
    },
    {
      "cell_type": "code",
      "execution_count": 11,
      "id": "e5a43c72-a6c8-4735-83c4-24ee27be1d54",
      "metadata": {
        "colab": {
          "base_uri": "https://localhost:8080/"
        },
        "id": "e5a43c72-a6c8-4735-83c4-24ee27be1d54",
        "outputId": "faffc887-b9b7-4669-8f9b-73953c7d61e4"
      },
      "outputs": [
        {
          "output_type": "execute_result",
          "data": {
            "text/plain": [
              "['Ramaiah Institute of Technology, Bengaluru',\n",
              " 'TIET/Thapar University',\n",
              " 'Manipal Main Campus',\n",
              " 'VIT Vellore',\n",
              " 'SRM Main Campus',\n",
              " 'KIIT, Bhubaneswar',\n",
              " 'Amity University',\n",
              " 'BMS College, Bangalore',\n",
              " 'PES University, Bangalore',\n",
              " 'USIT, Delhi',\n",
              " 'MAIT, Delhi',\n",
              " 'MSIT, Delhi',\n",
              " 'Dayanand College of Engineering, Bangalore',\n",
              " 'Heritage Institute of Technology, Kolkata',\n",
              " 'IEM, Kolkata',\n",
              " 'Techno India, Kolkata',\n",
              " 'Jaypee, Noida',\n",
              " 'Amrita University, Coimbatore',\n",
              " 'Cummins College of Engineering for Women, Pune']"
            ]
          },
          "metadata": {},
          "execution_count": 11
        }
      ],
      "source": [
        "Tier3"
      ]
    },
    {
      "cell_type": "code",
      "execution_count": 12,
      "id": "2d2556b4-72ba-409c-a017-8c8580cdba47",
      "metadata": {
        "id": "2d2556b4-72ba-409c-a017-8c8580cdba47"
      },
      "outputs": [],
      "source": [
        "# Converting the values from list into Tier1=1, Tier2=2 and Tier3=3\n",
        "\n",
        "for item in df['College']:\n",
        "    if item in Tier1:\n",
        "        df['College'].replace(item, 1, inplace=True)\n",
        "    elif item in Tier2:\n",
        "        df['College'].replace(item, 2, inplace=True)\n",
        "    elif item in Tier3:\n",
        "        df['College'].replace(item, 3, inplace=True)"
      ]
    },
    {
      "cell_type": "code",
      "execution_count": 13,
      "id": "a7655fa3-4e77-4816-96f6-f42d41f6b6e7",
      "metadata": {
        "id": "a7655fa3-4e77-4816-96f6-f42d41f6b6e7"
      },
      "outputs": [],
      "source": [
        "# Converting Metro City and non-metro cities from cities to list\n",
        "\n",
        "metro=cities[\"Metrio City\"].tolist()\n",
        "metro=[item for item in metro if str(item) != 'nan']\n",
        "non_metro=cities[\"non-metro cities\"].tolist()\n",
        "non_metro=[item for item in non_metro if str(item) != 'nan']"
      ]
    },
    {
      "cell_type": "code",
      "execution_count": 14,
      "id": "3233de4e-d05d-4d13-afd5-952f84937d73",
      "metadata": {
        "id": "3233de4e-d05d-4d13-afd5-952f84937d73"
      },
      "outputs": [],
      "source": [
        "# Converting the values from list into metro=1 and non_metro=0\n",
        "\n",
        "for item in df['City']:\n",
        "    if item in metro:\n",
        "        df['City'].replace(item, 1, inplace=True)\n",
        "    elif item in non_metro:\n",
        "        df['City'].replace(item, 0, inplace=True)"
      ]
    },
    {
      "cell_type": "code",
      "execution_count": 15,
      "id": "46e0dd73-1be2-4a3d-a6a0-f99c6625ee2d",
      "metadata": {
        "colab": {
          "base_uri": "https://localhost:8080/",
          "height": 335
        },
        "id": "46e0dd73-1be2-4a3d-a6a0-f99c6625ee2d",
        "outputId": "176d40e2-bee0-4349-8e04-419b38459bd7"
      },
      "outputs": [
        {
          "output_type": "execute_result",
          "data": {
            "text/plain": [
              "College                0\n",
              "City                   0\n",
              "Role                   0\n",
              "Previous CTC           0\n",
              "Previous job change    0\n",
              "Graduation Marks       0\n",
              "EXP (Month)            0\n",
              "CTC                    0\n",
              "dtype: int64"
            ],
            "text/html": [
              "<div>\n",
              "<style scoped>\n",
              "    .dataframe tbody tr th:only-of-type {\n",
              "        vertical-align: middle;\n",
              "    }\n",
              "\n",
              "    .dataframe tbody tr th {\n",
              "        vertical-align: top;\n",
              "    }\n",
              "\n",
              "    .dataframe thead th {\n",
              "        text-align: right;\n",
              "    }\n",
              "</style>\n",
              "<table border=\"1\" class=\"dataframe\">\n",
              "  <thead>\n",
              "    <tr style=\"text-align: right;\">\n",
              "      <th></th>\n",
              "      <th>0</th>\n",
              "    </tr>\n",
              "  </thead>\n",
              "  <tbody>\n",
              "    <tr>\n",
              "      <th>College</th>\n",
              "      <td>0</td>\n",
              "    </tr>\n",
              "    <tr>\n",
              "      <th>City</th>\n",
              "      <td>0</td>\n",
              "    </tr>\n",
              "    <tr>\n",
              "      <th>Role</th>\n",
              "      <td>0</td>\n",
              "    </tr>\n",
              "    <tr>\n",
              "      <th>Previous CTC</th>\n",
              "      <td>0</td>\n",
              "    </tr>\n",
              "    <tr>\n",
              "      <th>Previous job change</th>\n",
              "      <td>0</td>\n",
              "    </tr>\n",
              "    <tr>\n",
              "      <th>Graduation Marks</th>\n",
              "      <td>0</td>\n",
              "    </tr>\n",
              "    <tr>\n",
              "      <th>EXP (Month)</th>\n",
              "      <td>0</td>\n",
              "    </tr>\n",
              "    <tr>\n",
              "      <th>CTC</th>\n",
              "      <td>0</td>\n",
              "    </tr>\n",
              "  </tbody>\n",
              "</table>\n",
              "</div><br><label><b>dtype:</b> int64</label>"
            ]
          },
          "metadata": {},
          "execution_count": 15
        }
      ],
      "source": [
        "# Checking null values\n",
        "\n",
        "df.isnull().sum()"
      ]
    },
    {
      "cell_type": "code",
      "execution_count": 16,
      "id": "c3c29a52-af8d-447f-871e-789ea670b0a9",
      "metadata": {
        "colab": {
          "base_uri": "https://localhost:8080/"
        },
        "id": "c3c29a52-af8d-447f-871e-789ea670b0a9",
        "outputId": "11e3b816-c1c1-4b17-ddbf-7db595686b25"
      },
      "outputs": [
        {
          "output_type": "execute_result",
          "data": {
            "text/plain": [
              "(1589, 8)"
            ]
          },
          "metadata": {},
          "execution_count": 16
        }
      ],
      "source": [
        "df.shape"
      ]
    },
    {
      "cell_type": "code",
      "execution_count": 17,
      "id": "8e499db7-e901-4110-9ecd-9bca1cf5071f",
      "metadata": {
        "colab": {
          "base_uri": "https://localhost:8080/"
        },
        "id": "8e499db7-e901-4110-9ecd-9bca1cf5071f",
        "outputId": "be5cac0a-7769-4303-8618-12e5636ef936"
      },
      "outputs": [
        {
          "output_type": "stream",
          "name": "stdout",
          "text": [
            "<class 'pandas.core.frame.DataFrame'>\n",
            "RangeIndex: 1589 entries, 0 to 1588\n",
            "Data columns (total 8 columns):\n",
            " #   Column               Non-Null Count  Dtype  \n",
            "---  ------               --------------  -----  \n",
            " 0   College              1589 non-null   int64  \n",
            " 1   City                 1589 non-null   int64  \n",
            " 2   Role                 1589 non-null   object \n",
            " 3   Previous CTC         1589 non-null   float64\n",
            " 4   Previous job change  1589 non-null   int64  \n",
            " 5   Graduation Marks     1589 non-null   int64  \n",
            " 6   EXP (Month)          1589 non-null   int64  \n",
            " 7   CTC                  1589 non-null   float64\n",
            "dtypes: float64(2), int64(5), object(1)\n",
            "memory usage: 99.4+ KB\n"
          ]
        }
      ],
      "source": [
        "# Information aboot the data\n",
        "\n",
        "df.info()"
      ]
    },
    {
      "cell_type": "code",
      "execution_count": 18,
      "id": "8b275057-5560-454a-a223-be27696dfb13",
      "metadata": {
        "colab": {
          "base_uri": "https://localhost:8080/",
          "height": 300
        },
        "id": "8b275057-5560-454a-a223-be27696dfb13",
        "outputId": "d4ada717-8735-4606-e071-da8bfa6e6bc9"
      },
      "outputs": [
        {
          "output_type": "execute_result",
          "data": {
            "text/plain": [
              "           College         City  Previous CTC  Previous job change  \\\n",
              "count  1589.000000  1589.000000   1589.000000          1589.000000   \n",
              "mean      1.975456     0.514160  55518.453744             2.528634   \n",
              "std       0.838330     0.499957   6655.218445             1.123918   \n",
              "min       1.000000     0.000000  36990.000000             1.000000   \n",
              "25%       1.000000     0.000000  50518.000000             2.000000   \n",
              "50%       2.000000     1.000000  55291.000000             3.000000   \n",
              "75%       3.000000     1.000000  60109.000000             4.000000   \n",
              "max       3.000000     1.000000  77911.000000             4.000000   \n",
              "\n",
              "       Graduation Marks  EXP (Month)            CTC  \n",
              "count       1589.000000  1589.000000    1589.000000  \n",
              "mean          59.855255    39.044682   75353.278798  \n",
              "std           14.935139    14.108875   12587.288237  \n",
              "min           35.000000    18.000000   53020.320000  \n",
              "25%           46.000000    26.000000   66902.350000  \n",
              "50%           60.000000    39.000000   73028.670000  \n",
              "75%           73.000000    51.000000   80588.670000  \n",
              "max           85.000000    64.000000  123416.990000  "
            ],
            "text/html": [
              "\n",
              "  <div id=\"df-3ddac525-3fce-4b3a-82ac-3ad8e758caed\" class=\"colab-df-container\">\n",
              "    <div>\n",
              "<style scoped>\n",
              "    .dataframe tbody tr th:only-of-type {\n",
              "        vertical-align: middle;\n",
              "    }\n",
              "\n",
              "    .dataframe tbody tr th {\n",
              "        vertical-align: top;\n",
              "    }\n",
              "\n",
              "    .dataframe thead th {\n",
              "        text-align: right;\n",
              "    }\n",
              "</style>\n",
              "<table border=\"1\" class=\"dataframe\">\n",
              "  <thead>\n",
              "    <tr style=\"text-align: right;\">\n",
              "      <th></th>\n",
              "      <th>College</th>\n",
              "      <th>City</th>\n",
              "      <th>Previous CTC</th>\n",
              "      <th>Previous job change</th>\n",
              "      <th>Graduation Marks</th>\n",
              "      <th>EXP (Month)</th>\n",
              "      <th>CTC</th>\n",
              "    </tr>\n",
              "  </thead>\n",
              "  <tbody>\n",
              "    <tr>\n",
              "      <th>count</th>\n",
              "      <td>1589.000000</td>\n",
              "      <td>1589.000000</td>\n",
              "      <td>1589.000000</td>\n",
              "      <td>1589.000000</td>\n",
              "      <td>1589.000000</td>\n",
              "      <td>1589.000000</td>\n",
              "      <td>1589.000000</td>\n",
              "    </tr>\n",
              "    <tr>\n",
              "      <th>mean</th>\n",
              "      <td>1.975456</td>\n",
              "      <td>0.514160</td>\n",
              "      <td>55518.453744</td>\n",
              "      <td>2.528634</td>\n",
              "      <td>59.855255</td>\n",
              "      <td>39.044682</td>\n",
              "      <td>75353.278798</td>\n",
              "    </tr>\n",
              "    <tr>\n",
              "      <th>std</th>\n",
              "      <td>0.838330</td>\n",
              "      <td>0.499957</td>\n",
              "      <td>6655.218445</td>\n",
              "      <td>1.123918</td>\n",
              "      <td>14.935139</td>\n",
              "      <td>14.108875</td>\n",
              "      <td>12587.288237</td>\n",
              "    </tr>\n",
              "    <tr>\n",
              "      <th>min</th>\n",
              "      <td>1.000000</td>\n",
              "      <td>0.000000</td>\n",
              "      <td>36990.000000</td>\n",
              "      <td>1.000000</td>\n",
              "      <td>35.000000</td>\n",
              "      <td>18.000000</td>\n",
              "      <td>53020.320000</td>\n",
              "    </tr>\n",
              "    <tr>\n",
              "      <th>25%</th>\n",
              "      <td>1.000000</td>\n",
              "      <td>0.000000</td>\n",
              "      <td>50518.000000</td>\n",
              "      <td>2.000000</td>\n",
              "      <td>46.000000</td>\n",
              "      <td>26.000000</td>\n",
              "      <td>66902.350000</td>\n",
              "    </tr>\n",
              "    <tr>\n",
              "      <th>50%</th>\n",
              "      <td>2.000000</td>\n",
              "      <td>1.000000</td>\n",
              "      <td>55291.000000</td>\n",
              "      <td>3.000000</td>\n",
              "      <td>60.000000</td>\n",
              "      <td>39.000000</td>\n",
              "      <td>73028.670000</td>\n",
              "    </tr>\n",
              "    <tr>\n",
              "      <th>75%</th>\n",
              "      <td>3.000000</td>\n",
              "      <td>1.000000</td>\n",
              "      <td>60109.000000</td>\n",
              "      <td>4.000000</td>\n",
              "      <td>73.000000</td>\n",
              "      <td>51.000000</td>\n",
              "      <td>80588.670000</td>\n",
              "    </tr>\n",
              "    <tr>\n",
              "      <th>max</th>\n",
              "      <td>3.000000</td>\n",
              "      <td>1.000000</td>\n",
              "      <td>77911.000000</td>\n",
              "      <td>4.000000</td>\n",
              "      <td>85.000000</td>\n",
              "      <td>64.000000</td>\n",
              "      <td>123416.990000</td>\n",
              "    </tr>\n",
              "  </tbody>\n",
              "</table>\n",
              "</div>\n",
              "    <div class=\"colab-df-buttons\">\n",
              "\n",
              "  <div class=\"colab-df-container\">\n",
              "    <button class=\"colab-df-convert\" onclick=\"convertToInteractive('df-3ddac525-3fce-4b3a-82ac-3ad8e758caed')\"\n",
              "            title=\"Convert this dataframe to an interactive table.\"\n",
              "            style=\"display:none;\">\n",
              "\n",
              "  <svg xmlns=\"http://www.w3.org/2000/svg\" height=\"24px\" viewBox=\"0 -960 960 960\">\n",
              "    <path d=\"M120-120v-720h720v720H120Zm60-500h600v-160H180v160Zm220 220h160v-160H400v160Zm0 220h160v-160H400v160ZM180-400h160v-160H180v160Zm440 0h160v-160H620v160ZM180-180h160v-160H180v160Zm440 0h160v-160H620v160Z\"/>\n",
              "  </svg>\n",
              "    </button>\n",
              "\n",
              "  <style>\n",
              "    .colab-df-container {\n",
              "      display:flex;\n",
              "      gap: 12px;\n",
              "    }\n",
              "\n",
              "    .colab-df-convert {\n",
              "      background-color: #E8F0FE;\n",
              "      border: none;\n",
              "      border-radius: 50%;\n",
              "      cursor: pointer;\n",
              "      display: none;\n",
              "      fill: #1967D2;\n",
              "      height: 32px;\n",
              "      padding: 0 0 0 0;\n",
              "      width: 32px;\n",
              "    }\n",
              "\n",
              "    .colab-df-convert:hover {\n",
              "      background-color: #E2EBFA;\n",
              "      box-shadow: 0px 1px 2px rgba(60, 64, 67, 0.3), 0px 1px 3px 1px rgba(60, 64, 67, 0.15);\n",
              "      fill: #174EA6;\n",
              "    }\n",
              "\n",
              "    .colab-df-buttons div {\n",
              "      margin-bottom: 4px;\n",
              "    }\n",
              "\n",
              "    [theme=dark] .colab-df-convert {\n",
              "      background-color: #3B4455;\n",
              "      fill: #D2E3FC;\n",
              "    }\n",
              "\n",
              "    [theme=dark] .colab-df-convert:hover {\n",
              "      background-color: #434B5C;\n",
              "      box-shadow: 0px 1px 3px 1px rgba(0, 0, 0, 0.15);\n",
              "      filter: drop-shadow(0px 1px 2px rgba(0, 0, 0, 0.3));\n",
              "      fill: #FFFFFF;\n",
              "    }\n",
              "  </style>\n",
              "\n",
              "    <script>\n",
              "      const buttonEl =\n",
              "        document.querySelector('#df-3ddac525-3fce-4b3a-82ac-3ad8e758caed button.colab-df-convert');\n",
              "      buttonEl.style.display =\n",
              "        google.colab.kernel.accessAllowed ? 'block' : 'none';\n",
              "\n",
              "      async function convertToInteractive(key) {\n",
              "        const element = document.querySelector('#df-3ddac525-3fce-4b3a-82ac-3ad8e758caed');\n",
              "        const dataTable =\n",
              "          await google.colab.kernel.invokeFunction('convertToInteractive',\n",
              "                                                    [key], {});\n",
              "        if (!dataTable) return;\n",
              "\n",
              "        const docLinkHtml = 'Like what you see? Visit the ' +\n",
              "          '<a target=\"_blank\" href=https://colab.research.google.com/notebooks/data_table.ipynb>data table notebook</a>'\n",
              "          + ' to learn more about interactive tables.';\n",
              "        element.innerHTML = '';\n",
              "        dataTable['output_type'] = 'display_data';\n",
              "        await google.colab.output.renderOutput(dataTable, element);\n",
              "        const docLink = document.createElement('div');\n",
              "        docLink.innerHTML = docLinkHtml;\n",
              "        element.appendChild(docLink);\n",
              "      }\n",
              "    </script>\n",
              "  </div>\n",
              "\n",
              "\n",
              "<div id=\"df-e35a555a-d63e-4524-8f21-f1e92a7111c8\">\n",
              "  <button class=\"colab-df-quickchart\" onclick=\"quickchart('df-e35a555a-d63e-4524-8f21-f1e92a7111c8')\"\n",
              "            title=\"Suggest charts\"\n",
              "            style=\"display:none;\">\n",
              "\n",
              "<svg xmlns=\"http://www.w3.org/2000/svg\" height=\"24px\"viewBox=\"0 0 24 24\"\n",
              "     width=\"24px\">\n",
              "    <g>\n",
              "        <path d=\"M19 3H5c-1.1 0-2 .9-2 2v14c0 1.1.9 2 2 2h14c1.1 0 2-.9 2-2V5c0-1.1-.9-2-2-2zM9 17H7v-7h2v7zm4 0h-2V7h2v10zm4 0h-2v-4h2v4z\"/>\n",
              "    </g>\n",
              "</svg>\n",
              "  </button>\n",
              "\n",
              "<style>\n",
              "  .colab-df-quickchart {\n",
              "      --bg-color: #E8F0FE;\n",
              "      --fill-color: #1967D2;\n",
              "      --hover-bg-color: #E2EBFA;\n",
              "      --hover-fill-color: #174EA6;\n",
              "      --disabled-fill-color: #AAA;\n",
              "      --disabled-bg-color: #DDD;\n",
              "  }\n",
              "\n",
              "  [theme=dark] .colab-df-quickchart {\n",
              "      --bg-color: #3B4455;\n",
              "      --fill-color: #D2E3FC;\n",
              "      --hover-bg-color: #434B5C;\n",
              "      --hover-fill-color: #FFFFFF;\n",
              "      --disabled-bg-color: #3B4455;\n",
              "      --disabled-fill-color: #666;\n",
              "  }\n",
              "\n",
              "  .colab-df-quickchart {\n",
              "    background-color: var(--bg-color);\n",
              "    border: none;\n",
              "    border-radius: 50%;\n",
              "    cursor: pointer;\n",
              "    display: none;\n",
              "    fill: var(--fill-color);\n",
              "    height: 32px;\n",
              "    padding: 0;\n",
              "    width: 32px;\n",
              "  }\n",
              "\n",
              "  .colab-df-quickchart:hover {\n",
              "    background-color: var(--hover-bg-color);\n",
              "    box-shadow: 0 1px 2px rgba(60, 64, 67, 0.3), 0 1px 3px 1px rgba(60, 64, 67, 0.15);\n",
              "    fill: var(--button-hover-fill-color);\n",
              "  }\n",
              "\n",
              "  .colab-df-quickchart-complete:disabled,\n",
              "  .colab-df-quickchart-complete:disabled:hover {\n",
              "    background-color: var(--disabled-bg-color);\n",
              "    fill: var(--disabled-fill-color);\n",
              "    box-shadow: none;\n",
              "  }\n",
              "\n",
              "  .colab-df-spinner {\n",
              "    border: 2px solid var(--fill-color);\n",
              "    border-color: transparent;\n",
              "    border-bottom-color: var(--fill-color);\n",
              "    animation:\n",
              "      spin 1s steps(1) infinite;\n",
              "  }\n",
              "\n",
              "  @keyframes spin {\n",
              "    0% {\n",
              "      border-color: transparent;\n",
              "      border-bottom-color: var(--fill-color);\n",
              "      border-left-color: var(--fill-color);\n",
              "    }\n",
              "    20% {\n",
              "      border-color: transparent;\n",
              "      border-left-color: var(--fill-color);\n",
              "      border-top-color: var(--fill-color);\n",
              "    }\n",
              "    30% {\n",
              "      border-color: transparent;\n",
              "      border-left-color: var(--fill-color);\n",
              "      border-top-color: var(--fill-color);\n",
              "      border-right-color: var(--fill-color);\n",
              "    }\n",
              "    40% {\n",
              "      border-color: transparent;\n",
              "      border-right-color: var(--fill-color);\n",
              "      border-top-color: var(--fill-color);\n",
              "    }\n",
              "    60% {\n",
              "      border-color: transparent;\n",
              "      border-right-color: var(--fill-color);\n",
              "    }\n",
              "    80% {\n",
              "      border-color: transparent;\n",
              "      border-right-color: var(--fill-color);\n",
              "      border-bottom-color: var(--fill-color);\n",
              "    }\n",
              "    90% {\n",
              "      border-color: transparent;\n",
              "      border-bottom-color: var(--fill-color);\n",
              "    }\n",
              "  }\n",
              "</style>\n",
              "\n",
              "  <script>\n",
              "    async function quickchart(key) {\n",
              "      const quickchartButtonEl =\n",
              "        document.querySelector('#' + key + ' button');\n",
              "      quickchartButtonEl.disabled = true;  // To prevent multiple clicks.\n",
              "      quickchartButtonEl.classList.add('colab-df-spinner');\n",
              "      try {\n",
              "        const charts = await google.colab.kernel.invokeFunction(\n",
              "            'suggestCharts', [key], {});\n",
              "      } catch (error) {\n",
              "        console.error('Error during call to suggestCharts:', error);\n",
              "      }\n",
              "      quickchartButtonEl.classList.remove('colab-df-spinner');\n",
              "      quickchartButtonEl.classList.add('colab-df-quickchart-complete');\n",
              "    }\n",
              "    (() => {\n",
              "      let quickchartButtonEl =\n",
              "        document.querySelector('#df-e35a555a-d63e-4524-8f21-f1e92a7111c8 button');\n",
              "      quickchartButtonEl.style.display =\n",
              "        google.colab.kernel.accessAllowed ? 'block' : 'none';\n",
              "    })();\n",
              "  </script>\n",
              "</div>\n",
              "\n",
              "    </div>\n",
              "  </div>\n"
            ],
            "application/vnd.google.colaboratory.intrinsic+json": {
              "type": "dataframe",
              "summary": "{\n  \"name\": \"df\",\n  \"rows\": 8,\n  \"fields\": [\n    {\n      \"column\": \"College\",\n      \"properties\": {\n        \"dtype\": \"number\",\n        \"std\": 561.1497991196029,\n        \"min\": 0.8383303223381033,\n        \"max\": 1589.0,\n        \"num_unique_values\": 6,\n        \"samples\": [\n          1589.0,\n          1.975456261799874,\n          3.0\n        ],\n        \"semantic_type\": \"\",\n        \"description\": \"\"\n      }\n    },\n    {\n      \"column\": \"City\",\n      \"properties\": {\n        \"dtype\": \"number\",\n        \"std\": 561.5937483545358,\n        \"min\": 0.0,\n        \"max\": 1589.0,\n        \"num_unique_values\": 5,\n        \"samples\": [\n          0.514159848961611,\n          1.0,\n          0.4999568012814549\n        ],\n        \"semantic_type\": \"\",\n        \"description\": \"\"\n      }\n    },\n    {\n      \"column\": \"Previous CTC\",\n      \"properties\": {\n        \"dtype\": \"number\",\n        \"std\": 26585.947860831344,\n        \"min\": 1589.0,\n        \"max\": 77911.0,\n        \"num_unique_values\": 8,\n        \"samples\": [\n          55518.45374449339,\n          55291.0,\n          1589.0\n        ],\n        \"semantic_type\": \"\",\n        \"description\": \"\"\n      }\n    },\n    {\n      \"column\": \"Previous job change\",\n      \"properties\": {\n        \"dtype\": \"number\",\n        \"std\": 560.9059132103883,\n        \"min\": 1.0,\n        \"max\": 1589.0,\n        \"num_unique_values\": 7,\n        \"samples\": [\n          1589.0,\n          2.5286343612334803,\n          3.0\n        ],\n        \"semantic_type\": \"\",\n        \"description\": \"\"\n      }\n    },\n    {\n      \"column\": \"Graduation Marks\",\n      \"properties\": {\n        \"dtype\": \"number\",\n        \"std\": 543.3564265047012,\n        \"min\": 14.935139127045003,\n        \"max\": 1589.0,\n        \"num_unique_values\": 8,\n        \"samples\": [\n          59.85525487728131,\n          60.0,\n          1589.0\n        ],\n        \"semantic_type\": \"\",\n        \"description\": \"\"\n      }\n    },\n    {\n      \"column\": \"EXP (Month)\",\n      \"properties\": {\n        \"dtype\": \"number\",\n        \"std\": 549.3622157222962,\n        \"min\": 14.10887468276335,\n        \"max\": 1589.0,\n        \"num_unique_values\": 8,\n        \"samples\": [\n          39.04468219005664,\n          39.0,\n          1589.0\n        ],\n        \"semantic_type\": \"\",\n        \"description\": \"\"\n      }\n    },\n    {\n      \"column\": \"CTC\",\n      \"properties\": {\n        \"dtype\": \"number\",\n        \"std\": 38917.47027265689,\n        \"min\": 1589.0,\n        \"max\": 123416.99,\n        \"num_unique_values\": 8,\n        \"samples\": [\n          75353.27879798615,\n          73028.67,\n          1589.0\n        ],\n        \"semantic_type\": \"\",\n        \"description\": \"\"\n      }\n    }\n  ]\n}"
            }
          },
          "metadata": {},
          "execution_count": 18
        }
      ],
      "source": [
        "df.describe()"
      ]
    },
    {
      "cell_type": "code",
      "execution_count": 19,
      "id": "cdd297d5-3b26-4016-95f9-251acb6f9aba",
      "metadata": {
        "id": "cdd297d5-3b26-4016-95f9-251acb6f9aba"
      },
      "outputs": [],
      "source": [
        "df=pd.get_dummies(df, drop_first=True)\n",
        "df=df.replace({True:1, False:0})"
      ]
    },
    {
      "cell_type": "code",
      "execution_count": 62,
      "id": "3ed4a203-d9b7-404c-8b2c-8cc7b6f4caf1",
      "metadata": {
        "colab": {
          "base_uri": "https://localhost:8080/",
          "height": 206
        },
        "id": "3ed4a203-d9b7-404c-8b2c-8cc7b6f4caf1",
        "outputId": "0da64012-7191-4c2a-fe42-b207093e9801"
      },
      "outputs": [
        {
          "output_type": "execute_result",
          "data": {
            "text/plain": [
              "   College  City  Previous CTC  Previous job change  Graduation Marks  \\\n",
              "0        2     0       55523.0                    3                66   \n",
              "1        2     0       57081.0                    1                84   \n",
              "2        3     0       60347.0                    2                52   \n",
              "3        3     0       49010.0                    2                81   \n",
              "4        1     0       57879.0                    4                74   \n",
              "\n",
              "   EXP (Month)       CTC  Role_Manager  \n",
              "0           19  71406.58             1  \n",
              "1           18  68005.87             0  \n",
              "2           28  76764.02             0  \n",
              "3           33  82092.39             0  \n",
              "4           32  73878.10             0  "
            ],
            "text/html": [
              "\n",
              "  <div id=\"df-1e5d9f13-2ba9-41f3-b776-1a4c4d5ef919\" class=\"colab-df-container\">\n",
              "    <div>\n",
              "<style scoped>\n",
              "    .dataframe tbody tr th:only-of-type {\n",
              "        vertical-align: middle;\n",
              "    }\n",
              "\n",
              "    .dataframe tbody tr th {\n",
              "        vertical-align: top;\n",
              "    }\n",
              "\n",
              "    .dataframe thead th {\n",
              "        text-align: right;\n",
              "    }\n",
              "</style>\n",
              "<table border=\"1\" class=\"dataframe\">\n",
              "  <thead>\n",
              "    <tr style=\"text-align: right;\">\n",
              "      <th></th>\n",
              "      <th>College</th>\n",
              "      <th>City</th>\n",
              "      <th>Previous CTC</th>\n",
              "      <th>Previous job change</th>\n",
              "      <th>Graduation Marks</th>\n",
              "      <th>EXP (Month)</th>\n",
              "      <th>CTC</th>\n",
              "      <th>Role_Manager</th>\n",
              "    </tr>\n",
              "  </thead>\n",
              "  <tbody>\n",
              "    <tr>\n",
              "      <th>0</th>\n",
              "      <td>2</td>\n",
              "      <td>0</td>\n",
              "      <td>55523.0</td>\n",
              "      <td>3</td>\n",
              "      <td>66</td>\n",
              "      <td>19</td>\n",
              "      <td>71406.58</td>\n",
              "      <td>1</td>\n",
              "    </tr>\n",
              "    <tr>\n",
              "      <th>1</th>\n",
              "      <td>2</td>\n",
              "      <td>0</td>\n",
              "      <td>57081.0</td>\n",
              "      <td>1</td>\n",
              "      <td>84</td>\n",
              "      <td>18</td>\n",
              "      <td>68005.87</td>\n",
              "      <td>0</td>\n",
              "    </tr>\n",
              "    <tr>\n",
              "      <th>2</th>\n",
              "      <td>3</td>\n",
              "      <td>0</td>\n",
              "      <td>60347.0</td>\n",
              "      <td>2</td>\n",
              "      <td>52</td>\n",
              "      <td>28</td>\n",
              "      <td>76764.02</td>\n",
              "      <td>0</td>\n",
              "    </tr>\n",
              "    <tr>\n",
              "      <th>3</th>\n",
              "      <td>3</td>\n",
              "      <td>0</td>\n",
              "      <td>49010.0</td>\n",
              "      <td>2</td>\n",
              "      <td>81</td>\n",
              "      <td>33</td>\n",
              "      <td>82092.39</td>\n",
              "      <td>0</td>\n",
              "    </tr>\n",
              "    <tr>\n",
              "      <th>4</th>\n",
              "      <td>1</td>\n",
              "      <td>0</td>\n",
              "      <td>57879.0</td>\n",
              "      <td>4</td>\n",
              "      <td>74</td>\n",
              "      <td>32</td>\n",
              "      <td>73878.10</td>\n",
              "      <td>0</td>\n",
              "    </tr>\n",
              "  </tbody>\n",
              "</table>\n",
              "</div>\n",
              "    <div class=\"colab-df-buttons\">\n",
              "\n",
              "  <div class=\"colab-df-container\">\n",
              "    <button class=\"colab-df-convert\" onclick=\"convertToInteractive('df-1e5d9f13-2ba9-41f3-b776-1a4c4d5ef919')\"\n",
              "            title=\"Convert this dataframe to an interactive table.\"\n",
              "            style=\"display:none;\">\n",
              "\n",
              "  <svg xmlns=\"http://www.w3.org/2000/svg\" height=\"24px\" viewBox=\"0 -960 960 960\">\n",
              "    <path d=\"M120-120v-720h720v720H120Zm60-500h600v-160H180v160Zm220 220h160v-160H400v160Zm0 220h160v-160H400v160ZM180-400h160v-160H180v160Zm440 0h160v-160H620v160ZM180-180h160v-160H180v160Zm440 0h160v-160H620v160Z\"/>\n",
              "  </svg>\n",
              "    </button>\n",
              "\n",
              "  <style>\n",
              "    .colab-df-container {\n",
              "      display:flex;\n",
              "      gap: 12px;\n",
              "    }\n",
              "\n",
              "    .colab-df-convert {\n",
              "      background-color: #E8F0FE;\n",
              "      border: none;\n",
              "      border-radius: 50%;\n",
              "      cursor: pointer;\n",
              "      display: none;\n",
              "      fill: #1967D2;\n",
              "      height: 32px;\n",
              "      padding: 0 0 0 0;\n",
              "      width: 32px;\n",
              "    }\n",
              "\n",
              "    .colab-df-convert:hover {\n",
              "      background-color: #E2EBFA;\n",
              "      box-shadow: 0px 1px 2px rgba(60, 64, 67, 0.3), 0px 1px 3px 1px rgba(60, 64, 67, 0.15);\n",
              "      fill: #174EA6;\n",
              "    }\n",
              "\n",
              "    .colab-df-buttons div {\n",
              "      margin-bottom: 4px;\n",
              "    }\n",
              "\n",
              "    [theme=dark] .colab-df-convert {\n",
              "      background-color: #3B4455;\n",
              "      fill: #D2E3FC;\n",
              "    }\n",
              "\n",
              "    [theme=dark] .colab-df-convert:hover {\n",
              "      background-color: #434B5C;\n",
              "      box-shadow: 0px 1px 3px 1px rgba(0, 0, 0, 0.15);\n",
              "      filter: drop-shadow(0px 1px 2px rgba(0, 0, 0, 0.3));\n",
              "      fill: #FFFFFF;\n",
              "    }\n",
              "  </style>\n",
              "\n",
              "    <script>\n",
              "      const buttonEl =\n",
              "        document.querySelector('#df-1e5d9f13-2ba9-41f3-b776-1a4c4d5ef919 button.colab-df-convert');\n",
              "      buttonEl.style.display =\n",
              "        google.colab.kernel.accessAllowed ? 'block' : 'none';\n",
              "\n",
              "      async function convertToInteractive(key) {\n",
              "        const element = document.querySelector('#df-1e5d9f13-2ba9-41f3-b776-1a4c4d5ef919');\n",
              "        const dataTable =\n",
              "          await google.colab.kernel.invokeFunction('convertToInteractive',\n",
              "                                                    [key], {});\n",
              "        if (!dataTable) return;\n",
              "\n",
              "        const docLinkHtml = 'Like what you see? Visit the ' +\n",
              "          '<a target=\"_blank\" href=https://colab.research.google.com/notebooks/data_table.ipynb>data table notebook</a>'\n",
              "          + ' to learn more about interactive tables.';\n",
              "        element.innerHTML = '';\n",
              "        dataTable['output_type'] = 'display_data';\n",
              "        await google.colab.output.renderOutput(dataTable, element);\n",
              "        const docLink = document.createElement('div');\n",
              "        docLink.innerHTML = docLinkHtml;\n",
              "        element.appendChild(docLink);\n",
              "      }\n",
              "    </script>\n",
              "  </div>\n",
              "\n",
              "\n",
              "<div id=\"df-06f16174-4e18-431f-8e73-15d107d13f6f\">\n",
              "  <button class=\"colab-df-quickchart\" onclick=\"quickchart('df-06f16174-4e18-431f-8e73-15d107d13f6f')\"\n",
              "            title=\"Suggest charts\"\n",
              "            style=\"display:none;\">\n",
              "\n",
              "<svg xmlns=\"http://www.w3.org/2000/svg\" height=\"24px\"viewBox=\"0 0 24 24\"\n",
              "     width=\"24px\">\n",
              "    <g>\n",
              "        <path d=\"M19 3H5c-1.1 0-2 .9-2 2v14c0 1.1.9 2 2 2h14c1.1 0 2-.9 2-2V5c0-1.1-.9-2-2-2zM9 17H7v-7h2v7zm4 0h-2V7h2v10zm4 0h-2v-4h2v4z\"/>\n",
              "    </g>\n",
              "</svg>\n",
              "  </button>\n",
              "\n",
              "<style>\n",
              "  .colab-df-quickchart {\n",
              "      --bg-color: #E8F0FE;\n",
              "      --fill-color: #1967D2;\n",
              "      --hover-bg-color: #E2EBFA;\n",
              "      --hover-fill-color: #174EA6;\n",
              "      --disabled-fill-color: #AAA;\n",
              "      --disabled-bg-color: #DDD;\n",
              "  }\n",
              "\n",
              "  [theme=dark] .colab-df-quickchart {\n",
              "      --bg-color: #3B4455;\n",
              "      --fill-color: #D2E3FC;\n",
              "      --hover-bg-color: #434B5C;\n",
              "      --hover-fill-color: #FFFFFF;\n",
              "      --disabled-bg-color: #3B4455;\n",
              "      --disabled-fill-color: #666;\n",
              "  }\n",
              "\n",
              "  .colab-df-quickchart {\n",
              "    background-color: var(--bg-color);\n",
              "    border: none;\n",
              "    border-radius: 50%;\n",
              "    cursor: pointer;\n",
              "    display: none;\n",
              "    fill: var(--fill-color);\n",
              "    height: 32px;\n",
              "    padding: 0;\n",
              "    width: 32px;\n",
              "  }\n",
              "\n",
              "  .colab-df-quickchart:hover {\n",
              "    background-color: var(--hover-bg-color);\n",
              "    box-shadow: 0 1px 2px rgba(60, 64, 67, 0.3), 0 1px 3px 1px rgba(60, 64, 67, 0.15);\n",
              "    fill: var(--button-hover-fill-color);\n",
              "  }\n",
              "\n",
              "  .colab-df-quickchart-complete:disabled,\n",
              "  .colab-df-quickchart-complete:disabled:hover {\n",
              "    background-color: var(--disabled-bg-color);\n",
              "    fill: var(--disabled-fill-color);\n",
              "    box-shadow: none;\n",
              "  }\n",
              "\n",
              "  .colab-df-spinner {\n",
              "    border: 2px solid var(--fill-color);\n",
              "    border-color: transparent;\n",
              "    border-bottom-color: var(--fill-color);\n",
              "    animation:\n",
              "      spin 1s steps(1) infinite;\n",
              "  }\n",
              "\n",
              "  @keyframes spin {\n",
              "    0% {\n",
              "      border-color: transparent;\n",
              "      border-bottom-color: var(--fill-color);\n",
              "      border-left-color: var(--fill-color);\n",
              "    }\n",
              "    20% {\n",
              "      border-color: transparent;\n",
              "      border-left-color: var(--fill-color);\n",
              "      border-top-color: var(--fill-color);\n",
              "    }\n",
              "    30% {\n",
              "      border-color: transparent;\n",
              "      border-left-color: var(--fill-color);\n",
              "      border-top-color: var(--fill-color);\n",
              "      border-right-color: var(--fill-color);\n",
              "    }\n",
              "    40% {\n",
              "      border-color: transparent;\n",
              "      border-right-color: var(--fill-color);\n",
              "      border-top-color: var(--fill-color);\n",
              "    }\n",
              "    60% {\n",
              "      border-color: transparent;\n",
              "      border-right-color: var(--fill-color);\n",
              "    }\n",
              "    80% {\n",
              "      border-color: transparent;\n",
              "      border-right-color: var(--fill-color);\n",
              "      border-bottom-color: var(--fill-color);\n",
              "    }\n",
              "    90% {\n",
              "      border-color: transparent;\n",
              "      border-bottom-color: var(--fill-color);\n",
              "    }\n",
              "  }\n",
              "</style>\n",
              "\n",
              "  <script>\n",
              "    async function quickchart(key) {\n",
              "      const quickchartButtonEl =\n",
              "        document.querySelector('#' + key + ' button');\n",
              "      quickchartButtonEl.disabled = true;  // To prevent multiple clicks.\n",
              "      quickchartButtonEl.classList.add('colab-df-spinner');\n",
              "      try {\n",
              "        const charts = await google.colab.kernel.invokeFunction(\n",
              "            'suggestCharts', [key], {});\n",
              "      } catch (error) {\n",
              "        console.error('Error during call to suggestCharts:', error);\n",
              "      }\n",
              "      quickchartButtonEl.classList.remove('colab-df-spinner');\n",
              "      quickchartButtonEl.classList.add('colab-df-quickchart-complete');\n",
              "    }\n",
              "    (() => {\n",
              "      let quickchartButtonEl =\n",
              "        document.querySelector('#df-06f16174-4e18-431f-8e73-15d107d13f6f button');\n",
              "      quickchartButtonEl.style.display =\n",
              "        google.colab.kernel.accessAllowed ? 'block' : 'none';\n",
              "    })();\n",
              "  </script>\n",
              "</div>\n",
              "\n",
              "    </div>\n",
              "  </div>\n"
            ],
            "application/vnd.google.colaboratory.intrinsic+json": {
              "type": "dataframe",
              "variable_name": "df",
              "summary": "{\n  \"name\": \"df\",\n  \"rows\": 1589,\n  \"fields\": [\n    {\n      \"column\": \"College\",\n      \"properties\": {\n        \"dtype\": \"number\",\n        \"std\": 0,\n        \"min\": 1,\n        \"max\": 3,\n        \"num_unique_values\": 3,\n        \"samples\": [\n          2,\n          3,\n          1\n        ],\n        \"semantic_type\": \"\",\n        \"description\": \"\"\n      }\n    },\n    {\n      \"column\": \"City\",\n      \"properties\": {\n        \"dtype\": \"number\",\n        \"std\": 0,\n        \"min\": 0,\n        \"max\": 1,\n        \"num_unique_values\": 2,\n        \"samples\": [\n          1,\n          0\n        ],\n        \"semantic_type\": \"\",\n        \"description\": \"\"\n      }\n    },\n    {\n      \"column\": \"Previous CTC\",\n      \"properties\": {\n        \"dtype\": \"number\",\n        \"std\": 6655.218445065719,\n        \"min\": 36990.0,\n        \"max\": 77911.0,\n        \"num_unique_values\": 1307,\n        \"samples\": [\n          49743.0,\n          62532.0\n        ],\n        \"semantic_type\": \"\",\n        \"description\": \"\"\n      }\n    },\n    {\n      \"column\": \"Previous job change\",\n      \"properties\": {\n        \"dtype\": \"number\",\n        \"std\": 1,\n        \"min\": 1,\n        \"max\": 4,\n        \"num_unique_values\": 4,\n        \"samples\": [\n          1,\n          4\n        ],\n        \"semantic_type\": \"\",\n        \"description\": \"\"\n      }\n    },\n    {\n      \"column\": \"Graduation Marks\",\n      \"properties\": {\n        \"dtype\": \"number\",\n        \"std\": 14,\n        \"min\": 35,\n        \"max\": 85,\n        \"num_unique_values\": 51,\n        \"samples\": [\n          67,\n          70\n        ],\n        \"semantic_type\": \"\",\n        \"description\": \"\"\n      }\n    },\n    {\n      \"column\": \"EXP (Month)\",\n      \"properties\": {\n        \"dtype\": \"number\",\n        \"std\": 14,\n        \"min\": 18,\n        \"max\": 64,\n        \"num_unique_values\": 47,\n        \"samples\": [\n          21,\n          45\n        ],\n        \"semantic_type\": \"\",\n        \"description\": \"\"\n      }\n    },\n    {\n      \"column\": \"CTC\",\n      \"properties\": {\n        \"dtype\": \"number\",\n        \"std\": 12587.28823745061,\n        \"min\": 53020.32,\n        \"max\": 123416.99,\n        \"num_unique_values\": 1338,\n        \"samples\": [\n          69720.35,\n          64010.16\n        ],\n        \"semantic_type\": \"\",\n        \"description\": \"\"\n      }\n    },\n    {\n      \"column\": \"Role_Manager\",\n      \"properties\": {\n        \"dtype\": \"number\",\n        \"std\": 0,\n        \"min\": 0,\n        \"max\": 1,\n        \"num_unique_values\": 2,\n        \"samples\": [\n          0,\n          1\n        ],\n        \"semantic_type\": \"\",\n        \"description\": \"\"\n      }\n    }\n  ]\n}"
            }
          },
          "metadata": {},
          "execution_count": 62
        }
      ],
      "source": [
        "df.head()"
      ]
    },
    {
      "cell_type": "code",
      "execution_count": 20,
      "id": "9831da83-c845-4331-ab0d-ccec60d9c754",
      "metadata": {
        "colab": {
          "base_uri": "https://localhost:8080/",
          "height": 1000
        },
        "id": "9831da83-c845-4331-ab0d-ccec60d9c754",
        "outputId": "5760d131-dfa1-450a-cfce-f2af8eeaaaeb"
      },
      "outputs": [
        {
          "output_type": "display_data",
          "data": {
            "text/plain": [
              "<Figure size 640x480 with 1 Axes>"
            ],
            "image/png": "[encoded data removed]"
          },
          "metadata": {}
        },
        {
          "output_type": "display_data",
          "data": {
            "text/plain": [
              "<Figure size 640x480 with 1 Axes>"
            ],
            "image/png": "[encoded data removed]"
          },
          "metadata": {}
        },
        {
          "output_type": "display_data",
          "data": {
            "text/plain": [
              "<Figure size 640x480 with 1 Axes>"
            ],
            "image/png": "[encoded data removed]"
          },
          "metadata": {}
        },
        {
          "output_type": "display_data",
          "data": {
            "text/plain": [
              "<Figure size 640x480 with 1 Axes>"
            ],
            "image/png": "[encoded data removed]"
          },
          "metadata": {}
        },
        {
          "output_type": "display_data",
          "data": {
            "text/plain": [
              "<Figure size 640x480 with 1 Axes>"
            ],
            "image/png": "[encoded data removed]"
          },
          "metadata": {}
        },
        {
          "output_type": "display_data",
          "data": {
            "text/plain": [
              "<Figure size 640x480 with 1 Axes>"
            ],
            "image/png": "[encoded data removed]"
          },
          "metadata": {}
        },
        {
          "output_type": "display_data",
          "data": {
            "text/plain": [
              "<Figure size 640x480 with 1 Axes>"
            ],
            "image/png": "[encoded data removed]"
          },
          "metadata": {}
        },
        {
          "output_type": "display_data",
          "data": {
            "text/plain": [
              "<Figure size 640x480 with 1 Axes>"
            ],
            "image/png": "[encoded data removed]"
          },
          "metadata": {}
        }
      ],
      "source": [
        "# Outlier Detection\n",
        "# Creating a boxplot for each column\n",
        "\n",
        "import matplotlib.pyplot as plt\n",
        "for col in df.columns:\n",
        "    sns.boxplot(x=df[col])\n",
        "    plt.title(f'Boxplot of {col}')\n",
        "    plt.show()"
      ]
    },
    {
      "cell_type": "markdown",
      "id": "ac6dcfab-1967-4561-9cb7-6c005c94f865",
      "metadata": {
        "id": "ac6dcfab-1967-4561-9cb7-6c005c94f865"
      },
      "source": [
        "##### As we can see that Previous CTC and CTC has outliers. Since it is Salary(CTC), one's CTC can be higher than others so, i am not going to treat the outliers as these outliers are not that extreme and if treated it may affect the data too."
      ]
    },
    {
      "cell_type": "code",
      "execution_count": 21,
      "id": "18bbbdad-5049-48fc-9548-e8922bf58f5d",
      "metadata": {
        "colab": {
          "base_uri": "https://localhost:8080/",
          "height": 300
        },
        "id": "18bbbdad-5049-48fc-9548-e8922bf58f5d",
        "outputId": "7df477a4-f82a-4ac6-997b-6556628bd8f3"
      },
      "outputs": [
        {
          "output_type": "execute_result",
          "data": {
            "text/plain": [
              "                      College      City  Previous CTC  Previous job change  \\\n",
              "College              1.000000 -0.014946      0.041979            -0.055060   \n",
              "City                -0.014946  1.000000      0.004644             0.051670   \n",
              "Previous CTC         0.041979  0.004644      1.000000             0.005756   \n",
              "Previous job change -0.055060  0.051670      0.005756             1.000000   \n",
              "Graduation Marks     0.003539 -0.018616     -0.032976             0.019267   \n",
              "EXP (Month)          0.011752 -0.023613      0.119163             0.023488   \n",
              "CTC                 -0.029592 -0.020365      0.258000             0.011370   \n",
              "Role_Manager        -0.014749 -0.048671      0.012321            -0.017150   \n",
              "\n",
              "                     Graduation Marks  EXP (Month)       CTC  Role_Manager  \n",
              "College                      0.003539     0.011752 -0.029592     -0.014749  \n",
              "City                        -0.018616    -0.023613 -0.020365     -0.048671  \n",
              "Previous CTC                -0.032976     0.119163  0.258000      0.012321  \n",
              "Previous job change          0.019267     0.023488  0.011370     -0.017150  \n",
              "Graduation Marks             1.000000    -0.057061 -0.005450      0.017858  \n",
              "EXP (Month)                 -0.057061     1.000000  0.301115     -0.026751  \n",
              "CTC                         -0.005450     0.301115  1.000000      0.621311  \n",
              "Role_Manager                 0.017858    -0.026751  0.621311      1.000000  "
            ],
            "text/html": [
              "\n",
              "  <div id=\"df-5324cc82-2afa-427b-bc6d-601eaadb513b\" class=\"colab-df-container\">\n",
              "    <div>\n",
              "<style scoped>\n",
              "    .dataframe tbody tr th:only-of-type {\n",
              "        vertical-align: middle;\n",
              "    }\n",
              "\n",
              "    .dataframe tbody tr th {\n",
              "        vertical-align: top;\n",
              "    }\n",
              "\n",
              "    .dataframe thead th {\n",
              "        text-align: right;\n",
              "    }\n",
              "</style>\n",
              "<table border=\"1\" class=\"dataframe\">\n",
              "  <thead>\n",
              "    <tr style=\"text-align: right;\">\n",
              "      <th></th>\n",
              "      <th>College</th>\n",
              "      <th>City</th>\n",
              "      <th>Previous CTC</th>\n",
              "      <th>Previous job change</th>\n",
              "      <th>Graduation Marks</th>\n",
              "      <th>EXP (Month)</th>\n",
              "      <th>CTC</th>\n",
              "      <th>Role_Manager</th>\n",
              "    </tr>\n",
              "  </thead>\n",
              "  <tbody>\n",
              "    <tr>\n",
              "      <th>College</th>\n",
              "      <td>1.000000</td>\n",
              "      <td>-0.014946</td>\n",
              "      <td>0.041979</td>\n",
              "      <td>-0.055060</td>\n",
              "      <td>0.003539</td>\n",
              "      <td>0.011752</td>\n",
              "      <td>-0.029592</td>\n",
              "      <td>-0.014749</td>\n",
              "    </tr>\n",
              "    <tr>\n",
              "      <th>City</th>\n",
              "      <td>-0.014946</td>\n",
              "      <td>1.000000</td>\n",
              "      <td>0.004644</td>\n",
              "      <td>0.051670</td>\n",
              "      <td>-0.018616</td>\n",
              "      <td>-0.023613</td>\n",
              "      <td>-0.020365</td>\n",
              "      <td>-0.048671</td>\n",
              "    </tr>\n",
              "    <tr>\n",
              "      <th>Previous CTC</th>\n",
              "      <td>0.041979</td>\n",
              "      <td>0.004644</td>\n",
              "      <td>1.000000</td>\n",
              "      <td>0.005756</td>\n",
              "      <td>-0.032976</td>\n",
              "      <td>0.119163</td>\n",
              "      <td>0.258000</td>\n",
              "      <td>0.012321</td>\n",
              "    </tr>\n",
              "    <tr>\n",
              "      <th>Previous job change</th>\n",
              "      <td>-0.055060</td>\n",
              "      <td>0.051670</td>\n",
              "      <td>0.005756</td>\n",
              "      <td>1.000000</td>\n",
              "      <td>0.019267</td>\n",
              "      <td>0.023488</td>\n",
              "      <td>0.011370</td>\n",
              "      <td>-0.017150</td>\n",
              "    </tr>\n",
              "    <tr>\n",
              "      <th>Graduation Marks</th>\n",
              "      <td>0.003539</td>\n",
              "      <td>-0.018616</td>\n",
              "      <td>-0.032976</td>\n",
              "      <td>0.019267</td>\n",
              "      <td>1.000000</td>\n",
              "      <td>-0.057061</td>\n",
              "      <td>-0.005450</td>\n",
              "      <td>0.017858</td>\n",
              "    </tr>\n",
              "    <tr>\n",
              "      <th>EXP (Month)</th>\n",
              "      <td>0.011752</td>\n",
              "      <td>-0.023613</td>\n",
              "      <td>0.119163</td>\n",
              "      <td>0.023488</td>\n",
              "      <td>-0.057061</td>\n",
              "      <td>1.000000</td>\n",
              "      <td>0.301115</td>\n",
              "      <td>-0.026751</td>\n",
              "    </tr>\n",
              "    <tr>\n",
              "      <th>CTC</th>\n",
              "      <td>-0.029592</td>\n",
              "      <td>-0.020365</td>\n",
              "      <td>0.258000</td>\n",
              "      <td>0.011370</td>\n",
              "      <td>-0.005450</td>\n",
              "      <td>0.301115</td>\n",
              "      <td>1.000000</td>\n",
              "      <td>0.621311</td>\n",
              "    </tr>\n",
              "    <tr>\n",
              "      <th>Role_Manager</th>\n",
              "      <td>-0.014749</td>\n",
              "      <td>-0.048671</td>\n",
              "      <td>0.012321</td>\n",
              "      <td>-0.017150</td>\n",
              "      <td>0.017858</td>\n",
              "      <td>-0.026751</td>\n",
              "      <td>0.621311</td>\n",
              "      <td>1.000000</td>\n",
              "    </tr>\n",
              "  </tbody>\n",
              "</table>\n",
              "</div>\n",
              "    <div class=\"colab-df-buttons\">\n",
              "\n",
              "  <div class=\"colab-df-container\">\n",
              "    <button class=\"colab-df-convert\" onclick=\"convertToInteractive('df-5324cc82-2afa-427b-bc6d-601eaadb513b')\"\n",
              "            title=\"Convert this dataframe to an interactive table.\"\n",
              "            style=\"display:none;\">\n",
              "\n",
              "  <svg xmlns=\"http://www.w3.org/2000/svg\" height=\"24px\" viewBox=\"0 -960 960 960\">\n",
              "    <path d=\"M120-120v-720h720v720H120Zm60-500h600v-160H180v160Zm220 220h160v-160H400v160Zm0 220h160v-160H400v160ZM180-400h160v-160H180v160Zm440 0h160v-160H620v160ZM180-180h160v-160H180v160Zm440 0h160v-160H620v160Z\"/>\n",
              "  </svg>\n",
              "    </button>\n",
              "\n",
              "  <style>\n",
              "    .colab-df-container {\n",
              "      display:flex;\n",
              "      gap: 12px;\n",
              "    }\n",
              "\n",
              "    .colab-df-convert {\n",
              "      background-color: #E8F0FE;\n",
              "      border: none;\n",
              "      border-radius: 50%;\n",
              "      cursor: pointer;\n",
              "      display: none;\n",
              "      fill: #1967D2;\n",
              "      height: 32px;\n",
              "      padding: 0 0 0 0;\n",
              "      width: 32px;\n",
              "    }\n",
              "\n",
              "    .colab-df-convert:hover {\n",
              "      background-color: #E2EBFA;\n",
              "      box-shadow: 0px 1px 2px rgba(60, 64, 67, 0.3), 0px 1px 3px 1px rgba(60, 64, 67, 0.15);\n",
              "      fill: #174EA6;\n",
              "    }\n",
              "\n",
              "    .colab-df-buttons div {\n",
              "      margin-bottom: 4px;\n",
              "    }\n",
              "\n",
              "    [theme=dark] .colab-df-convert {\n",
              "      background-color: #3B4455;\n",
              "      fill: #D2E3FC;\n",
              "    }\n",
              "\n",
              "    [theme=dark] .colab-df-convert:hover {\n",
              "      background-color: #434B5C;\n",
              "      box-shadow: 0px 1px 3px 1px rgba(0, 0, 0, 0.15);\n",
              "      filter: drop-shadow(0px 1px 2px rgba(0, 0, 0, 0.3));\n",
              "      fill: #FFFFFF;\n",
              "    }\n",
              "  </style>\n",
              "\n",
              "    <script>\n",
              "      const buttonEl =\n",
              "        document.querySelector('#df-5324cc82-2afa-427b-bc6d-601eaadb513b button.colab-df-convert');\n",
              "      buttonEl.style.display =\n",
              "        google.colab.kernel.accessAllowed ? 'block' : 'none';\n",
              "\n",
              "      async function convertToInteractive(key) {\n",
              "        const element = document.querySelector('#df-5324cc82-2afa-427b-bc6d-601eaadb513b');\n",
              "        const dataTable =\n",
              "          await google.colab.kernel.invokeFunction('convertToInteractive',\n",
              "                                                    [key], {});\n",
              "        if (!dataTable) return;\n",
              "\n",
              "        const docLinkHtml = 'Like what you see? Visit the ' +\n",
              "          '<a target=\"_blank\" href=https://colab.research.google.com/notebooks/data_table.ipynb>data table notebook</a>'\n",
              "          + ' to learn more about interactive tables.';\n",
              "        element.innerHTML = '';\n",
              "        dataTable['output_type'] = 'display_data';\n",
              "        await google.colab.output.renderOutput(dataTable, element);\n",
              "        const docLink = document.createElement('div');\n",
              "        docLink.innerHTML = docLinkHtml;\n",
              "        element.appendChild(docLink);\n",
              "      }\n",
              "    </script>\n",
              "  </div>\n",
              "\n",
              "\n",
              "<div id=\"df-1e296c12-2726-47f5-ab04-36d0c9271e79\">\n",
              "  <button class=\"colab-df-quickchart\" onclick=\"quickchart('df-1e296c12-2726-47f5-ab04-36d0c9271e79')\"\n",
              "            title=\"Suggest charts\"\n",
              "            style=\"display:none;\">\n",
              "\n",
              "<svg xmlns=\"http://www.w3.org/2000/svg\" height=\"24px\"viewBox=\"0 0 24 24\"\n",
              "     width=\"24px\">\n",
              "    <g>\n",
              "        <path d=\"M19 3H5c-1.1 0-2 .9-2 2v14c0 1.1.9 2 2 2h14c1.1 0 2-.9 2-2V5c0-1.1-.9-2-2-2zM9 17H7v-7h2v7zm4 0h-2V7h2v10zm4 0h-2v-4h2v4z\"/>\n",
              "    </g>\n",
              "</svg>\n",
              "  </button>\n",
              "\n",
              "<style>\n",
              "  .colab-df-quickchart {\n",
              "      --bg-color: #E8F0FE;\n",
              "      --fill-color: #1967D2;\n",
              "      --hover-bg-color: #E2EBFA;\n",
              "      --hover-fill-color: #174EA6;\n",
              "      --disabled-fill-color: #AAA;\n",
              "      --disabled-bg-color: #DDD;\n",
              "  }\n",
              "\n",
              "  [theme=dark] .colab-df-quickchart {\n",
              "      --bg-color: #3B4455;\n",
              "      --fill-color: #D2E3FC;\n",
              "      --hover-bg-color: #434B5C;\n",
              "      --hover-fill-color: #FFFFFF;\n",
              "      --disabled-bg-color: #3B4455;\n",
              "      --disabled-fill-color: #666;\n",
              "  }\n",
              "\n",
              "  .colab-df-quickchart {\n",
              "    background-color: var(--bg-color);\n",
              "    border: none;\n",
              "    border-radius: 50%;\n",
              "    cursor: pointer;\n",
              "    display: none;\n",
              "    fill: var(--fill-color);\n",
              "    height: 32px;\n",
              "    padding: 0;\n",
              "    width: 32px;\n",
              "  }\n",
              "\n",
              "  .colab-df-quickchart:hover {\n",
              "    background-color: var(--hover-bg-color);\n",
              "    box-shadow: 0 1px 2px rgba(60, 64, 67, 0.3), 0 1px 3px 1px rgba(60, 64, 67, 0.15);\n",
              "    fill: var(--button-hover-fill-color);\n",
              "  }\n",
              "\n",
              "  .colab-df-quickchart-complete:disabled,\n",
              "  .colab-df-quickchart-complete:disabled:hover {\n",
              "    background-color: var(--disabled-bg-color);\n",
              "    fill: var(--disabled-fill-color);\n",
              "    box-shadow: none;\n",
              "  }\n",
              "\n",
              "  .colab-df-spinner {\n",
              "    border: 2px solid var(--fill-color);\n",
              "    border-color: transparent;\n",
              "    border-bottom-color: var(--fill-color);\n",
              "    animation:\n",
              "      spin 1s steps(1) infinite;\n",
              "  }\n",
              "\n",
              "  @keyframes spin {\n",
              "    0% {\n",
              "      border-color: transparent;\n",
              "      border-bottom-color: var(--fill-color);\n",
              "      border-left-color: var(--fill-color);\n",
              "    }\n",
              "    20% {\n",
              "      border-color: transparent;\n",
              "      border-left-color: var(--fill-color);\n",
              "      border-top-color: var(--fill-color);\n",
              "    }\n",
              "    30% {\n",
              "      border-color: transparent;\n",
              "      border-left-color: var(--fill-color);\n",
              "      border-top-color: var(--fill-color);\n",
              "      border-right-color: var(--fill-color);\n",
              "    }\n",
              "    40% {\n",
              "      border-color: transparent;\n",
              "      border-right-color: var(--fill-color);\n",
              "      border-top-color: var(--fill-color);\n",
              "    }\n",
              "    60% {\n",
              "      border-color: transparent;\n",
              "      border-right-color: var(--fill-color);\n",
              "    }\n",
              "    80% {\n",
              "      border-color: transparent;\n",
              "      border-right-color: var(--fill-color);\n",
              "      border-bottom-color: var(--fill-color);\n",
              "    }\n",
              "    90% {\n",
              "      border-color: transparent;\n",
              "      border-bottom-color: var(--fill-color);\n",
              "    }\n",
              "  }\n",
              "</style>\n",
              "\n",
              "  <script>\n",
              "    async function quickchart(key) {\n",
              "      const quickchartButtonEl =\n",
              "        document.querySelector('#' + key + ' button');\n",
              "      quickchartButtonEl.disabled = true;  // To prevent multiple clicks.\n",
              "      quickchartButtonEl.classList.add('colab-df-spinner');\n",
              "      try {\n",
              "        const charts = await google.colab.kernel.invokeFunction(\n",
              "            'suggestCharts', [key], {});\n",
              "      } catch (error) {\n",
              "        console.error('Error during call to suggestCharts:', error);\n",
              "      }\n",
              "      quickchartButtonEl.classList.remove('colab-df-spinner');\n",
              "      quickchartButtonEl.classList.add('colab-df-quickchart-complete');\n",
              "    }\n",
              "    (() => {\n",
              "      let quickchartButtonEl =\n",
              "        document.querySelector('#df-1e296c12-2726-47f5-ab04-36d0c9271e79 button');\n",
              "      quickchartButtonEl.style.display =\n",
              "        google.colab.kernel.accessAllowed ? 'block' : 'none';\n",
              "    })();\n",
              "  </script>\n",
              "</div>\n",
              "\n",
              "  <div id=\"id_2d6a4e18-f34b-4dde-b0ea-ea7290beccd7\">\n",
              "    <style>\n",
              "      .colab-df-generate {\n",
              "        background-color: #E8F0FE;\n",
              "        border: none;\n",
              "        border-radius: 50%;\n",
              "        cursor: pointer;\n",
              "        display: none;\n",
              "        fill: #1967D2;\n",
              "        height: 32px;\n",
              "        padding: 0 0 0 0;\n",
              "        width: 32px;\n",
              "      }\n",
              "\n",
              "      .colab-df-generate:hover {\n",
              "        background-color: #E2EBFA;\n",
              "        box-shadow: 0px 1px 2px rgba(60, 64, 67, 0.3), 0px 1px 3px 1px rgba(60, 64, 67, 0.15);\n",
              "        fill: #174EA6;\n",
              "      }\n",
              "\n",
              "      [theme=dark] .colab-df-generate {\n",
              "        background-color: #3B4455;\n",
              "        fill: #D2E3FC;\n",
              "      }\n",
              "\n",
              "      [theme=dark] .colab-df-generate:hover {\n",
              "        background-color: #434B5C;\n",
              "        box-shadow: 0px 1px 3px 1px rgba(0, 0, 0, 0.15);\n",
              "        filter: drop-shadow(0px 1px 2px rgba(0, 0, 0, 0.3));\n",
              "        fill: #FFFFFF;\n",
              "      }\n",
              "    </style>\n",
              "    <button class=\"colab-df-generate\" onclick=\"generateWithVariable('corr')\"\n",
              "            title=\"Generate code using this dataframe.\"\n",
              "            style=\"display:none;\">\n",
              "\n",
              "  <svg xmlns=\"http://www.w3.org/2000/svg\" height=\"24px\"viewBox=\"0 0 24 24\"\n",
              "       width=\"24px\">\n",
              "    <path d=\"M7,19H8.4L18.45,9,17,7.55,7,17.6ZM5,21V16.75L18.45,3.32a2,2,0,0,1,2.83,0l1.4,1.43a1.91,1.91,0,0,1,.58,1.4,1.91,1.91,0,0,1-.58,1.4L9.25,21ZM18.45,9,17,7.55Zm-12,3A5.31,5.31,0,0,0,4.9,8.1,5.31,5.31,0,0,0,1,6.5,5.31,5.31,0,0,0,4.9,4.9,5.31,5.31,0,0,0,6.5,1,5.31,5.31,0,0,0,8.1,4.9,5.31,5.31,0,0,0,12,6.5,5.46,5.46,0,0,0,6.5,12Z\"/>\n",
              "  </svg>\n",
              "    </button>\n",
              "    <script>\n",
              "      (() => {\n",
              "      const buttonEl =\n",
              "        document.querySelector('#id_2d6a4e18-f34b-4dde-b0ea-ea7290beccd7 button.colab-df-generate');\n",
              "      buttonEl.style.display =\n",
              "        google.colab.kernel.accessAllowed ? 'block' : 'none';\n",
              "\n",
              "      buttonEl.onclick = () => {\n",
              "        google.colab.notebook.generateWithVariable('corr');\n",
              "      }\n",
              "      })();\n",
              "    </script>\n",
              "  </div>\n",
              "\n",
              "    </div>\n",
              "  </div>\n"
            ],
            "application/vnd.google.colaboratory.intrinsic+json": {
              "type": "dataframe",
              "variable_name": "corr",
              "summary": "{\n  \"name\": \"corr\",\n  \"rows\": 8,\n  \"fields\": [\n    {\n      \"column\": \"College\",\n      \"properties\": {\n        \"dtype\": \"number\",\n        \"std\": 0.35759579595803664,\n        \"min\": -0.05506032965850041,\n        \"max\": 1.0,\n        \"num_unique_values\": 8,\n        \"samples\": [\n          -0.014946083436343837,\n          0.011752441964759185,\n          1.0\n        ],\n        \"semantic_type\": \"\",\n        \"description\": \"\"\n      }\n    },\n    {\n      \"column\": \"City\",\n      \"properties\": {\n        \"dtype\": \"number\",\n        \"std\": 0.35826293482612664,\n        \"min\": -0.04867091498094853,\n        \"max\": 1.0,\n        \"num_unique_values\": 8,\n        \"samples\": [\n          1.0,\n          -0.02361343157315299,\n          -0.014946083436343837\n        ],\n        \"semantic_type\": \"\",\n        \"description\": \"\"\n      }\n    },\n    {\n      \"column\": \"Previous CTC\",\n      \"properties\": {\n        \"dtype\": \"number\",\n        \"std\": 0.3455222830065228,\n        \"min\": -0.032975947504350706,\n        \"max\": 1.0,\n        \"num_unique_values\": 8,\n        \"samples\": [\n          0.004644262006014107,\n          0.11916263479426223,\n          0.04197918811362996\n        ],\n        \"semantic_type\": \"\",\n        \"description\": \"\"\n      }\n    },\n    {\n      \"column\": \"Previous job change\",\n      \"properties\": {\n        \"dtype\": \"number\",\n        \"std\": 0.3529572699324887,\n        \"min\": -0.05506032965850041,\n        \"max\": 1.0,\n        \"num_unique_values\": 8,\n        \"samples\": [\n          0.051669873884146095,\n          0.02348838315914654,\n          -0.05506032965850041\n        ],\n        \"semantic_type\": \"\",\n        \"description\": \"\"\n      }\n    },\n    {\n      \"column\": \"Graduation Marks\",\n      \"properties\": {\n        \"dtype\": \"number\",\n        \"std\": 0.3581914603323961,\n        \"min\": -0.05706088107416382,\n        \"max\": 1.0,\n        \"num_unique_values\": 8,\n        \"samples\": [\n          -0.018616376383602584,\n          -0.05706088107416382,\n          0.003538503689750594\n        ],\n        \"semantic_type\": \"\",\n        \"description\": \"\"\n      }\n    },\n    {\n      \"column\": \"EXP (Month)\",\n      \"properties\": {\n        \"dtype\": \"number\",\n        \"std\": 0.3551498067697032,\n        \"min\": -0.05706088107416382,\n        \"max\": 1.0,\n        \"num_unique_values\": 8,\n        \"samples\": [\n          -0.02361343157315299,\n          1.0,\n          0.011752441964759185\n        ],\n        \"semantic_type\": \"\",\n        \"description\": \"\"\n      }\n    },\n    {\n      \"column\": \"CTC\",\n      \"properties\": {\n        \"dtype\": \"number\",\n        \"std\": 0.37305516808975636,\n        \"min\": -0.029591755222209346,\n        \"max\": 1.0,\n        \"num_unique_values\": 8,\n        \"samples\": [\n          -0.02036544264632192,\n          0.30111546305795134,\n          -0.029591755222209346\n        ],\n        \"semantic_type\": \"\",\n        \"description\": \"\"\n      }\n    },\n    {\n      \"column\": \"Role_Manager\",\n      \"properties\": {\n        \"dtype\": \"number\",\n        \"std\": 0.39497505831185936,\n        \"min\": -0.04867091498094853,\n        \"max\": 1.0,\n        \"num_unique_values\": 8,\n        \"samples\": [\n          -0.04867091498094853,\n          -0.02675102703068484,\n          -0.014749431436109605\n        ],\n        \"semantic_type\": \"\",\n        \"description\": \"\"\n      }\n    }\n  ]\n}"
            }
          },
          "metadata": {},
          "execution_count": 21
        }
      ],
      "source": [
        "# Correlation Matrix\n",
        "corr=df.corr()\n",
        "corr"
      ]
    },
    {
      "cell_type": "code",
      "execution_count": 22,
      "id": "bfd3617c-3e26-4e5e-8f46-07caa7de9425",
      "metadata": {
        "colab": {
          "base_uri": "https://localhost:8080/",
          "height": 824
        },
        "id": "bfd3617c-3e26-4e5e-8f46-07caa7de9425",
        "outputId": "2c618af7-1e9c-480e-e2a8-f63ed3350e76"
      },
      "outputs": [
        {
          "output_type": "display_data",
          "data": {
            "text/plain": [
              "<Figure size 1000x800 with 2 Axes>"
            ],
            "image/png": "[encoded data removed]"
          },
          "metadata": {}
        }
      ],
      "source": [
        "# Creating a heatmap\n",
        "\n",
        "plt.figure(figsize=(10,8))\n",
        "sns.heatmap(corr, annot=True, cmap='coolwarm')\n",
        "plt.title(\"Correlation Matrix\")\n",
        "plt.show()"
      ]
    },
    {
      "cell_type": "markdown",
      "id": "5c15086a-47cd-43ab-a250-79d337fd8cd8",
      "metadata": {
        "id": "5c15086a-47cd-43ab-a250-79d337fd8cd8"
      },
      "source": [
        "## Multiple Linear Regression From sklearn.linear_model"
      ]
    },
    {
      "cell_type": "code",
      "execution_count": 23,
      "id": "9555111b-3d31-4a62-b50f-a8d66013305b",
      "metadata": {
        "id": "9555111b-3d31-4a62-b50f-a8d66013305b"
      },
      "outputs": [],
      "source": [
        "# Selecting feature and target variable\n",
        "x=df.loc[:, df.columns != 'CTC']  # Use all features except 'CTC' for prediction\n",
        "y=df['CTC']"
      ]
    },
    {
      "cell_type": "code",
      "execution_count": 24,
      "id": "a94dbac1-7967-4beb-8ea4-0efa6d0f2c0d",
      "metadata": {
        "colab": {
          "base_uri": "https://localhost:8080/"
        },
        "id": "a94dbac1-7967-4beb-8ea4-0efa6d0f2c0d",
        "outputId": "a74a7355-7678-4c62-9036-3a90761ba627"
      },
      "outputs": [
        {
          "output_type": "stream",
          "name": "stdout",
          "text": [
            "38421.10980690211 [-4.81514705e+02  3.80830787e+02  4.10090279e-01  1.26565295e+02\n",
            "  6.23621203e+00  2.61344394e+02  1.94874279e+04]\n"
          ]
        }
      ],
      "source": [
        "from sklearn.linear_model import LinearRegression\n",
        "\n",
        "# creating a Linear Regression model\n",
        "lm=LinearRegression()\n",
        "lm.fit(x,y)\n",
        "print(lm.intercept_,lm.coef_)"
      ]
    },
    {
      "cell_type": "markdown",
      "id": "2328a8f0-7ff9-4895-bd53-8c4de286c1be",
      "metadata": {
        "id": "2328a8f0-7ff9-4895-bd53-8c4de286c1be"
      },
      "source": [
        "## Multiple Linear Regression From statsmodels.api"
      ]
    },
    {
      "cell_type": "code",
      "execution_count": 25,
      "id": "d672b668-b199-4c63-bdbf-26b73cb04381",
      "metadata": {
        "colab": {
          "base_uri": "https://localhost:8080/",
          "height": 604
        },
        "id": "d672b668-b199-4c63-bdbf-26b73cb04381",
        "outputId": "619c8447-170d-4b73-bd13-0c0150dc367b"
      },
      "outputs": [
        {
          "output_type": "execute_result",
          "data": {
            "text/plain": [
              "<class 'statsmodels.iolib.summary.Summary'>\n",
              "\"\"\"\n",
              "                            OLS Regression Results                            \n",
              "==============================================================================\n",
              "Dep. Variable:                    CTC   R-squared:                       0.534\n",
              "Model:                            OLS   Adj. R-squared:                  0.532\n",
              "Method:                 Least Squares   F-statistic:                     259.1\n",
              "Date:                Sun, 08 Sep 2024   Prob (F-statistic):          4.70e-257\n",
              "Time:                        19:19:52   Log-Likelihood:                -16648.\n",
              "No. Observations:                1589   AIC:                         3.331e+04\n",
              "Df Residuals:                    1581   BIC:                         3.335e+04\n",
              "Df Model:                           7                                         \n",
              "Covariance Type:            nonrobust                                         \n",
              "=======================================================================================\n",
              "                          coef    std err          t      P>|t|      [0.025      0.975]\n",
              "---------------------------------------------------------------------------------------\n",
              "const                3.842e+04   2192.660     17.523      0.000    3.41e+04    4.27e+04\n",
              "College              -481.5147    258.382     -1.864      0.063    -988.321      25.292\n",
              "City                  380.8308    433.455      0.879      0.380    -469.377    1231.039\n",
              "Previous CTC            0.4101      0.033     12.526      0.000       0.346       0.474\n",
              "Previous job change   126.5653    192.887      0.656      0.512    -251.776     504.906\n",
              "Graduation Marks        6.2362     14.502      0.430      0.667     -22.208      34.681\n",
              "EXP (Month)           261.3444     15.460     16.904      0.000     231.020     291.669\n",
              "Role_Manager         1.949e+04    534.694     36.446      0.000    1.84e+04    2.05e+04\n",
              "==============================================================================\n",
              "Omnibus:                       49.726   Durbin-Watson:                   2.052\n",
              "Prob(Omnibus):                  0.000   Jarque-Bera (JB):               55.299\n",
              "Skew:                           0.408   Prob(JB):                     9.82e-13\n",
              "Kurtosis:                       3.411   Cond. No.                     5.68e+05\n",
              "==============================================================================\n",
              "\n",
              "Notes:\n",
              "[1] Standard Errors assume that the covariance matrix of the errors is correctly specified.\n",
              "[2] The condition number is large, 5.68e+05. This might indicate that there are\n",
              "strong multicollinearity or other numerical problems.\n",
              "\"\"\""
            ],
            "text/html": [
              "<table class=\"simpletable\">\n",
              "<caption>OLS Regression Results</caption>\n",
              "<tr>\n",
              "  <th>Dep. Variable:</th>           <td>CTC</td>       <th>  R-squared:         </th> <td>   0.534</td> \n",
              "</tr>\n",
              "<tr>\n",
              "  <th>Model:</th>                   <td>OLS</td>       <th>  Adj. R-squared:    </th> <td>   0.532</td> \n",
              "</tr>\n",
              "<tr>\n",
              "  <th>Method:</th>             <td>Least Squares</td>  <th>  F-statistic:       </th> <td>   259.1</td> \n",
              "</tr>\n",
              "<tr>\n",
              "  <th>Date:</th>             <td>Sun, 08 Sep 2024</td> <th>  Prob (F-statistic):</th> <td>4.70e-257</td>\n",
              "</tr>\n",
              "<tr>\n",
              "  <th>Time:</th>                 <td>19:19:52</td>     <th>  Log-Likelihood:    </th> <td> -16648.</td> \n",
              "</tr>\n",
              "<tr>\n",
              "  <th>No. Observations:</th>      <td>  1589</td>      <th>  AIC:               </th> <td>3.331e+04</td>\n",
              "</tr>\n",
              "<tr>\n",
              "  <th>Df Residuals:</th>          <td>  1581</td>      <th>  BIC:               </th> <td>3.335e+04</td>\n",
              "</tr>\n",
              "<tr>\n",
              "  <th>Df Model:</th>              <td>     7</td>      <th>                     </th>     <td> </td>    \n",
              "</tr>\n",
              "<tr>\n",
              "  <th>Covariance Type:</th>      <td>nonrobust</td>    <th>                     </th>     <td> </td>    \n",
              "</tr>\n",
              "</table>\n",
              "<table class=\"simpletable\">\n",
              "<tr>\n",
              "           <td></td>              <th>coef</th>     <th>std err</th>      <th>t</th>      <th>P>|t|</th>  <th>[0.025</th>    <th>0.975]</th>  \n",
              "</tr>\n",
              "<tr>\n",
              "  <th>const</th>               <td> 3.842e+04</td> <td> 2192.660</td> <td>   17.523</td> <td> 0.000</td> <td> 3.41e+04</td> <td> 4.27e+04</td>\n",
              "</tr>\n",
              "<tr>\n",
              "  <th>College</th>             <td> -481.5147</td> <td>  258.382</td> <td>   -1.864</td> <td> 0.063</td> <td> -988.321</td> <td>   25.292</td>\n",
              "</tr>\n",
              "<tr>\n",
              "  <th>City</th>                <td>  380.8308</td> <td>  433.455</td> <td>    0.879</td> <td> 0.380</td> <td> -469.377</td> <td> 1231.039</td>\n",
              "</tr>\n",
              "<tr>\n",
              "  <th>Previous CTC</th>        <td>    0.4101</td> <td>    0.033</td> <td>   12.526</td> <td> 0.000</td> <td>    0.346</td> <td>    0.474</td>\n",
              "</tr>\n",
              "<tr>\n",
              "  <th>Previous job change</th> <td>  126.5653</td> <td>  192.887</td> <td>    0.656</td> <td> 0.512</td> <td> -251.776</td> <td>  504.906</td>\n",
              "</tr>\n",
              "<tr>\n",
              "  <th>Graduation Marks</th>    <td>    6.2362</td> <td>   14.502</td> <td>    0.430</td> <td> 0.667</td> <td>  -22.208</td> <td>   34.681</td>\n",
              "</tr>\n",
              "<tr>\n",
              "  <th>EXP (Month)</th>         <td>  261.3444</td> <td>   15.460</td> <td>   16.904</td> <td> 0.000</td> <td>  231.020</td> <td>  291.669</td>\n",
              "</tr>\n",
              "<tr>\n",
              "  <th>Role_Manager</th>        <td> 1.949e+04</td> <td>  534.694</td> <td>   36.446</td> <td> 0.000</td> <td> 1.84e+04</td> <td> 2.05e+04</td>\n",
              "</tr>\n",
              "</table>\n",
              "<table class=\"simpletable\">\n",
              "<tr>\n",
              "  <th>Omnibus:</th>       <td>49.726</td> <th>  Durbin-Watson:     </th> <td>   2.052</td>\n",
              "</tr>\n",
              "<tr>\n",
              "  <th>Prob(Omnibus):</th> <td> 0.000</td> <th>  Jarque-Bera (JB):  </th> <td>  55.299</td>\n",
              "</tr>\n",
              "<tr>\n",
              "  <th>Skew:</th>          <td> 0.408</td> <th>  Prob(JB):          </th> <td>9.82e-13</td>\n",
              "</tr>\n",
              "<tr>\n",
              "  <th>Kurtosis:</th>      <td> 3.411</td> <th>  Cond. No.          </th> <td>5.68e+05</td>\n",
              "</tr>\n",
              "</table><br/><br/>Notes:<br/>[1] Standard Errors assume that the covariance matrix of the errors is correctly specified.<br/>[2] The condition number is large, 5.68e+05. This might indicate that there are<br/>strong multicollinearity or other numerical problems."
            ],
            "text/latex": "\\begin{center}\n\\begin{tabular}{lclc}\n\\toprule\n\\textbf{Dep. Variable:}      &       CTC        & \\textbf{  R-squared:         } &     0.534   \\\\\n\\textbf{Model:}              &       OLS        & \\textbf{  Adj. R-squared:    } &     0.532   \\\\\n\\textbf{Method:}             &  Least Squares   & \\textbf{  F-statistic:       } &     259.1   \\\\\n\\textbf{Date:}               & Sun, 08 Sep 2024 & \\textbf{  Prob (F-statistic):} & 4.70e-257   \\\\\n\\textbf{Time:}               &     19:19:52     & \\textbf{  Log-Likelihood:    } &   -16648.   \\\\\n\\textbf{No. Observations:}   &        1589      & \\textbf{  AIC:               } & 3.331e+04   \\\\\n\\textbf{Df Residuals:}       &        1581      & \\textbf{  BIC:               } & 3.335e+04   \\\\\n\\textbf{Df Model:}           &           7      & \\textbf{                     } &             \\\\\n\\textbf{Covariance Type:}    &    nonrobust     & \\textbf{                     } &             \\\\\n\\bottomrule\n\\end{tabular}\n\\begin{tabular}{lcccccc}\n                             & \\textbf{coef} & \\textbf{std err} & \\textbf{t} & \\textbf{P$> |$t$|$} & \\textbf{[0.025} & \\textbf{0.975]}  \\\\\n\\midrule\n\\textbf{const}               &    3.842e+04  &     2192.660     &    17.523  &         0.000        &     3.41e+04    &     4.27e+04     \\\\\n\\textbf{College}             &    -481.5147  &      258.382     &    -1.864  &         0.063        &     -988.321    &       25.292     \\\\\n\\textbf{City}                &     380.8308  &      433.455     &     0.879  &         0.380        &     -469.377    &     1231.039     \\\\\n\\textbf{Previous CTC}        &       0.4101  &        0.033     &    12.526  &         0.000        &        0.346    &        0.474     \\\\\n\\textbf{Previous job change} &     126.5653  &      192.887     &     0.656  &         0.512        &     -251.776    &      504.906     \\\\\n\\textbf{Graduation Marks}    &       6.2362  &       14.502     &     0.430  &         0.667        &      -22.208    &       34.681     \\\\\n\\textbf{EXP (Month)}         &     261.3444  &       15.460     &    16.904  &         0.000        &      231.020    &      291.669     \\\\\n\\textbf{Role\\_Manager}       &    1.949e+04  &      534.694     &    36.446  &         0.000        &     1.84e+04    &     2.05e+04     \\\\\n\\bottomrule\n\\end{tabular}\n\\begin{tabular}{lclc}\n\\textbf{Omnibus:}       & 49.726 & \\textbf{  Durbin-Watson:     } &    2.052  \\\\\n\\textbf{Prob(Omnibus):} &  0.000 & \\textbf{  Jarque-Bera (JB):  } &   55.299  \\\\\n\\textbf{Skew:}          &  0.408 & \\textbf{  Prob(JB):          } & 9.82e-13  \\\\\n\\textbf{Kurtosis:}      &  3.411 & \\textbf{  Cond. No.          } & 5.68e+05  \\\\\n\\bottomrule\n\\end{tabular}\n%\\caption{OLS Regression Results}\n\\end{center}\n\nNotes: \\newline\n [1] Standard Errors assume that the covariance matrix of the errors is correctly specified. \\newline\n [2] The condition number is large, 5.68e+05. This might indicate that there are \\newline\n strong multicollinearity or other numerical problems."
          },
          "metadata": {},
          "execution_count": 25
        }
      ],
      "source": [
        "import statsmodels.api as sn\n",
        "\n",
        "# Creating x constant\n",
        "x_cons=sn.add_constant(x)\n",
        "lm2=sn.OLS(y,x_cons).fit()\n",
        "lm2.summary()"
      ]
    },
    {
      "cell_type": "markdown",
      "id": "c4ed9ef2-edd4-4ff0-8e66-57ec0a1d1401",
      "metadata": {
        "id": "c4ed9ef2-edd4-4ff0-8e66-57ec0a1d1401"
      },
      "source": [
        "## Train Test Split"
      ]
    },
    {
      "cell_type": "code",
      "execution_count": 26,
      "id": "f3225961-81c8-49f3-a6d3-f5774b9612fb",
      "metadata": {
        "colab": {
          "base_uri": "https://localhost:8080/"
        },
        "id": "f3225961-81c8-49f3-a6d3-f5774b9612fb",
        "outputId": "8a5fb71a-c21e-4d8f-b18b-8492588a90ee"
      },
      "outputs": [
        {
          "output_type": "stream",
          "name": "stdout",
          "text": [
            "Shape of x_train, x_test, y_train, y_test: (1271, 7) (318, 7) (1271,) (318,)\n",
            "r2_score - Train: 0.5137747142134839, Test: 0.5933517958385095\n",
            "mean_squared_error - Train: 73096299.02751341, Test: 77362774.9495653\n"
          ]
        }
      ],
      "source": [
        "from sklearn.model_selection import train_test_split\n",
        "from sklearn.metrics import mean_squared_error, r2_score\n",
        "\n",
        "# Splitting data into training testing sets\n",
        "x_train,x_test,y_train,y_test = train_test_split(x, y, test_size=0.2, random_state=42)\n",
        "print(\"Shape of x_train, x_test, y_train, y_test:\",x_train.shape, x_test.shape, y_train.shape, y_test.shape)\n",
        "\n",
        "# Creating a Linear Regression model\n",
        "model=LinearRegression()\n",
        "\n",
        "# Training the model\n",
        "model.fit(x_train, y_train)\n",
        "\n",
        "# Calculating R^2 scores\n",
        "r2_score_train = r2_score(y_train, model.predict(x_train))\n",
        "r2_score_test = r2_score(y_test, model.predict(x_test))\n",
        "\n",
        "# Calculating MeanSquaredError\n",
        "mse_train = mean_squared_error(y_train, model.predict(x_train))\n",
        "mse_test = mean_squared_error(y_test, model.predict(x_test))\n",
        "\n",
        "print(\"r2_score - Train: {}, Test: {}\".format(r2_score_train, r2_score_test))\n",
        "print(\"mean_squared_error - Train: {}, Test: {}\".format(mse_train, mse_test))"
      ]
    },
    {
      "cell_type": "markdown",
      "id": "79980c14-1a40-4394-a877-a148862576ad",
      "metadata": {
        "id": "79980c14-1a40-4394-a877-a148862576ad"
      },
      "source": [
        "## Ridge Regression"
      ]
    },
    {
      "cell_type": "code",
      "execution_count": 27,
      "id": "d1b285b5-49dc-4991-95b9-3c4167b9c783",
      "metadata": {
        "colab": {
          "base_uri": "https://localhost:8080/"
        },
        "id": "d1b285b5-49dc-4991-95b9-3c4167b9c783",
        "outputId": "4c5553be-2756-49b8-e38b-1833bca19127"
      },
      "outputs": [
        {
          "output_type": "stream",
          "name": "stdout",
          "text": [
            "r2_score (Ridge) - Train: 0.5137746367193257, Test: 0.5932834469083478\n",
            "mean_squared_error (Ridge) - Train: 73096310.67753725, Test: 77375777.98965754\n"
          ]
        }
      ],
      "source": [
        "# Standardizing the data\n",
        "\n",
        "from sklearn import preprocessing\n",
        "scaler = preprocessing.StandardScaler().fit(x_train)\n",
        "x_train_s = scaler.transform(x_train)\n",
        "x_test_s = scaler.transform(x_test)\n",
        "\n",
        "from sklearn.linear_model import Ridge\n",
        "\n",
        "# Creating a Ridge Regression model with an alpha parameter of 0.5\n",
        "ridge_model = Ridge(alpha=0.5)\n",
        "\n",
        "# Fit the model to the training data\n",
        "ridge_model.fit(x_train_s, y_train)\n",
        "\n",
        "# Calculating R^2_scores\n",
        "r2_score_train_ridge = r2_score(y_train, ridge_model.predict(x_train_s))\n",
        "r2_score_test_ridge = r2_score(y_test, ridge_model.predict(x_test_s))\n",
        "\n",
        "# Calculating MeanSquaredError\n",
        "mse_train_ridge = mean_squared_error(y_train, ridge_model.predict(x_train_s))\n",
        "mse_test_ridge = mean_squared_error(y_test, ridge_model.predict(x_test_s))\n",
        "\n",
        "print(\"r2_score (Ridge) - Train: {}, Test: {}\".format(r2_score_train_ridge, r2_score_test_ridge))\n",
        "print(\"mean_squared_error (Ridge) - Train: {}, Test: {}\".format(mse_train_ridge, mse_test_ridge))"
      ]
    },
    {
      "cell_type": "markdown",
      "id": "4d09d911-dea3-4da5-84e9-7f90a604247b",
      "metadata": {
        "id": "4d09d911-dea3-4da5-84e9-7f90a604247b"
      },
      "source": [
        "## Ridge Regression with Validation Curve"
      ]
    },
    {
      "cell_type": "code",
      "execution_count": 28,
      "id": "79771644-3bfe-488b-8b58-9883cea12838",
      "metadata": {
        "colab": {
          "base_uri": "https://localhost:8080/"
        },
        "id": "79771644-3bfe-488b-8b58-9883cea12838",
        "outputId": "bfa14d0c-72da-4562-8f1e-d2ab0f075180"
      },
      "outputs": [
        {
          "output_type": "execute_result",
          "data": {
            "text/plain": [
              "array([1.00000000e-02, 1.26185688e-02, 1.59228279e-02, 2.00923300e-02,\n",
              "       2.53536449e-02, 3.19926714e-02, 4.03701726e-02, 5.09413801e-02,\n",
              "       6.42807312e-02, 8.11130831e-02, 1.02353102e-01, 1.29154967e-01,\n",
              "       1.62975083e-01, 2.05651231e-01, 2.59502421e-01, 3.27454916e-01,\n",
              "       4.13201240e-01, 5.21400829e-01, 6.57933225e-01, 8.30217568e-01,\n",
              "       1.04761575e+00, 1.32194115e+00, 1.66810054e+00, 2.10490414e+00,\n",
              "       2.65608778e+00, 3.35160265e+00, 4.22924287e+00, 5.33669923e+00,\n",
              "       6.73415066e+00, 8.49753436e+00, 1.07226722e+01, 1.35304777e+01,\n",
              "       1.70735265e+01, 2.15443469e+01, 2.71858824e+01, 3.43046929e+01,\n",
              "       4.32876128e+01, 5.46227722e+01, 6.89261210e+01, 8.69749003e+01,\n",
              "       1.09749877e+02, 1.38488637e+02, 1.74752840e+02, 2.20513074e+02,\n",
              "       2.78255940e+02, 3.51119173e+02, 4.43062146e+02, 5.59081018e+02,\n",
              "       7.05480231e+02, 8.90215085e+02, 1.12332403e+03, 1.41747416e+03,\n",
              "       1.78864953e+03, 2.25701972e+03, 2.84803587e+03, 3.59381366e+03,\n",
              "       4.53487851e+03, 5.72236766e+03, 7.22080902e+03, 9.11162756e+03,\n",
              "       1.14975700e+04, 1.45082878e+04, 1.83073828e+04, 2.31012970e+04,\n",
              "       2.91505306e+04, 3.67837977e+04, 4.64158883e+04, 5.85702082e+04,\n",
              "       7.39072203e+04, 9.32603347e+04, 1.17681195e+05, 1.48496826e+05,\n",
              "       1.87381742e+05, 2.36448941e+05, 2.98364724e+05, 3.76493581e+05,\n",
              "       4.75081016e+05, 5.99484250e+05, 7.56463328e+05, 9.54548457e+05,\n",
              "       1.20450354e+06, 1.51991108e+06, 1.91791026e+06, 2.42012826e+06,\n",
              "       3.05385551e+06, 3.85352859e+06, 4.86260158e+06, 6.13590727e+06,\n",
              "       7.74263683e+06, 9.77009957e+06, 1.23284674e+07, 1.55567614e+07,\n",
              "       1.96304065e+07, 2.47707636e+07, 3.12571585e+07, 3.94420606e+07,\n",
              "       4.97702356e+07, 6.28029144e+07, 7.92482898e+07, 1.00000000e+08])"
            ]
          },
          "metadata": {},
          "execution_count": 28
        }
      ],
      "source": [
        "from sklearn.model_selection import validation_curve\n",
        "\n",
        "# Define a range of alpha values\n",
        "param_range = np.logspace(-2,8,100)\n",
        "param_range"
      ]
    },
    {
      "cell_type": "code",
      "execution_count": 29,
      "id": "2cc0a5e2-8d2c-463f-87c5-18fbebbd5a30",
      "metadata": {
        "id": "2cc0a5e2-8d2c-463f-87c5-18fbebbd5a30"
      },
      "outputs": [],
      "source": [
        "# Perform validation curve to find best alpha value\n",
        "train_scores, test_scores = validation_curve(Ridge(), x_train_s, y_train, param_name=\"alpha\", param_range=param_range, scoring='r2')"
      ]
    },
    {
      "cell_type": "code",
      "execution_count": 30,
      "id": "c6f647a4-a3ae-4f54-b408-e4b0065a2a33",
      "metadata": {
        "colab": {
          "base_uri": "https://localhost:8080/"
        },
        "id": "c6f647a4-a3ae-4f54-b408-e4b0065a2a33",
        "outputId": "13957949-6291-42cc-dfde-697ece5e4583"
      },
      "outputs": [
        {
          "output_type": "stream",
          "name": "stdout",
          "text": [
            "[[5.10979008e-01 5.36437285e-01 4.99879242e-01 5.14327357e-01\n",
            "  5.09289503e-01]\n",
            " [5.10979008e-01 5.36437285e-01 4.99879242e-01 5.14327357e-01\n",
            "  5.09289503e-01]\n",
            " [5.10979008e-01 5.36437285e-01 4.99879242e-01 5.14327357e-01\n",
            "  5.09289502e-01]\n",
            " [5.10979008e-01 5.36437285e-01 4.99879242e-01 5.14327357e-01\n",
            "  5.09289502e-01]\n",
            " [5.10979008e-01 5.36437285e-01 4.99879242e-01 5.14327357e-01\n",
            "  5.09289502e-01]\n",
            " [5.10979007e-01 5.36437284e-01 4.99879242e-01 5.14327356e-01\n",
            "  5.09289502e-01]\n",
            " [5.10979007e-01 5.36437284e-01 4.99879241e-01 5.14327356e-01\n",
            "  5.09289502e-01]\n",
            " [5.10979007e-01 5.36437284e-01 4.99879241e-01 5.14327356e-01\n",
            "  5.09289501e-01]\n",
            " [5.10979006e-01 5.36437283e-01 4.99879240e-01 5.14327355e-01\n",
            "  5.09289501e-01]\n",
            " [5.10979005e-01 5.36437282e-01 4.99879239e-01 5.14327354e-01\n",
            "  5.09289499e-01]\n",
            " [5.10979003e-01 5.36437280e-01 4.99879237e-01 5.14327352e-01\n",
            "  5.09289497e-01]\n",
            " [5.10979000e-01 5.36437277e-01 4.99879234e-01 5.14327349e-01\n",
            "  5.09289494e-01]\n",
            " [5.10978995e-01 5.36437272e-01 4.99879229e-01 5.14327344e-01\n",
            "  5.09289490e-01]\n",
            " [5.10978987e-01 5.36437265e-01 4.99879222e-01 5.14327337e-01\n",
            "  5.09289482e-01]\n",
            " [5.10978974e-01 5.36437253e-01 4.99879210e-01 5.14327325e-01\n",
            "  5.09289470e-01]\n",
            " [5.10978955e-01 5.36437234e-01 4.99879190e-01 5.14327306e-01\n",
            "  5.09289450e-01]\n",
            " [5.10978923e-01 5.36437204e-01 4.99879159e-01 5.14327276e-01\n",
            "  5.09289419e-01]\n",
            " [5.10978873e-01 5.36437155e-01 4.99879110e-01 5.14327227e-01\n",
            "  5.09289369e-01]\n",
            " [5.10978793e-01 5.36437079e-01 4.99879032e-01 5.14327151e-01\n",
            "  5.09289290e-01]\n",
            " [5.10978666e-01 5.36436957e-01 4.99878907e-01 5.14327029e-01\n",
            "  5.09289165e-01]\n",
            " [5.10978464e-01 5.36436763e-01 4.99878709e-01 5.14326834e-01\n",
            "  5.09288965e-01]\n",
            " [5.10978143e-01 5.36436454e-01 4.99878394e-01 5.14326525e-01\n",
            "  5.09288647e-01]\n",
            " [5.10977631e-01 5.36435963e-01 4.99877892e-01 5.14326033e-01\n",
            "  5.09288141e-01]\n",
            " [5.10976818e-01 5.36435183e-01 4.99877095e-01 5.14325251e-01\n",
            "  5.09287336e-01]\n",
            " [5.10975524e-01 5.36433941e-01 4.99875827e-01 5.14324008e-01\n",
            "  5.09286057e-01]\n",
            " [5.10973469e-01 5.36431967e-01 4.99873811e-01 5.14322032e-01\n",
            "  5.09284023e-01]\n",
            " [5.10970203e-01 5.36428832e-01 4.99870610e-01 5.14318892e-01\n",
            "  5.09280793e-01]\n",
            " [5.10965019e-01 5.36423854e-01 4.99865527e-01 5.14313907e-01\n",
            "  5.09275665e-01]\n",
            " [5.10956795e-01 5.36415955e-01 4.99857465e-01 5.14306000e-01\n",
            "  5.09267530e-01]\n",
            " [5.10943762e-01 5.36403435e-01 4.99844690e-01 5.14293466e-01\n",
            "  5.09254638e-01]\n",
            " [5.10923132e-01 5.36383613e-01 4.99824470e-01 5.14273625e-01\n",
            "  5.09234231e-01]\n",
            " [5.10890527e-01 5.36352275e-01 4.99792518e-01 5.14242263e-01\n",
            "  5.09201981e-01]\n",
            " [5.10839095e-01 5.36302823e-01 4.99742125e-01 5.14192785e-01\n",
            "  5.09151111e-01]\n",
            " [5.10758161e-01 5.36224968e-01 4.99662841e-01 5.14114909e-01\n",
            "  5.09071064e-01]\n",
            " [5.10631186e-01 5.36102750e-01 4.99538487e-01 5.13992702e-01\n",
            "  5.08945487e-01]\n",
            " [5.10432727e-01 5.35911585e-01 4.99344188e-01 5.13801636e-01\n",
            "  5.08749226e-01]\n",
            " [5.10123995e-01 5.35613926e-01 4.99042046e-01 5.13504288e-01\n",
            "  5.08443939e-01]\n",
            " [5.09646510e-01 5.35153036e-01 4.98574972e-01 5.13044184e-01\n",
            "  5.07971824e-01]\n",
            " [5.08913335e-01 5.34444338e-01 4.97858192e-01 5.12337269e-01\n",
            "  5.07246972e-01]\n",
            " [5.07797493e-01 5.33363860e-01 4.96768035e-01 5.11260577e-01\n",
            "  5.06143930e-01]\n",
            " [5.06117577e-01 5.31733702e-01 4.95128075e-01 5.09638084e-01\n",
            "  5.04483500e-01]\n",
            " [5.03621517e-01 5.29305273e-01 4.92693566e-01 5.07224566e-01\n",
            "  5.02016721e-01]\n",
            " [4.99971075e-01 5.25742617e-01 4.89136684e-01 5.03689868e-01\n",
            "  4.98409552e-01]\n",
            " [4.94732022e-01 5.20610478e-01 4.84037364e-01 4.98608265e-01\n",
            "  4.93233109e-01]\n",
            " [4.87377639e-01 5.13374563e-01 4.76886987e-01 4.91460291e-01\n",
            "  4.85966951e-01]\n",
            " [4.77314991e-01 5.03423670e-01 4.67113831e-01 4.81656346e-01\n",
            "  4.76024645e-01]\n",
            " [4.63942344e-01 4.90122956e-01 4.54138027e-01 4.68590667e-01\n",
            "  4.62809817e-01]\n",
            " [4.46739785e-01 4.72902258e-01 4.37457755e-01 4.51728619e-01\n",
            "  4.45804810e-01]\n",
            " [4.25383033e-01 4.51371853e-01 4.16757188e-01 4.30718741e-01\n",
            "  4.24682343e-01]\n",
            " [3.99855587e-01 4.25442660e-01 3.92012938e-01 4.05506359e-01\n",
            "  3.99416160e-01]\n",
            " [3.70524178e-01 3.95415665e-01 3.63566509e-01 3.76414583e-01\n",
            "  3.70356641e-01]\n",
            " [3.38145458e-01 3.62005154e-01 3.32132793e-01 3.44159757e-01\n",
            "  3.38239833e-01]\n",
            " [3.03790871e-01 3.26277084e-01 2.98731861e-01 3.09785620e-01\n",
            "  3.04116414e-01]\n",
            " [2.68704804e-01 2.89512304e-01 2.64557008e-01 2.74527880e-01\n",
            "  2.69214301e-01]\n",
            " [2.34134345e-01 2.53030797e-01 2.30813822e-01 2.39645232e-01\n",
            "  2.34771565e-01]\n",
            " [2.01175553e-01 2.18024004e-01 1.98572129e-01 2.06261683e-01\n",
            "  2.01883561e-01]\n",
            " [1.70669556e-01 1.85433667e-01 1.68663058e-01 1.75255476e-01\n",
            "  1.71397671e-01]\n",
            " [1.43160502e-01 1.55894565e-01 1.41634199e-01 1.47209407e-01\n",
            "  1.43868598e-01]\n",
            " [1.18907728e-01 1.29736853e-01 1.17757166e-01 1.22417024e-01\n",
            "  1.19567710e-01]\n",
            " [9.79335336e-02 1.07030086e-01 9.70707651e-02 1.00927040e-01\n",
            "  9.85286041e-02]\n",
            " [8.00863344e-02 8.76475145e-02 7.94406259e-02 8.26055700e-02\n",
            "  8.06089879e-02]\n",
            " [6.51034883e-02 7.13329412e-02 6.46198531e-02 6.71997365e-02\n",
            "  6.55530538e-02]\n",
            " [5.26645265e-02 5.77590355e-02 5.23012540e-02 5.43925403e-02\n",
            "  5.30448361e-02]\n",
            " [4.24312099e-02 4.65722526e-02 4.21571842e-02 4.38447606e-02\n",
            "  4.27486811e-02]\n",
            " [3.40746153e-02 3.74239102e-02 3.38668612e-02 3.52237027e-02\n",
            "  3.43368315e-02]\n",
            " [2.72913808e-02 2.99893588e-02 2.71330186e-02 2.82207500e-02\n",
            "  2.75061320e-02]\n",
            " [2.18118352e-02 2.39780489e-02 2.16904740e-02 2.25604242e-02\n",
            "  2.19865297e-02]\n",
            " [1.74025754e-02 1.91372535e-02 1.73090984e-02 1.80035659e-02\n",
            "  1.75439227e-02]\n",
            " [1.38655690e-02 1.52517413e-02 1.37932374e-02 1.43467905e-02\n",
            "  1.39794466e-02]\n",
            " [1.10353101e-02 1.21411178e-02 1.09791124e-02 1.14198180e-02\n",
            "  1.11267449e-02]\n",
            " [8.77506844e-03 9.65602404e-03 8.73125199e-03 9.08178245e-03\n",
            "  8.84828531e-03]\n",
            " [6.97289292e-03 7.67395987e-03 6.93862764e-03 7.21722391e-03\n",
            "  7.03139596e-03]\n",
            " [5.53775743e-03 6.09518884e-03 5.51089416e-03 5.73218556e-03\n",
            "  5.58442396e-03]\n",
            " [4.39605156e-03 4.83897246e-03 4.37494759e-03 4.55063761e-03\n",
            "  4.43322608e-03]\n",
            " [3.48850209e-03 3.84024441e-03 3.47189443e-03 3.61132743e-03\n",
            "  3.51808352e-03]\n",
            " [2.76754042e-03 3.04675323e-03 2.75445296e-03 2.86507811e-03\n",
            "  2.79105966e-03]\n",
            " [2.19509199e-03 2.41665486e-03 2.18476698e-03 2.27251533e-03\n",
            "  2.21377876e-03]\n",
            " [1.74074481e-03 1.91651301e-03 1.73259178e-03 1.80218102e-03\n",
            "  1.75558409e-03]\n",
            " [1.38024730e-03 1.51965595e-03 1.37380467e-03 1.42898449e-03\n",
            "  1.39202627e-03]\n",
            " [1.09428552e-03 1.20483703e-03 1.08919148e-03 1.13294037e-03\n",
            "  1.10363216e-03]\n",
            " [8.67493621e-04 9.55149398e-04 8.63464010e-04 8.98146712e-04\n",
            "  8.74908225e-04]\n",
            " [6.87656752e-04 7.57151114e-04 6.84467961e-04 7.11961237e-04\n",
            "  6.93537447e-04]\n",
            " [5.45071127e-04 6.00162229e-04 5.42546962e-04 5.64339830e-04\n",
            "  5.49734461e-04]\n",
            " [4.32031739e-04 4.75701810e-04 4.30033202e-04 4.47306766e-04\n",
            "  4.35729226e-04]\n",
            " [3.42423115e-04 3.77038009e-04 3.40840453e-04 3.54531398e-04\n",
            "  3.45354489e-04]\n",
            " [2.71392951e-04 2.98829128e-04 2.70139437e-04 2.80990495e-04\n",
            "  2.73716754e-04]\n",
            " [2.15092166e-04 2.36837673e-04 2.14099230e-04 2.22699274e-04\n",
            "  2.16934206e-04]\n",
            " [1.70468103e-04 1.87702807e-04 1.69681502e-04 1.76497370e-04\n",
            "  1.71928180e-04]\n",
            " [1.35100116e-04 1.48759431e-04 1.34476926e-04 1.39878687e-04\n",
            "  1.36257385e-04]\n",
            " [1.07068965e-04 1.17894434e-04 1.06575210e-04 1.10856203e-04\n",
            "  1.07986197e-04]\n",
            " [8.48531087e-05 9.34325444e-05 8.44618867e-05 8.78546196e-05\n",
            "  8.55800716e-05]\n",
            " [6.72463866e-05 7.40457169e-05 6.69363940e-05 6.96251516e-05\n",
            "  6.78225377e-05]\n",
            " [5.32927098e-05 5.86812351e-05 5.30470738e-05 5.51779152e-05\n",
            "  5.37493283e-05]\n",
            " [4.22342511e-05 4.65046733e-05 4.20396061e-05 4.37282910e-05\n",
            "  4.25961313e-05]\n",
            " [3.34703550e-05 3.68546596e-05 3.33161132e-05 3.46543856e-05\n",
            "  3.37571502e-05]\n",
            " [2.65249561e-05 2.92070022e-05 2.64027289e-05 2.74632986e-05\n",
            "  2.67522434e-05]\n",
            " [2.10207450e-05 2.31462475e-05 2.09238864e-05 2.17643770e-05\n",
            "  2.12008707e-05]\n",
            " [1.66586882e-05 1.83431295e-05 1.65819322e-05 1.72480112e-05\n",
            "  1.68014376e-05]\n",
            " [1.32017929e-05 1.45366944e-05 1.31409668e-05 1.36688259e-05\n",
            "  1.33149211e-05]\n",
            " [1.04622375e-05 1.15201307e-05 1.04140348e-05 1.08323560e-05\n",
            "  1.05518907e-05]]\n",
            "[[ 5.22125680e-01  3.92101917e-01  5.63523748e-01  5.08779823e-01\n",
            "   5.28175857e-01]\n",
            " [ 5.22125626e-01  3.92102308e-01  5.63523597e-01  5.08779854e-01\n",
            "   5.28175731e-01]\n",
            " [ 5.22125558e-01  3.92102801e-01  5.63523406e-01  5.08779894e-01\n",
            "   5.28175571e-01]\n",
            " [ 5.22125473e-01  3.92103423e-01  5.63523166e-01  5.08779945e-01\n",
            "   5.28175371e-01]\n",
            " [ 5.22125365e-01  3.92104209e-01  5.63522862e-01  5.08780008e-01\n",
            "   5.28175117e-01]\n",
            " [ 5.22125229e-01  3.92105199e-01  5.63522479e-01  5.08780088e-01\n",
            "   5.28174798e-01]\n",
            " [ 5.22125057e-01  3.92106449e-01  5.63521995e-01  5.08780190e-01\n",
            "   5.28174394e-01]\n",
            " [ 5.22124841e-01  3.92108027e-01  5.63521385e-01  5.08780317e-01\n",
            "   5.28173885e-01]\n",
            " [ 5.22124567e-01  3.92110017e-01  5.63520614e-01  5.08780478e-01\n",
            "   5.28173242e-01]\n",
            " [ 5.22124221e-01  3.92112527e-01  5.63519642e-01  5.08780680e-01\n",
            "   5.28172431e-01]\n",
            " [ 5.22123785e-01  3.92115695e-01  5.63518414e-01  5.08780935e-01\n",
            "   5.28171407e-01]\n",
            " [ 5.22123233e-01  3.92119692e-01  5.63516865e-01  5.08781257e-01\n",
            "   5.28170115e-01]\n",
            " [ 5.22122537e-01  3.92124733e-01  5.63514909e-01  5.08781661e-01\n",
            "   5.28168483e-01]\n",
            " [ 5.22121656e-01  3.92131093e-01  5.63512439e-01  5.08782169e-01\n",
            "   5.28166422e-01]\n",
            " [ 5.22120542e-01  3.92139115e-01  5.63509319e-01  5.08782809e-01\n",
            "   5.28163820e-01]\n",
            " [ 5.22119133e-01  3.92149232e-01  5.63505380e-01  5.08783611e-01\n",
            "   5.28160533e-01]\n",
            " [ 5.22117349e-01  3.92161990e-01  5.63500402e-01  5.08784617e-01\n",
            "   5.28156379e-01]\n",
            " [ 5.22115087e-01  3.92178075e-01  5.63494111e-01  5.08785876e-01\n",
            "   5.28151129e-01]\n",
            " [ 5.22112219e-01  3.92198351e-01  5.63486158e-01  5.08787448e-01\n",
            "   5.28144489e-01]\n",
            " [ 5.22108574e-01  3.92223903e-01  5.63476097e-01  5.08789404e-01\n",
            "   5.28136089e-01]\n",
            " [ 5.22103937e-01  3.92256092e-01  5.63463363e-01  5.08791831e-01\n",
            "   5.28125453e-01]\n",
            " [ 5.22098023e-01  3.92296624e-01  5.63447231e-01  5.08794826e-01\n",
            "   5.28111975e-01]\n",
            " [ 5.22090461e-01  3.92347634e-01  5.63426777e-01  5.08798498e-01\n",
            "   5.28094878e-01]\n",
            " [ 5.22080763e-01  3.92411784e-01  5.63400808e-01  5.08802962e-01\n",
            "   5.28073159e-01]\n",
            " [ 5.22068277e-01  3.92492389e-01  5.63367790e-01  5.08808326e-01\n",
            "   5.28045525e-01]\n",
            " [ 5.22052127e-01  3.92593555e-01  5.63325729e-01  5.08814665e-01\n",
            "   5.28010293e-01]\n",
            " [ 5.22031123e-01  3.92720347e-01  5.63272025e-01  5.08821985e-01\n",
            "   5.27965261e-01]\n",
            " [ 5.22003627e-01  3.92878967e-01  5.63203264e-01  5.08830146e-01\n",
            "   5.27907528e-01]\n",
            " [ 5.21967365e-01  3.93076951e-01  5.63114925e-01  5.08838742e-01\n",
            "   5.27833241e-01]\n",
            " [ 5.21919135e-01  3.93323343e-01  5.63000975e-01  5.08846902e-01\n",
            "   5.27737234e-01]\n",
            " [ 5.21854380e-01  3.93628835e-01  5.62853284e-01  5.08852965e-01\n",
            "   5.27612519e-01]\n",
            " [ 5.21766550e-01  3.94005793e-01  5.62660799e-01  5.08853961e-01\n",
            "   5.27449547e-01]\n",
            " [ 5.21646149e-01  3.94468072e-01  5.62408351e-01  5.08844798e-01\n",
            "   5.27235143e-01]\n",
            " [ 5.21479306e-01  3.95030471e-01  5.62074936e-01  5.08816989e-01\n",
            "   5.26950973e-01]\n",
            " [ 5.21245675e-01  3.95707568e-01  5.61631259e-01  5.08756705e-01\n",
            "   5.26571324e-01]\n",
            " [ 5.20915348e-01  3.96511587e-01  5.61036224e-01  5.08641839e-01\n",
            "   5.26059928e-01]\n",
            " [ 5.20444405e-01  3.97448792e-01  5.60232015e-01  5.08437670e-01\n",
            "   5.25365481e-01]\n",
            " [ 5.19768641e-01  3.98513759e-01  5.59137312e-01  5.08090618e-01\n",
            "   5.24415423e-01]\n",
            " [ 5.18794978e-01  3.99680742e-01  5.57638246e-01  5.07519550e-01\n",
            "   5.23107584e-01]\n",
            " [ 5.17390208e-01  4.00891349e-01  5.55576853e-01  5.06604184e-01\n",
            "   5.21299415e-01]\n",
            " [ 5.15367148e-01  4.02038034e-01  5.52737341e-01  5.05170543e-01\n",
            "   5.18794992e-01]\n",
            " [ 5.12469157e-01  4.02943701e-01  5.48831460e-01  5.02974308e-01\n",
            "   5.15330884e-01]\n",
            " [ 5.08355600e-01  4.03339332e-01  5.43486004e-01  4.99684506e-01\n",
            "   5.10563495e-01]\n",
            " [ 5.02593091e-01  4.02844093e-01  5.36237726e-01  4.94872316e-01\n",
            "   5.04062679e-01]\n",
            " [ 4.94659975e-01  4.00955670e-01  5.26543345e-01  4.88012551e-01\n",
            "   4.95318759e-01]\n",
            " [ 4.83973192e-01  3.97061519e-01  5.13813451e-01  4.78507306e-01\n",
            "   4.83771476e-01]\n",
            " [ 4.69945553e-01  3.90482217e-01  4.97477032e-01  4.65740572e-01\n",
            "   4.68867925e-01]\n",
            " [ 4.52075297e-01  3.80553458e-01  4.77076161e-01  4.49166732e-01\n",
            "   4.50150282e-01]\n",
            " [ 4.30057941e-01  3.66741831e-01  4.52378113e-01  4.28424222e-01\n",
            "   4.27362745e-01]\n",
            " [ 4.03895960e-01  3.48773205e-01  4.23478586e-01  4.03450690e-01\n",
            "   4.00553662e-01]\n",
            " [ 3.73971918e-01  3.26738313e-01  3.90862160e-01  3.74564998e-01\n",
            "   3.70140273e-01]\n",
            " [ 3.41053600e-01  3.01137535e-01  3.55391870e-01  3.42482830e-01\n",
            "   3.36907294e-01]\n",
            " [ 3.06218432e-01  2.72841698e-01  3.18220025e-01  3.08250178e-01\n",
            "   3.01928917e-01]\n",
            " [ 2.70712177e-01  2.42973756e-01  2.80639243e-01  2.73106783e-01\n",
            "   2.66429958e-01]\n",
            " [ 2.35779830e-01  2.12744065e-01  2.43912845e-01  2.38316003e-01\n",
            "   2.31622835e-01]\n",
            " [ 2.02513158e-01  1.83285240e-01  2.09127451e-01  2.05006278e-01\n",
            "   1.98562443e-01]\n",
            " [ 1.71747863e-01  1.55526294e-01  1.77097740e-01  1.74059617e-01\n",
            "   1.68049631e-01]\n",
            " [ 1.44022289e-01  1.30126077e-01  1.48332604e-01  1.46061795e-01\n",
            "   1.40593930e-01]\n",
            " [ 1.19590064e-01  1.07464556e-01  1.23053538e-01  1.21308645e-01\n",
            "   1.16427784e-01]\n",
            " [ 9.84681217e-02  8.76763078e-02  1.01246360e-01  9.98506216e-02\n",
            "   9.55543358e-02]\n",
            " [ 8.04999916e-02  7.07060965e-02  8.27264545e-02  8.15551856e-02\n",
            "   7.78094675e-02]\n",
            " [ 6.54186798e-02  5.63693318e-02  6.72024194e-02  6.61705275e-02\n",
            "   6.29230909e-02]\n",
            " [ 5.28999096e-02  4.44061860e-02  5.43293724e-02  5.33805130e-02\n",
            "   5.05708884e-02]\n",
            " [ 4.26021613e-02  3.45241402e-02  4.37487000e-02  4.28466353e-02\n",
            "   4.04131384e-02]\n",
            " [ 3.41937237e-02  2.64280283e-02  3.51146758e-02  3.42367928e-02\n",
            "   3.21208786e-02]\n",
            " [ 2.73688930e-02  1.98390768e-02  2.81101985e-02  2.72428629e-02\n",
            "   2.53915096e-02]\n",
            " [ 2.18560511e-02  1.45053893e-02  2.24544347e-02  2.15897775e-02\n",
            "   1.99565046e-02]\n",
            " [ 1.74201904e-02  1.02063763e-02  1.79049584e-02  1.70387166e-02\n",
            "   1.55837282e-02]\n",
            " [ 1.38619659e-02  6.75325302e-03  1.42564718e-02  1.33865743e-02\n",
            "   1.20763900e-02]\n",
            " [ 1.10148043e-02  3.98721419e-03  1.13376373e-02  1.04632987e-02\n",
            "   9.27012267e-03]\n",
            " [ 8.74111155e-03  1.77641499e-03  9.00705533e-03  8.12820901e-03\n",
            "   7.02919809e-03]\n",
            " [ 6.92824082e-03  1.24933414e-05  7.14904420e-03  6.26599538e-03\n",
            "   5.24252342e-03]\n",
            " [ 5.48460708e-03 -1.39291844e-03  5.66960167e-03  4.78282195e-03\n",
            "   3.81979361e-03]\n",
            " [ 4.33615227e-03 -2.51144487e-03  4.49274643e-03  3.60275611e-03\n",
            "   2.68799566e-03]\n",
            " [ 3.42324541e-03 -3.40086344e-03  3.55731849e-03  2.66462314e-03\n",
            "   1.78834636e-03]\n",
            " [ 2.69803244e-03 -4.10760752e-03  2.81424898e-03  1.91930844e-03\n",
            "   1.07367586e-03]\n",
            " [ 2.12221135e-03 -4.66888405e-03  2.22427125e-03  1.32748738e-03\n",
            "   5.06232214e-04]\n",
            " [ 1.66518915e-03 -5.11443780e-03  1.75602661e-03  8.57741551e-04\n",
            "   5.58632883e-05]\n",
            " [ 1.30257032e-03 -5.46800456e-03  1.38451196e-03  4.85011801e-04\n",
            "  -3.01473943e-04]\n",
            " [ 1.01492654e-03 -5.74849772e-03  1.08981698e-03  1.89337869e-04\n",
            "  -5.84926502e-04]\n",
            " [ 7.86801119e-04 -5.97097085e-03  8.56102734e-04 -4.51622572e-05\n",
            "  -8.09726890e-04]\n",
            " [ 6.05907109e-04 -6.14739463e-03  6.70779115e-04 -2.31115007e-04\n",
            "  -9.87983639e-04]\n",
            " [ 4.62483496e-04 -6.28728138e-03  5.23844765e-04 -3.78551916e-04\n",
            "  -1.12931586e-03]\n",
            " [ 3.48779877e-04 -6.39818569e-03  4.07358728e-04 -4.95438727e-04\n",
            "  -1.24136121e-03]\n",
            " [ 2.58644775e-04 -6.48610466e-03  3.15018470e-04 -5.88098166e-04\n",
            "  -1.33018161e-03]\n",
            " [ 1.87197331e-04 -6.55579727e-03  2.41823390e-04 -6.61547179e-04\n",
            "  -1.40058682e-03]\n",
            " [ 1.30565825e-04 -6.61103900e-03  1.83806859e-04 -7.19765571e-04\n",
            "  -1.45639216e-03]\n",
            " [ 8.56796481e-05 -6.65482436e-03  1.37823039e-04 -7.65909751e-04\n",
            "  -1.50062348e-03]\n",
            " [ 5.01039273e-05 -6.68952806e-03  1.01377434e-04 -8.02482685e-04\n",
            "  -1.53568015e-03]\n",
            " [ 2.19081429e-05 -6.71703300e-03  7.24922674e-05 -8.31468911e-04\n",
            "  -1.56346454e-03]\n",
            " [-4.38188543e-07 -6.73883199e-03  4.95996039e-05 -8.54441759e-04\n",
            "  -1.58548481e-03]\n",
            " [-1.81483132e-05 -6.75610845e-03  3.14565152e-05 -8.72648454e-04\n",
            "  -1.60293652e-03]\n",
            " [-3.21839368e-05 -6.76980045e-03  1.70777716e-05 -8.87077642e-04\n",
            "  -1.61676734e-03]\n",
            " [-4.33073384e-05 -6.78065157e-03  5.68245121e-06 -8.98512963e-04\n",
            "  -1.62772843e-03]\n",
            " [-5.21227014e-05 -6.78925118e-03 -3.34840408e-06 -9.07575533e-04\n",
            "  -1.63641516e-03]\n",
            " [-5.91088875e-05 -6.79606639e-03 -1.05053650e-05 -9.14757637e-04\n",
            "  -1.64329940e-03]\n",
            " [-6.46454220e-05 -6.80146745e-03 -1.61772361e-05 -9.20449440e-04\n",
            "  -1.64875514e-03]\n",
            " [-6.90330947e-05 -6.80574776e-03 -2.06721612e-05 -9.24960164e-04\n",
            "  -1.65307879e-03]\n",
            " [-7.25102904e-05 -6.80913988e-03 -2.42343526e-05 -9.28534878e-04\n",
            "  -1.65650524e-03]\n",
            " [-7.52659336e-05 -6.81182810e-03 -2.70573537e-05 -9.31367804e-04\n",
            "  -1.65922068e-03]]\n"
          ]
        }
      ],
      "source": [
        "print(train_scores)\n",
        "print(test_scores)"
      ]
    },
    {
      "cell_type": "code",
      "execution_count": 31,
      "id": "c1f1e0b0-d42a-4b82-8145-0040c4da09e4",
      "metadata": {
        "colab": {
          "base_uri": "https://localhost:8080/"
        },
        "id": "c1f1e0b0-d42a-4b82-8145-0040c4da09e4",
        "outputId": "fce3fd55-15d4-456f-9773-c6b7abdc172a"
      },
      "outputs": [
        {
          "output_type": "execute_result",
          "data": {
            "text/plain": [
              "0.5029662449327639"
            ]
          },
          "metadata": {},
          "execution_count": 31
        }
      ],
      "source": [
        "# Taking mean values of train_scores and test_scores\n",
        "train_mean = np.mean(train_scores, axis=1)\n",
        "test_mean = np.mean(test_scores, axis=1)\n",
        "max(test_mean)"
      ]
    },
    {
      "cell_type": "code",
      "execution_count": 32,
      "id": "9bbc560d-d7ca-4288-b49f-f52253c60346",
      "metadata": {
        "colab": {
          "base_uri": "https://localhost:8080/",
          "height": 643
        },
        "id": "9bbc560d-d7ca-4288-b49f-f52253c60346",
        "outputId": "7dcb3e66-7cb2-4323-cf32-9fb57117fc81"
      },
      "outputs": [
        {
          "output_type": "execute_result",
          "data": {
            "text/plain": [
              "<seaborn.axisgrid.JointGrid at 0x7e7ebb5adb70>"
            ]
          },
          "metadata": {},
          "execution_count": 32
        },
        {
          "output_type": "display_data",
          "data": {
            "text/plain": [
              "<Figure size 600x600 with 3 Axes>"
            ],
            "image/png": "[encoded data removed]"
          },
          "metadata": {}
        }
      ],
      "source": [
        "sns.jointplot(x=np.log(param_range), y=test_mean)"
      ]
    },
    {
      "cell_type": "code",
      "execution_count": 33,
      "id": "02f306bd-a844-4e56-b239-2ee952710aad",
      "metadata": {
        "colab": {
          "base_uri": "https://localhost:8080/"
        },
        "id": "02f306bd-a844-4e56-b239-2ee952710aad",
        "outputId": "dc3f2b7f-720c-4f08-ffc7-6a3ac27646b2"
      },
      "outputs": [
        {
          "output_type": "execute_result",
          "data": {
            "text/plain": [
              "(array([28]),)"
            ]
          },
          "metadata": {},
          "execution_count": 33
        }
      ],
      "source": [
        "# Find the location of max test_mean\n",
        "np.where(test_mean==max(test_mean))"
      ]
    },
    {
      "cell_type": "code",
      "execution_count": 34,
      "id": "103ffb6c-02b3-4c42-9e47-7d34f4d0d4ad",
      "metadata": {
        "colab": {
          "base_uri": "https://localhost:8080/"
        },
        "id": "103ffb6c-02b3-4c42-9e47-7d34f4d0d4ad",
        "outputId": "10d3f3a9-1486-4236-aacb-ab49b1ac408f"
      },
      "outputs": [
        {
          "output_type": "execute_result",
          "data": {
            "text/plain": [
              "6.7341506577508214"
            ]
          },
          "metadata": {},
          "execution_count": 34
        }
      ],
      "source": [
        "param_range[28]"
      ]
    },
    {
      "cell_type": "code",
      "execution_count": 35,
      "id": "2e31ad65-97bb-4dda-ad1e-4d0a41c5fadc",
      "metadata": {
        "id": "2e31ad65-97bb-4dda-ad1e-4d0a41c5fadc"
      },
      "outputs": [],
      "source": [
        "ridge_model_best = Ridge(alpha=param_range[28])"
      ]
    },
    {
      "cell_type": "code",
      "execution_count": 36,
      "id": "25c4994a-5965-4638-9204-beeedba2fc4b",
      "metadata": {
        "colab": {
          "base_uri": "https://localhost:8080/",
          "height": 74
        },
        "id": "25c4994a-5965-4638-9204-beeedba2fc4b",
        "outputId": "afbed3e8-ae93-45c9-9f89-fce3d22b4e05"
      },
      "outputs": [
        {
          "output_type": "execute_result",
          "data": {
            "text/plain": [
              "Ridge(alpha=6.7341506577508214)"
            ],
            "text/html": [
              "<style>#sk-container-id-1 {color: black;}#sk-container-id-1 pre{padding: 0;}#sk-container-id-1 div.sk-toggleable {background-color: white;}#sk-container-id-1 label.sk-toggleable__label {cursor: pointer;display: block;width: 100%;margin-bottom: 0;padding: 0.3em;box-sizing: border-box;text-align: center;}#sk-container-id-1 label.sk-toggleable__label-arrow:before {content: \"▸\";float: left;margin-right: 0.25em;color: #696969;}#sk-container-id-1 label.sk-toggleable__label-arrow:hover:before {color: black;}#sk-container-id-1 div.sk-estimator:hover label.sk-toggleable__label-arrow:before {color: black;}#sk-container-id-1 div.sk-toggleable__content {max-height: 0;max-width: 0;overflow: hidden;text-align: left;background-color: #f0f8ff;}#sk-container-id-1 div.sk-toggleable__content pre {margin: 0.2em;color: black;border-radius: 0.25em;background-color: #f0f8ff;}#sk-container-id-1 input.sk-toggleable__control:checked~div.sk-toggleable__content {max-height: 200px;max-width: 100%;overflow: auto;}#sk-container-id-1 input.sk-toggleable__control:checked~label.sk-toggleable__label-arrow:before {content: \"▾\";}#sk-container-id-1 div.sk-estimator input.sk-toggleable__control:checked~label.sk-toggleable__label {background-color: #d4ebff;}#sk-container-id-1 div.sk-label input.sk-toggleable__control:checked~label.sk-toggleable__label {background-color: #d4ebff;}#sk-container-id-1 input.sk-hidden--visually {border: 0;clip: rect(1px 1px 1px 1px);clip: rect(1px, 1px, 1px, 1px);height: 1px;margin: -1px;overflow: hidden;padding: 0;position: absolute;width: 1px;}#sk-container-id-1 div.sk-estimator {font-family: monospace;background-color: #f0f8ff;border: 1px dotted black;border-radius: 0.25em;box-sizing: border-box;margin-bottom: 0.5em;}#sk-container-id-1 div.sk-estimator:hover {background-color: #d4ebff;}#sk-container-id-1 div.sk-parallel-item::after {content: \"\";width: 100%;border-bottom: 1px solid gray;flex-grow: 1;}#sk-container-id-1 div.sk-label:hover label.sk-toggleable__label {background-color: #d4ebff;}#sk-container-id-1 div.sk-serial::before {content: \"\";position: absolute;border-left: 1px solid gray;box-sizing: border-box;top: 0;bottom: 0;left: 50%;z-index: 0;}#sk-container-id-1 div.sk-serial {display: flex;flex-direction: column;align-items: center;background-color: white;padding-right: 0.2em;padding-left: 0.2em;position: relative;}#sk-container-id-1 div.sk-item {position: relative;z-index: 1;}#sk-container-id-1 div.sk-parallel {display: flex;align-items: stretch;justify-content: center;background-color: white;position: relative;}#sk-container-id-1 div.sk-item::before, #sk-container-id-1 div.sk-parallel-item::before {content: \"\";position: absolute;border-left: 1px solid gray;box-sizing: border-box;top: 0;bottom: 0;left: 50%;z-index: -1;}#sk-container-id-1 div.sk-parallel-item {display: flex;flex-direction: column;z-index: 1;position: relative;background-color: white;}#sk-container-id-1 div.sk-parallel-item:first-child::after {align-self: flex-end;width: 50%;}#sk-container-id-1 div.sk-parallel-item:last-child::after {align-self: flex-start;width: 50%;}#sk-container-id-1 div.sk-parallel-item:only-child::after {width: 0;}#sk-container-id-1 div.sk-dashed-wrapped {border: 1px dashed gray;margin: 0 0.4em 0.5em 0.4em;box-sizing: border-box;padding-bottom: 0.4em;background-color: white;}#sk-container-id-1 div.sk-label label {font-family: monospace;font-weight: bold;display: inline-block;line-height: 1.2em;}#sk-container-id-1 div.sk-label-container {text-align: center;}#sk-container-id-1 div.sk-container {/* jupyter's `normalize.less` sets `[hidden] { display: none; }` but bootstrap.min.css set `[hidden] { display: none !important; }` so we also need the `!important` here to be able to override the default hidden behavior on the sphinx rendered scikit-learn.org. See: https://github.com/scikit-learn/scikit-learn/issues/21755 */display: inline-block !important;position: relative;}#sk-container-id-1 div.sk-text-repr-fallback {display: none;}</style><div id=\"sk-container-id-1\" class=\"sk-top-container\"><div class=\"sk-text-repr-fallback\"><pre>Ridge(alpha=6.7341506577508214)</pre><b>In a Jupyter environment, please rerun this cell to show the HTML representation or trust the notebook. <br />On GitHub, the HTML representation is unable to render, please try loading this page with nbviewer.org.</b></div><div class=\"sk-container\" hidden><div class=\"sk-item\"><div class=\"sk-estimator sk-toggleable\"><input class=\"sk-toggleable__control sk-hidden--visually\" id=\"sk-estimator-id-1\" type=\"checkbox\" checked><label for=\"sk-estimator-id-1\" class=\"sk-toggleable__label sk-toggleable__label-arrow\">Ridge</label><div class=\"sk-toggleable__content\"><pre>Ridge(alpha=6.7341506577508214)</pre></div></div></div></div></div>"
            ]
          },
          "metadata": {},
          "execution_count": 36
        }
      ],
      "source": [
        "# Fit the best ridge model\n",
        "ridge_model_best.fit(x_train_s, y_train)"
      ]
    },
    {
      "cell_type": "code",
      "execution_count": 37,
      "id": "d739f1ef-f5b6-41e5-8cb9-c1c0b39f2987",
      "metadata": {
        "colab": {
          "base_uri": "https://localhost:8080/"
        },
        "id": "d739f1ef-f5b6-41e5-8cb9-c1c0b39f2987",
        "outputId": "b44d8094-688a-446c-c105-2abbac444376"
      },
      "outputs": [
        {
          "output_type": "stream",
          "name": "stdout",
          "text": [
            "r2_score (Ridge) - Train: 0.513760794015264, Test: 0.5924250044902082\n",
            "mean_squared_error (Ridge) - Train: 73098391.70965347, Test: 77539092.34078972\n"
          ]
        }
      ],
      "source": [
        "# Calculating R^2_scores\n",
        "r2_score_train_ridge = r2_score(y_train, ridge_model_best.predict(x_train_s))\n",
        "r2_score_test_ridge = r2_score(y_test, ridge_model_best.predict(x_test_s))\n",
        "\n",
        "# Calculating MeanSquaredError\n",
        "mse_train_ridge = mean_squared_error(y_train, ridge_model_best.predict(x_train_s))\n",
        "mse_test_ridge = mean_squared_error(y_test, ridge_model_best.predict(x_test_s))\n",
        "\n",
        "print(\"r2_score (Ridge) - Train: {}, Test: {}\".format(r2_score_train_ridge, r2_score_test_ridge))\n",
        "print(\"mean_squared_error (Ridge) - Train: {}, Test: {}\".format(mse_train_ridge, mse_test_ridge))"
      ]
    },
    {
      "cell_type": "markdown",
      "id": "1e04a49e-8677-4b8c-a4a0-c7e1dd971230",
      "metadata": {
        "id": "1e04a49e-8677-4b8c-a4a0-c7e1dd971230"
      },
      "source": [
        "## Lasso Regression with Validation Curve"
      ]
    },
    {
      "cell_type": "code",
      "execution_count": 38,
      "id": "b93f130f-9ccb-400b-a3cb-774f29af91c3",
      "metadata": {
        "colab": {
          "base_uri": "https://localhost:8080/"
        },
        "id": "b93f130f-9ccb-400b-a3cb-774f29af91c3",
        "outputId": "9c732c8c-1b62-453f-8113-60b82ca0efd6"
      },
      "outputs": [
        {
          "output_type": "execute_result",
          "data": {
            "text/plain": [
              "0.5042343036049644"
            ]
          },
          "metadata": {},
          "execution_count": 38
        }
      ],
      "source": [
        "from sklearn.linear_model import Lasso\n",
        "\n",
        "# Define a range of alpha values\n",
        "param_range = np.logspace(-2,8,100)\n",
        "param_range\n",
        "\n",
        "# Perform validation curve to find best alpha value\n",
        "train_scores, test_scores = validation_curve(Lasso(), x_train_s, y_train, param_name=\"alpha\", param_range=param_range, scoring='r2')\n",
        "\n",
        "# Taking mean values of train_scores and test_scores\n",
        "train_mean = np.mean(train_scores, axis=1)\n",
        "test_mean = np.mean(test_scores, axis=1)\n",
        "max(test_mean)"
      ]
    },
    {
      "cell_type": "code",
      "execution_count": 39,
      "id": "b76042fb-e669-47d2-a07e-01283e509bf3",
      "metadata": {
        "colab": {
          "base_uri": "https://localhost:8080/",
          "height": 643
        },
        "id": "b76042fb-e669-47d2-a07e-01283e509bf3",
        "outputId": "d5f6a9d6-d320-4829-9d80-4f16ef4b1cef"
      },
      "outputs": [
        {
          "output_type": "execute_result",
          "data": {
            "text/plain": [
              "<seaborn.axisgrid.JointGrid at 0x7e7ebb4e80d0>"
            ]
          },
          "metadata": {},
          "execution_count": 39
        },
        {
          "output_type": "display_data",
          "data": {
            "text/plain": [
              "<Figure size 600x600 with 3 Axes>"
            ],
            "image/png": "[encoded data removed]"
          },
          "metadata": {}
        }
      ],
      "source": [
        "sns.jointplot(x=np.log(param_range), y=test_mean)"
      ]
    },
    {
      "cell_type": "code",
      "execution_count": 40,
      "id": "10360f14-f69a-426b-bde9-c264d6526b5c",
      "metadata": {
        "colab": {
          "base_uri": "https://localhost:8080/"
        },
        "id": "10360f14-f69a-426b-bde9-c264d6526b5c",
        "outputId": "3ae2b40c-acce-4ce6-de6f-b86ddfb1157f"
      },
      "outputs": [
        {
          "output_type": "execute_result",
          "data": {
            "text/plain": [
              "(array([41]),)"
            ]
          },
          "metadata": {},
          "execution_count": 40
        }
      ],
      "source": [
        "# Find the location of max test_mean\n",
        "np.where(test_mean==max(test_mean))"
      ]
    },
    {
      "cell_type": "code",
      "execution_count": 41,
      "id": "91f13094-bc37-4aa0-be82-d01aafa5822b",
      "metadata": {
        "colab": {
          "base_uri": "https://localhost:8080/"
        },
        "id": "91f13094-bc37-4aa0-be82-d01aafa5822b",
        "outputId": "e48468d5-637c-4a7f-8db9-f4c1e841f846"
      },
      "outputs": [
        {
          "output_type": "execute_result",
          "data": {
            "text/plain": [
              "138.48863713938718"
            ]
          },
          "metadata": {},
          "execution_count": 41
        }
      ],
      "source": [
        "param_range[41]"
      ]
    },
    {
      "cell_type": "code",
      "execution_count": 42,
      "id": "103131a1-1c85-47ed-9a12-f30e275a9446",
      "metadata": {
        "id": "103131a1-1c85-47ed-9a12-f30e275a9446"
      },
      "outputs": [],
      "source": [
        "Lasso_model_best = Lasso(alpha=param_range[41])"
      ]
    },
    {
      "cell_type": "code",
      "execution_count": 43,
      "id": "66f45223-c311-4ef6-81e8-d3b031ef0a89",
      "metadata": {
        "colab": {
          "base_uri": "https://localhost:8080/",
          "height": 74
        },
        "id": "66f45223-c311-4ef6-81e8-d3b031ef0a89",
        "outputId": "df5c7eff-e89e-43c9-c88e-f63aeeae7dbd"
      },
      "outputs": [
        {
          "output_type": "execute_result",
          "data": {
            "text/plain": [
              "Lasso(alpha=138.48863713938718)"
            ],
            "text/html": [
              "<style>#sk-container-id-2 {color: black;}#sk-container-id-2 pre{padding: 0;}#sk-container-id-2 div.sk-toggleable {background-color: white;}#sk-container-id-2 label.sk-toggleable__label {cursor: pointer;display: block;width: 100%;margin-bottom: 0;padding: 0.3em;box-sizing: border-box;text-align: center;}#sk-container-id-2 label.sk-toggleable__label-arrow:before {content: \"▸\";float: left;margin-right: 0.25em;color: #696969;}#sk-container-id-2 label.sk-toggleable__label-arrow:hover:before {color: black;}#sk-container-id-2 div.sk-estimator:hover label.sk-toggleable__label-arrow:before {color: black;}#sk-container-id-2 div.sk-toggleable__content {max-height: 0;max-width: 0;overflow: hidden;text-align: left;background-color: #f0f8ff;}#sk-container-id-2 div.sk-toggleable__content pre {margin: 0.2em;color: black;border-radius: 0.25em;background-color: #f0f8ff;}#sk-container-id-2 input.sk-toggleable__control:checked~div.sk-toggleable__content {max-height: 200px;max-width: 100%;overflow: auto;}#sk-container-id-2 input.sk-toggleable__control:checked~label.sk-toggleable__label-arrow:before {content: \"▾\";}#sk-container-id-2 div.sk-estimator input.sk-toggleable__control:checked~label.sk-toggleable__label {background-color: #d4ebff;}#sk-container-id-2 div.sk-label input.sk-toggleable__control:checked~label.sk-toggleable__label {background-color: #d4ebff;}#sk-container-id-2 input.sk-hidden--visually {border: 0;clip: rect(1px 1px 1px 1px);clip: rect(1px, 1px, 1px, 1px);height: 1px;margin: -1px;overflow: hidden;padding: 0;position: absolute;width: 1px;}#sk-container-id-2 div.sk-estimator {font-family: monospace;background-color: #f0f8ff;border: 1px dotted black;border-radius: 0.25em;box-sizing: border-box;margin-bottom: 0.5em;}#sk-container-id-2 div.sk-estimator:hover {background-color: #d4ebff;}#sk-container-id-2 div.sk-parallel-item::after {content: \"\";width: 100%;border-bottom: 1px solid gray;flex-grow: 1;}#sk-container-id-2 div.sk-label:hover label.sk-toggleable__label {background-color: #d4ebff;}#sk-container-id-2 div.sk-serial::before {content: \"\";position: absolute;border-left: 1px solid gray;box-sizing: border-box;top: 0;bottom: 0;left: 50%;z-index: 0;}#sk-container-id-2 div.sk-serial {display: flex;flex-direction: column;align-items: center;background-color: white;padding-right: 0.2em;padding-left: 0.2em;position: relative;}#sk-container-id-2 div.sk-item {position: relative;z-index: 1;}#sk-container-id-2 div.sk-parallel {display: flex;align-items: stretch;justify-content: center;background-color: white;position: relative;}#sk-container-id-2 div.sk-item::before, #sk-container-id-2 div.sk-parallel-item::before {content: \"\";position: absolute;border-left: 1px solid gray;box-sizing: border-box;top: 0;bottom: 0;left: 50%;z-index: -1;}#sk-container-id-2 div.sk-parallel-item {display: flex;flex-direction: column;z-index: 1;position: relative;background-color: white;}#sk-container-id-2 div.sk-parallel-item:first-child::after {align-self: flex-end;width: 50%;}#sk-container-id-2 div.sk-parallel-item:last-child::after {align-self: flex-start;width: 50%;}#sk-container-id-2 div.sk-parallel-item:only-child::after {width: 0;}#sk-container-id-2 div.sk-dashed-wrapped {border: 1px dashed gray;margin: 0 0.4em 0.5em 0.4em;box-sizing: border-box;padding-bottom: 0.4em;background-color: white;}#sk-container-id-2 div.sk-label label {font-family: monospace;font-weight: bold;display: inline-block;line-height: 1.2em;}#sk-container-id-2 div.sk-label-container {text-align: center;}#sk-container-id-2 div.sk-container {/* jupyter's `normalize.less` sets `[hidden] { display: none; }` but bootstrap.min.css set `[hidden] { display: none !important; }` so we also need the `!important` here to be able to override the default hidden behavior on the sphinx rendered scikit-learn.org. See: https://github.com/scikit-learn/scikit-learn/issues/21755 */display: inline-block !important;position: relative;}#sk-container-id-2 div.sk-text-repr-fallback {display: none;}</style><div id=\"sk-container-id-2\" class=\"sk-top-container\"><div class=\"sk-text-repr-fallback\"><pre>Lasso(alpha=138.48863713938718)</pre><b>In a Jupyter environment, please rerun this cell to show the HTML representation or trust the notebook. <br />On GitHub, the HTML representation is unable to render, please try loading this page with nbviewer.org.</b></div><div class=\"sk-container\" hidden><div class=\"sk-item\"><div class=\"sk-estimator sk-toggleable\"><input class=\"sk-toggleable__control sk-hidden--visually\" id=\"sk-estimator-id-2\" type=\"checkbox\" checked><label for=\"sk-estimator-id-2\" class=\"sk-toggleable__label sk-toggleable__label-arrow\">Lasso</label><div class=\"sk-toggleable__content\"><pre>Lasso(alpha=138.48863713938718)</pre></div></div></div></div></div>"
            ]
          },
          "metadata": {},
          "execution_count": 43
        }
      ],
      "source": [
        "# Fit the best ridge model\n",
        "Lasso_model_best.fit(x_train_s, y_train)"
      ]
    },
    {
      "cell_type": "code",
      "execution_count": 44,
      "id": "a3d9d80e-7537-4625-84e7-b4cda183d392",
      "metadata": {
        "colab": {
          "base_uri": "https://localhost:8080/"
        },
        "id": "a3d9d80e-7537-4625-84e7-b4cda183d392",
        "outputId": "98855e51-5189-4bcc-ff15-08569f475c4c"
      },
      "outputs": [
        {
          "output_type": "stream",
          "name": "stdout",
          "text": [
            "r2_score (Lasso) - Train: 0.5131181987432607, Test: 0.5892208565507875\n",
            "mean_squared_error (Lasso) - Train: 73194995.76857243, Test: 78148665.36584131\n"
          ]
        }
      ],
      "source": [
        "# Calculating R^2_scores\n",
        "r2_score_train_Lasso = r2_score(y_train, Lasso_model_best.predict(x_train_s))\n",
        "r2_score_test_Lasso = r2_score(y_test, Lasso_model_best.predict(x_test_s))\n",
        "\n",
        "# Calculating MeanSquaredError\n",
        "mse_train_Lasso = mean_squared_error(y_train, Lasso_model_best.predict(x_train_s))\n",
        "mse_test_Lasso = mean_squared_error(y_test, Lasso_model_best.predict(x_test_s))\n",
        "\n",
        "print(\"r2_score (Lasso) - Train: {}, Test: {}\".format(r2_score_train_Lasso, r2_score_test_Lasso))\n",
        "print(\"mean_squared_error (Lasso) - Train: {}, Test: {}\".format(mse_train_Lasso, mse_test_Lasso))"
      ]
    },
    {
      "cell_type": "markdown",
      "id": "3a4cfae0-a7fe-4267-b7ad-0b5d181994ef",
      "metadata": {
        "id": "3a4cfae0-a7fe-4267-b7ad-0b5d181994ef"
      },
      "source": [
        "## Decision Tree Regressor"
      ]
    },
    {
      "cell_type": "code",
      "execution_count": 45,
      "id": "c89e80cf-f8dc-4b3d-b0b1-91fa24c355c5",
      "metadata": {
        "colab": {
          "base_uri": "https://localhost:8080/"
        },
        "id": "c89e80cf-f8dc-4b3d-b0b1-91fa24c355c5",
        "outputId": "cf6d3a6d-f06a-4a21-e1b8-da6d7c097032"
      },
      "outputs": [
        {
          "output_type": "stream",
          "name": "stdout",
          "text": [
            "r2_score - Train: 0.6062958846879378, Test: 0.5949148978491664\n",
            "mean_squared_error - Train: 59187201.04130625, Test: 77065402.6561772\n"
          ]
        }
      ],
      "source": [
        "from sklearn import tree\n",
        "\n",
        "# Initialize the Decision Tree Regressor\n",
        "regtree = tree.DecisionTreeRegressor(max_depth=3)\n",
        "\n",
        "# Fit the model\n",
        "regtree.fit(x_train,y_train)\n",
        "\n",
        "# Calculating R^2_scores\n",
        "r2_score_train = r2_score(y_train, regtree.predict(x_train))\n",
        "r2_score_test = r2_score(y_test, regtree.predict(x_test))\n",
        "\n",
        "# Calculating MeanSquaredError\n",
        "mse_train = mean_squared_error(y_train, regtree.predict(x_train))\n",
        "mse_test = mean_squared_error(y_test, regtree.predict(x_test))\n",
        "\n",
        "print(\"r2_score - Train: {}, Test: {}\".format(r2_score_train, r2_score_test))\n",
        "print(\"mean_squared_error - Train: {}, Test: {}\".format(mse_train, mse_test))"
      ]
    },
    {
      "cell_type": "code",
      "execution_count": 46,
      "id": "213a3f35-2dd6-4685-bfaa-3ddf6a8b7f44",
      "metadata": {
        "colab": {
          "base_uri": "https://localhost:8080/",
          "height": 252
        },
        "id": "213a3f35-2dd6-4685-bfaa-3ddf6a8b7f44",
        "outputId": "3710cd58-0082-4999-b5bf-d457926db91d"
      },
      "outputs": [
        {
          "output_type": "execute_result",
          "data": {
            "image/png": "[encoded data removed]",
            "text/plain": [
              "<IPython.core.display.Image object>"
            ]
          },
          "metadata": {},
          "execution_count": 46
        }
      ],
      "source": [
        "# Plotting Decision Tree\n",
        "dot_data = tree.export_graphviz(regtree, out_file=None, feature_names=x_train.columns, filled=True, class_names=['CTC'])\n",
        "from IPython.display import Image\n",
        "import pydotplus\n",
        "graph= pydotplus.graph_from_dot_data(dot_data)\n",
        "Image(graph.create_png())"
      ]
    },
    {
      "cell_type": "markdown",
      "id": "de35d55d-e5a8-4db3-b20e-3b4fff544cb3",
      "metadata": {
        "id": "de35d55d-e5a8-4db3-b20e-3b4fff544cb3"
      },
      "source": [
        "##  Bagging"
      ]
    },
    {
      "cell_type": "code",
      "execution_count": 47,
      "id": "cbbbabe3-3bd4-4ae2-a999-b50c20279e72",
      "metadata": {
        "colab": {
          "base_uri": "https://localhost:8080/"
        },
        "id": "cbbbabe3-3bd4-4ae2-a999-b50c20279e72",
        "outputId": "9319bc89-c389-453f-ab41-0b1a675c5a08"
      },
      "outputs": [
        {
          "output_type": "stream",
          "name": "stdout",
          "text": [
            "r2_score (Bagging) - Train: 0.9500843307211169, Test: 0.638161045564511\n",
            "mean_squared_error (Bagging) - Train: 7504033.201123349, Test: 68838040.62949228\n"
          ]
        }
      ],
      "source": [
        "from sklearn.ensemble import BaggingRegressor\n",
        "regtree=tree.DecisionTreeRegressor()\n",
        "\n",
        "# Initialize the BaggingRegressor\n",
        "bag_reg = BaggingRegressor(estimator=regtree, n_estimators=1000, bootstrap=True, n_jobs=-1, random_state=42)\n",
        "\n",
        "# Fit the model\n",
        "bag_reg.fit(x_train, y_train)\n",
        "\n",
        "# Calculating R^2_scores\n",
        "r2_score_train_bag = r2_score(y_train, bag_reg.predict(x_train))\n",
        "r2_score_test_bag = r2_score(y_test, bag_reg.predict(x_test))\n",
        "\n",
        "# Calculating MeanSquaredError\n",
        "mse_train_bag = mean_squared_error(y_train, bag_reg.predict(x_train))\n",
        "mse_test_bag = mean_squared_error(y_test, bag_reg.predict(x_test))\n",
        "\n",
        "print(\"r2_score (Bagging) - Train: {}, Test: {}\".format(r2_score_train_bag, r2_score_test_bag))\n",
        "print(\"mean_squared_error (Bagging) - Train: {}, Test: {}\".format(mse_train_bag, mse_test_bag))"
      ]
    },
    {
      "cell_type": "markdown",
      "id": "7b7dbe26-4415-4a7b-a76f-3ec6da0a08df",
      "metadata": {
        "id": "7b7dbe26-4415-4a7b-a76f-3ec6da0a08df"
      },
      "source": [
        "## Random Forests"
      ]
    },
    {
      "cell_type": "code",
      "execution_count": 48,
      "id": "46171787-0118-41e8-88f4-255f11a4ef41",
      "metadata": {
        "colab": {
          "base_uri": "https://localhost:8080/"
        },
        "id": "46171787-0118-41e8-88f4-255f11a4ef41",
        "outputId": "eefe068d-48af-4344-aa2b-4f87232675fe"
      },
      "outputs": [
        {
          "output_type": "stream",
          "name": "stdout",
          "text": [
            "r2_score (RF) - Train: 0.9479622537580785, Test: 0.640953507323311\n",
            "mean_squared_error (RF) - Train: 7823053.985899556, Test: 68306788.82906502\n"
          ]
        }
      ],
      "source": [
        "from sklearn.ensemble import RandomForestRegressor\n",
        "\n",
        "# Initialize the RandomForestRegressor\n",
        "rf_reg = RandomForestRegressor(n_estimators=100, n_jobs=-1, random_state=42)\n",
        "\n",
        "# Fit the model\n",
        "rf_reg.fit(x_train, y_train)\n",
        "\n",
        "# Calculating R^2_scores\n",
        "r2_score_train_rf = r2_score(y_train, rf_reg.predict(x_train))\n",
        "r2_score_test_rf = r2_score(y_test, rf_reg.predict(x_test))\n",
        "\n",
        "# Calculating MeanSquaredError\n",
        "mse_train_rf = mean_squared_error(y_train, rf_reg.predict(x_train))\n",
        "mse_test_rf = mean_squared_error(y_test, rf_reg.predict(x_test))\n",
        "\n",
        "print(\"r2_score (RF) - Train: {}, Test: {}\".format(r2_score_train_rf, r2_score_test_rf))\n",
        "print(\"mean_squared_error (RF) - Train: {}, Test: {}\".format(mse_train_rf, mse_test_rf))"
      ]
    },
    {
      "cell_type": "code",
      "execution_count": 49,
      "id": "d45cdf31-e6f3-4884-a91d-b2b35429e724",
      "metadata": {
        "id": "d45cdf31-e6f3-4884-a91d-b2b35429e724"
      },
      "outputs": [],
      "source": [
        "# Grid Search\n",
        "from sklearn.model_selection import GridSearchCV\n",
        "\n",
        "param_grid= {'n_estimators': [700,900,1000], 'max_depth': [10,15,20], 'min_samples_split': [2,5,10]}\n",
        "grid_search = GridSearchCV(rf_reg, param_grid, cv=5, scoring='r2', n_jobs=-1)"
      ]
    },
    {
      "cell_type": "code",
      "execution_count": 50,
      "id": "da71edd4-b427-49ce-9d19-8264dff60400",
      "metadata": {
        "colab": {
          "base_uri": "https://localhost:8080/"
        },
        "id": "da71edd4-b427-49ce-9d19-8264dff60400",
        "outputId": "610490a6-b7d2-48d2-a657-366c850db85a"
      },
      "outputs": [
        {
          "output_type": "execute_result",
          "data": {
            "text/plain": [
              "{'max_depth': 20, 'min_samples_split': 2, 'n_estimators': 900}"
            ]
          },
          "metadata": {},
          "execution_count": 50
        }
      ],
      "source": [
        "# Fit the model\n",
        "grid_search.fit(x_train,y_train)\n",
        "\n",
        "# best hyperparameter\n",
        "grid_search.best_params_"
      ]
    },
    {
      "cell_type": "code",
      "execution_count": 51,
      "id": "0ce38246-d6c1-49e2-a090-a77d4666f3cd",
      "metadata": {
        "colab": {
          "base_uri": "https://localhost:8080/",
          "height": 92
        },
        "id": "0ce38246-d6c1-49e2-a090-a77d4666f3cd",
        "outputId": "7b8c56bd-fb2a-4fb3-d6d7-ca4fe6d8b02b"
      },
      "outputs": [
        {
          "output_type": "execute_result",
          "data": {
            "text/plain": [
              "RandomForestRegressor(max_depth=20, n_estimators=900, n_jobs=-1,\n",
              "                      random_state=42)"
            ],
            "text/html": [
              "<style>#sk-container-id-3 {color: black;}#sk-container-id-3 pre{padding: 0;}#sk-container-id-3 div.sk-toggleable {background-color: white;}#sk-container-id-3 label.sk-toggleable__label {cursor: pointer;display: block;width: 100%;margin-bottom: 0;padding: 0.3em;box-sizing: border-box;text-align: center;}#sk-container-id-3 label.sk-toggleable__label-arrow:before {content: \"▸\";float: left;margin-right: 0.25em;color: #696969;}#sk-container-id-3 label.sk-toggleable__label-arrow:hover:before {color: black;}#sk-container-id-3 div.sk-estimator:hover label.sk-toggleable__label-arrow:before {color: black;}#sk-container-id-3 div.sk-toggleable__content {max-height: 0;max-width: 0;overflow: hidden;text-align: left;background-color: #f0f8ff;}#sk-container-id-3 div.sk-toggleable__content pre {margin: 0.2em;color: black;border-radius: 0.25em;background-color: #f0f8ff;}#sk-container-id-3 input.sk-toggleable__control:checked~div.sk-toggleable__content {max-height: 200px;max-width: 100%;overflow: auto;}#sk-container-id-3 input.sk-toggleable__control:checked~label.sk-toggleable__label-arrow:before {content: \"▾\";}#sk-container-id-3 div.sk-estimator input.sk-toggleable__control:checked~label.sk-toggleable__label {background-color: #d4ebff;}#sk-container-id-3 div.sk-label input.sk-toggleable__control:checked~label.sk-toggleable__label {background-color: #d4ebff;}#sk-container-id-3 input.sk-hidden--visually {border: 0;clip: rect(1px 1px 1px 1px);clip: rect(1px, 1px, 1px, 1px);height: 1px;margin: -1px;overflow: hidden;padding: 0;position: absolute;width: 1px;}#sk-container-id-3 div.sk-estimator {font-family: monospace;background-color: #f0f8ff;border: 1px dotted black;border-radius: 0.25em;box-sizing: border-box;margin-bottom: 0.5em;}#sk-container-id-3 div.sk-estimator:hover {background-color: #d4ebff;}#sk-container-id-3 div.sk-parallel-item::after {content: \"\";width: 100%;border-bottom: 1px solid gray;flex-grow: 1;}#sk-container-id-3 div.sk-label:hover label.sk-toggleable__label {background-color: #d4ebff;}#sk-container-id-3 div.sk-serial::before {content: \"\";position: absolute;border-left: 1px solid gray;box-sizing: border-box;top: 0;bottom: 0;left: 50%;z-index: 0;}#sk-container-id-3 div.sk-serial {display: flex;flex-direction: column;align-items: center;background-color: white;padding-right: 0.2em;padding-left: 0.2em;position: relative;}#sk-container-id-3 div.sk-item {position: relative;z-index: 1;}#sk-container-id-3 div.sk-parallel {display: flex;align-items: stretch;justify-content: center;background-color: white;position: relative;}#sk-container-id-3 div.sk-item::before, #sk-container-id-3 div.sk-parallel-item::before {content: \"\";position: absolute;border-left: 1px solid gray;box-sizing: border-box;top: 0;bottom: 0;left: 50%;z-index: -1;}#sk-container-id-3 div.sk-parallel-item {display: flex;flex-direction: column;z-index: 1;position: relative;background-color: white;}#sk-container-id-3 div.sk-parallel-item:first-child::after {align-self: flex-end;width: 50%;}#sk-container-id-3 div.sk-parallel-item:last-child::after {align-self: flex-start;width: 50%;}#sk-container-id-3 div.sk-parallel-item:only-child::after {width: 0;}#sk-container-id-3 div.sk-dashed-wrapped {border: 1px dashed gray;margin: 0 0.4em 0.5em 0.4em;box-sizing: border-box;padding-bottom: 0.4em;background-color: white;}#sk-container-id-3 div.sk-label label {font-family: monospace;font-weight: bold;display: inline-block;line-height: 1.2em;}#sk-container-id-3 div.sk-label-container {text-align: center;}#sk-container-id-3 div.sk-container {/* jupyter's `normalize.less` sets `[hidden] { display: none; }` but bootstrap.min.css set `[hidden] { display: none !important; }` so we also need the `!important` here to be able to override the default hidden behavior on the sphinx rendered scikit-learn.org. See: https://github.com/scikit-learn/scikit-learn/issues/21755 */display: inline-block !important;position: relative;}#sk-container-id-3 div.sk-text-repr-fallback {display: none;}</style><div id=\"sk-container-id-3\" class=\"sk-top-container\"><div class=\"sk-text-repr-fallback\"><pre>RandomForestRegressor(max_depth=20, n_estimators=900, n_jobs=-1,\n",
              "                      random_state=42)</pre><b>In a Jupyter environment, please rerun this cell to show the HTML representation or trust the notebook. <br />On GitHub, the HTML representation is unable to render, please try loading this page with nbviewer.org.</b></div><div class=\"sk-container\" hidden><div class=\"sk-item\"><div class=\"sk-estimator sk-toggleable\"><input class=\"sk-toggleable__control sk-hidden--visually\" id=\"sk-estimator-id-3\" type=\"checkbox\" checked><label for=\"sk-estimator-id-3\" class=\"sk-toggleable__label sk-toggleable__label-arrow\">RandomForestRegressor</label><div class=\"sk-toggleable__content\"><pre>RandomForestRegressor(max_depth=20, n_estimators=900, n_jobs=-1,\n",
              "                      random_state=42)</pre></div></div></div></div></div>"
            ]
          },
          "metadata": {},
          "execution_count": 51
        }
      ],
      "source": [
        "# Best estimator\n",
        "best_reg_rf = grid_search.best_estimator_\n",
        "best_reg_rf"
      ]
    },
    {
      "cell_type": "code",
      "execution_count": 52,
      "id": "9a650a1b-8862-4e69-9479-182c3a347f31",
      "metadata": {
        "colab": {
          "base_uri": "https://localhost:8080/"
        },
        "id": "9a650a1b-8862-4e69-9479-182c3a347f31",
        "outputId": "ae44e68e-efee-4921-cb89-dd8c179e3c46"
      },
      "outputs": [
        {
          "output_type": "stream",
          "name": "stdout",
          "text": [
            "r2_score (RF) - Train: 0.9498749213264452, Test: 0.6370135890721698\n",
            "mean_squared_error (RF) - Train: 7535514.599108096, Test: 69056338.45417948\n"
          ]
        }
      ],
      "source": [
        "# Calculating R^2_scores\n",
        "r2_score_train_rfgs = r2_score(y_train, best_reg_rf.predict(x_train))\n",
        "r2_score_test_rfgs = r2_score(y_test, best_reg_rf.predict(x_test))\n",
        "\n",
        "# Calculating MeanSquaredError\n",
        "mse_train_rfgs = mean_squared_error(y_train, best_reg_rf.predict(x_train))\n",
        "mse_test_rfgs = mean_squared_error(y_test, best_reg_rf.predict(x_test))\n",
        "\n",
        "print(\"r2_score (RF) - Train: {}, Test: {}\".format(r2_score_train_rfgs, r2_score_test_rfgs))\n",
        "print(\"mean_squared_error (RF) - Train: {}, Test: {}\".format(mse_train_rfgs, mse_test_rfgs))"
      ]
    },
    {
      "cell_type": "markdown",
      "id": "9c4251e9-1099-43a0-94b0-78282a9dfa84",
      "metadata": {
        "id": "9c4251e9-1099-43a0-94b0-78282a9dfa84"
      },
      "source": [
        "## Gradient Boosting"
      ]
    },
    {
      "cell_type": "code",
      "execution_count": 53,
      "id": "8c43d3ec-96e6-4412-b715-7c57338a9ad9",
      "metadata": {
        "id": "8c43d3ec-96e6-4412-b715-7c57338a9ad9"
      },
      "outputs": [],
      "source": [
        "from sklearn.ensemble import GradientBoostingRegressor\n",
        "gb_reg = GradientBoostingRegressor()\n",
        "\n",
        "param_grid= {'n_estimators': [100,200,300], 'max_depth': [3,4,5], 'learning_rate': [0.02,0.05,0.1]}\n",
        "grid_search = GridSearchCV(gb_reg, param_grid, cv=5, scoring='r2', n_jobs=-1)"
      ]
    },
    {
      "cell_type": "code",
      "execution_count": 54,
      "id": "2fc6b392-9b56-40d1-bd0c-8aa043b5b163",
      "metadata": {
        "colab": {
          "base_uri": "https://localhost:8080/"
        },
        "id": "2fc6b392-9b56-40d1-bd0c-8aa043b5b163",
        "outputId": "b82dd38d-cedf-4ab8-b855-36263eaf31a1"
      },
      "outputs": [
        {
          "output_type": "execute_result",
          "data": {
            "text/plain": [
              "{'learning_rate': 0.02, 'max_depth': 3, 'n_estimators': 200}"
            ]
          },
          "metadata": {},
          "execution_count": 54
        }
      ],
      "source": [
        "# Fit the model\n",
        "grid_search.fit(x_train,y_train)\n",
        "\n",
        "# best hyperparameter\n",
        "grid_search.best_params_"
      ]
    },
    {
      "cell_type": "code",
      "execution_count": 55,
      "id": "d9ee74c9-e3f3-4012-b6ef-6f5960e6bded",
      "metadata": {
        "colab": {
          "base_uri": "https://localhost:8080/",
          "height": 74
        },
        "id": "d9ee74c9-e3f3-4012-b6ef-6f5960e6bded",
        "outputId": "6756392f-72bf-45f9-97d7-107497aaae53"
      },
      "outputs": [
        {
          "output_type": "execute_result",
          "data": {
            "text/plain": [
              "GradientBoostingRegressor(learning_rate=0.02, n_estimators=200)"
            ],
            "text/html": [
              "<style>#sk-container-id-4 {color: black;}#sk-container-id-4 pre{padding: 0;}#sk-container-id-4 div.sk-toggleable {background-color: white;}#sk-container-id-4 label.sk-toggleable__label {cursor: pointer;display: block;width: 100%;margin-bottom: 0;padding: 0.3em;box-sizing: border-box;text-align: center;}#sk-container-id-4 label.sk-toggleable__label-arrow:before {content: \"▸\";float: left;margin-right: 0.25em;color: #696969;}#sk-container-id-4 label.sk-toggleable__label-arrow:hover:before {color: black;}#sk-container-id-4 div.sk-estimator:hover label.sk-toggleable__label-arrow:before {color: black;}#sk-container-id-4 div.sk-toggleable__content {max-height: 0;max-width: 0;overflow: hidden;text-align: left;background-color: #f0f8ff;}#sk-container-id-4 div.sk-toggleable__content pre {margin: 0.2em;color: black;border-radius: 0.25em;background-color: #f0f8ff;}#sk-container-id-4 input.sk-toggleable__control:checked~div.sk-toggleable__content {max-height: 200px;max-width: 100%;overflow: auto;}#sk-container-id-4 input.sk-toggleable__control:checked~label.sk-toggleable__label-arrow:before {content: \"▾\";}#sk-container-id-4 div.sk-estimator input.sk-toggleable__control:checked~label.sk-toggleable__label {background-color: #d4ebff;}#sk-container-id-4 div.sk-label input.sk-toggleable__control:checked~label.sk-toggleable__label {background-color: #d4ebff;}#sk-container-id-4 input.sk-hidden--visually {border: 0;clip: rect(1px 1px 1px 1px);clip: rect(1px, 1px, 1px, 1px);height: 1px;margin: -1px;overflow: hidden;padding: 0;position: absolute;width: 1px;}#sk-container-id-4 div.sk-estimator {font-family: monospace;background-color: #f0f8ff;border: 1px dotted black;border-radius: 0.25em;box-sizing: border-box;margin-bottom: 0.5em;}#sk-container-id-4 div.sk-estimator:hover {background-color: #d4ebff;}#sk-container-id-4 div.sk-parallel-item::after {content: \"\";width: 100%;border-bottom: 1px solid gray;flex-grow: 1;}#sk-container-id-4 div.sk-label:hover label.sk-toggleable__label {background-color: #d4ebff;}#sk-container-id-4 div.sk-serial::before {content: \"\";position: absolute;border-left: 1px solid gray;box-sizing: border-box;top: 0;bottom: 0;left: 50%;z-index: 0;}#sk-container-id-4 div.sk-serial {display: flex;flex-direction: column;align-items: center;background-color: white;padding-right: 0.2em;padding-left: 0.2em;position: relative;}#sk-container-id-4 div.sk-item {position: relative;z-index: 1;}#sk-container-id-4 div.sk-parallel {display: flex;align-items: stretch;justify-content: center;background-color: white;position: relative;}#sk-container-id-4 div.sk-item::before, #sk-container-id-4 div.sk-parallel-item::before {content: \"\";position: absolute;border-left: 1px solid gray;box-sizing: border-box;top: 0;bottom: 0;left: 50%;z-index: -1;}#sk-container-id-4 div.sk-parallel-item {display: flex;flex-direction: column;z-index: 1;position: relative;background-color: white;}#sk-container-id-4 div.sk-parallel-item:first-child::after {align-self: flex-end;width: 50%;}#sk-container-id-4 div.sk-parallel-item:last-child::after {align-self: flex-start;width: 50%;}#sk-container-id-4 div.sk-parallel-item:only-child::after {width: 0;}#sk-container-id-4 div.sk-dashed-wrapped {border: 1px dashed gray;margin: 0 0.4em 0.5em 0.4em;box-sizing: border-box;padding-bottom: 0.4em;background-color: white;}#sk-container-id-4 div.sk-label label {font-family: monospace;font-weight: bold;display: inline-block;line-height: 1.2em;}#sk-container-id-4 div.sk-label-container {text-align: center;}#sk-container-id-4 div.sk-container {/* jupyter's `normalize.less` sets `[hidden] { display: none; }` but bootstrap.min.css set `[hidden] { display: none !important; }` so we also need the `!important` here to be able to override the default hidden behavior on the sphinx rendered scikit-learn.org. See: https://github.com/scikit-learn/scikit-learn/issues/21755 */display: inline-block !important;position: relative;}#sk-container-id-4 div.sk-text-repr-fallback {display: none;}</style><div id=\"sk-container-id-4\" class=\"sk-top-container\"><div class=\"sk-text-repr-fallback\"><pre>GradientBoostingRegressor(learning_rate=0.02, n_estimators=200)</pre><b>In a Jupyter environment, please rerun this cell to show the HTML representation or trust the notebook. <br />On GitHub, the HTML representation is unable to render, please try loading this page with nbviewer.org.</b></div><div class=\"sk-container\" hidden><div class=\"sk-item\"><div class=\"sk-estimator sk-toggleable\"><input class=\"sk-toggleable__control sk-hidden--visually\" id=\"sk-estimator-id-4\" type=\"checkbox\" checked><label for=\"sk-estimator-id-4\" class=\"sk-toggleable__label sk-toggleable__label-arrow\">GradientBoostingRegressor</label><div class=\"sk-toggleable__content\"><pre>GradientBoostingRegressor(learning_rate=0.02, n_estimators=200)</pre></div></div></div></div></div>"
            ]
          },
          "metadata": {},
          "execution_count": 55
        }
      ],
      "source": [
        "# Best estimator\n",
        "best_reg_gb = grid_search.best_estimator_\n",
        "best_reg_gb"
      ]
    },
    {
      "cell_type": "code",
      "execution_count": 56,
      "id": "041ad8f4-809c-4ec2-a1ba-b4c3c255d10d",
      "metadata": {
        "colab": {
          "base_uri": "https://localhost:8080/"
        },
        "id": "041ad8f4-809c-4ec2-a1ba-b4c3c255d10d",
        "outputId": "54b499ad-08c4-457b-da72-a8ae258a0160"
      },
      "outputs": [
        {
          "output_type": "stream",
          "name": "stdout",
          "text": [
            "r2_score (GB) - Train: 0.659222584216067, Test: 0.6189664945289237\n",
            "mean_squared_error (GB) - Train: 51230506.95660967, Test: 72489707.39410038\n"
          ]
        }
      ],
      "source": [
        "# Calculating R^2_scores\n",
        "r2_score_train_gbgs = r2_score(y_train, best_reg_gb.predict(x_train))\n",
        "r2_score_test_gbgs = r2_score(y_test, best_reg_gb.predict(x_test))\n",
        "\n",
        "# Calculating MeanSquaredError\n",
        "mse_train_gbgs = mean_squared_error(y_train, best_reg_gb.predict(x_train))\n",
        "mse_test_gbgs = mean_squared_error(y_test, best_reg_gb.predict(x_test))\n",
        "\n",
        "print(\"r2_score (GB) - Train: {}, Test: {}\".format(r2_score_train_gbgs, r2_score_test_gbgs))\n",
        "print(\"mean_squared_error (GB) - Train: {}, Test: {}\".format(mse_train_gbgs, mse_test_gbgs))"
      ]
    },
    {
      "cell_type": "markdown",
      "id": "54e82628-5748-476a-bc5d-9c0660b7126c",
      "metadata": {
        "id": "54e82628-5748-476a-bc5d-9c0660b7126c"
      },
      "source": [
        "## Ada Boost"
      ]
    },
    {
      "cell_type": "code",
      "execution_count": 57,
      "id": "86af0f7a-b0ce-41e6-a5fe-b8222b2dcba0",
      "metadata": {
        "colab": {
          "base_uri": "https://localhost:8080/"
        },
        "id": "86af0f7a-b0ce-41e6-a5fe-b8222b2dcba0",
        "outputId": "33c743d5-c4c0-4b4a-8d8b-6bd7b20b3a8c"
      },
      "outputs": [
        {
          "output_type": "execute_result",
          "data": {
            "text/plain": [
              "{'learning_rate': 0.02, 'n_estimators': 100, 'random_state': 42}"
            ]
          },
          "metadata": {},
          "execution_count": 57
        }
      ],
      "source": [
        "from sklearn.ensemble import AdaBoostRegressor\n",
        "ab_reg = AdaBoostRegressor()\n",
        "\n",
        "param_grid= {'n_estimators': [50,100,200], 'learning_rate': [0.02,0.05,0.1], 'random_state': [42]}\n",
        "grid_search = GridSearchCV(ab_reg, param_grid, cv=5, scoring='r2', n_jobs=-1)\n",
        "\n",
        "# Fit the model\n",
        "grid_search.fit(x_train,y_train)\n",
        "\n",
        "# best hyperparameter\n",
        "grid_search.best_params_"
      ]
    },
    {
      "cell_type": "code",
      "execution_count": 58,
      "id": "d00ad47e-f29d-4613-be34-5b921f503dbb",
      "metadata": {
        "colab": {
          "base_uri": "https://localhost:8080/",
          "height": 74
        },
        "id": "d00ad47e-f29d-4613-be34-5b921f503dbb",
        "outputId": "be931956-a1bd-4ad7-9f3d-42f10ea71dcc"
      },
      "outputs": [
        {
          "output_type": "execute_result",
          "data": {
            "text/plain": [
              "AdaBoostRegressor(learning_rate=0.02, n_estimators=100, random_state=42)"
            ],
            "text/html": [
              "<style>#sk-container-id-5 {color: black;}#sk-container-id-5 pre{padding: 0;}#sk-container-id-5 div.sk-toggleable {background-color: white;}#sk-container-id-5 label.sk-toggleable__label {cursor: pointer;display: block;width: 100%;margin-bottom: 0;padding: 0.3em;box-sizing: border-box;text-align: center;}#sk-container-id-5 label.sk-toggleable__label-arrow:before {content: \"▸\";float: left;margin-right: 0.25em;color: #696969;}#sk-container-id-5 label.sk-toggleable__label-arrow:hover:before {color: black;}#sk-container-id-5 div.sk-estimator:hover label.sk-toggleable__label-arrow:before {color: black;}#sk-container-id-5 div.sk-toggleable__content {max-height: 0;max-width: 0;overflow: hidden;text-align: left;background-color: #f0f8ff;}#sk-container-id-5 div.sk-toggleable__content pre {margin: 0.2em;color: black;border-radius: 0.25em;background-color: #f0f8ff;}#sk-container-id-5 input.sk-toggleable__control:checked~div.sk-toggleable__content {max-height: 200px;max-width: 100%;overflow: auto;}#sk-container-id-5 input.sk-toggleable__control:checked~label.sk-toggleable__label-arrow:before {content: \"▾\";}#sk-container-id-5 div.sk-estimator input.sk-toggleable__control:checked~label.sk-toggleable__label {background-color: #d4ebff;}#sk-container-id-5 div.sk-label input.sk-toggleable__control:checked~label.sk-toggleable__label {background-color: #d4ebff;}#sk-container-id-5 input.sk-hidden--visually {border: 0;clip: rect(1px 1px 1px 1px);clip: rect(1px, 1px, 1px, 1px);height: 1px;margin: -1px;overflow: hidden;padding: 0;position: absolute;width: 1px;}#sk-container-id-5 div.sk-estimator {font-family: monospace;background-color: #f0f8ff;border: 1px dotted black;border-radius: 0.25em;box-sizing: border-box;margin-bottom: 0.5em;}#sk-container-id-5 div.sk-estimator:hover {background-color: #d4ebff;}#sk-container-id-5 div.sk-parallel-item::after {content: \"\";width: 100%;border-bottom: 1px solid gray;flex-grow: 1;}#sk-container-id-5 div.sk-label:hover label.sk-toggleable__label {background-color: #d4ebff;}#sk-container-id-5 div.sk-serial::before {content: \"\";position: absolute;border-left: 1px solid gray;box-sizing: border-box;top: 0;bottom: 0;left: 50%;z-index: 0;}#sk-container-id-5 div.sk-serial {display: flex;flex-direction: column;align-items: center;background-color: white;padding-right: 0.2em;padding-left: 0.2em;position: relative;}#sk-container-id-5 div.sk-item {position: relative;z-index: 1;}#sk-container-id-5 div.sk-parallel {display: flex;align-items: stretch;justify-content: center;background-color: white;position: relative;}#sk-container-id-5 div.sk-item::before, #sk-container-id-5 div.sk-parallel-item::before {content: \"\";position: absolute;border-left: 1px solid gray;box-sizing: border-box;top: 0;bottom: 0;left: 50%;z-index: -1;}#sk-container-id-5 div.sk-parallel-item {display: flex;flex-direction: column;z-index: 1;position: relative;background-color: white;}#sk-container-id-5 div.sk-parallel-item:first-child::after {align-self: flex-end;width: 50%;}#sk-container-id-5 div.sk-parallel-item:last-child::after {align-self: flex-start;width: 50%;}#sk-container-id-5 div.sk-parallel-item:only-child::after {width: 0;}#sk-container-id-5 div.sk-dashed-wrapped {border: 1px dashed gray;margin: 0 0.4em 0.5em 0.4em;box-sizing: border-box;padding-bottom: 0.4em;background-color: white;}#sk-container-id-5 div.sk-label label {font-family: monospace;font-weight: bold;display: inline-block;line-height: 1.2em;}#sk-container-id-5 div.sk-label-container {text-align: center;}#sk-container-id-5 div.sk-container {/* jupyter's `normalize.less` sets `[hidden] { display: none; }` but bootstrap.min.css set `[hidden] { display: none !important; }` so we also need the `!important` here to be able to override the default hidden behavior on the sphinx rendered scikit-learn.org. See: https://github.com/scikit-learn/scikit-learn/issues/21755 */display: inline-block !important;position: relative;}#sk-container-id-5 div.sk-text-repr-fallback {display: none;}</style><div id=\"sk-container-id-5\" class=\"sk-top-container\"><div class=\"sk-text-repr-fallback\"><pre>AdaBoostRegressor(learning_rate=0.02, n_estimators=100, random_state=42)</pre><b>In a Jupyter environment, please rerun this cell to show the HTML representation or trust the notebook. <br />On GitHub, the HTML representation is unable to render, please try loading this page with nbviewer.org.</b></div><div class=\"sk-container\" hidden><div class=\"sk-item\"><div class=\"sk-estimator sk-toggleable\"><input class=\"sk-toggleable__control sk-hidden--visually\" id=\"sk-estimator-id-5\" type=\"checkbox\" checked><label for=\"sk-estimator-id-5\" class=\"sk-toggleable__label sk-toggleable__label-arrow\">AdaBoostRegressor</label><div class=\"sk-toggleable__content\"><pre>AdaBoostRegressor(learning_rate=0.02, n_estimators=100, random_state=42)</pre></div></div></div></div></div>"
            ]
          },
          "metadata": {},
          "execution_count": 58
        }
      ],
      "source": [
        "# Best estimator\n",
        "best_reg_ab = grid_search.best_estimator_\n",
        "best_reg_ab"
      ]
    },
    {
      "cell_type": "code",
      "execution_count": 59,
      "id": "9aa8c6a0-72a0-4f99-8fa5-71a05f2c5665",
      "metadata": {
        "colab": {
          "base_uri": "https://localhost:8080/"
        },
        "id": "9aa8c6a0-72a0-4f99-8fa5-71a05f2c5665",
        "outputId": "0cba2261-1d97-4213-aa8a-4e1343eff488"
      },
      "outputs": [
        {
          "output_type": "stream",
          "name": "stdout",
          "text": [
            "r2_score (AB) - Train: 0.6193090648923301, Test: 0.6097243970265538\n",
            "mean_squared_error (AB) - Train: 57230874.74704435, Test: 74247969.94590999\n"
          ]
        }
      ],
      "source": [
        "# Calculating R^2_scores\n",
        "r2_score_train_abgs = r2_score(y_train, best_reg_ab.predict(x_train))\n",
        "r2_score_test_abgs = r2_score(y_test, best_reg_ab.predict(x_test))\n",
        "\n",
        "# Calculating MeanSquaredError\n",
        "mse_train_abgs = mean_squared_error(y_train, best_reg_ab.predict(x_train))\n",
        "mse_test_abgs = mean_squared_error(y_test, best_reg_ab.predict(x_test))\n",
        "\n",
        "print(\"r2_score (AB) - Train: {}, Test: {}\".format(r2_score_train_abgs, r2_score_test_abgs))\n",
        "print(\"mean_squared_error (AB) - Train: {}, Test: {}\".format(mse_train_abgs, mse_test_abgs))"
      ]
    },
    {
      "cell_type": "markdown",
      "id": "e3b269d7-ae39-48aa-8209-840ee89c6834",
      "metadata": {
        "id": "e3b269d7-ae39-48aa-8209-840ee89c6834"
      },
      "source": [
        "## XG Boost"
      ]
    },
    {
      "cell_type": "code",
      "execution_count": 61,
      "id": "ba315649-8b6f-4f37-8546-f9bf3ee7e83f",
      "metadata": {
        "colab": {
          "base_uri": "https://localhost:8080/"
        },
        "id": "ba315649-8b6f-4f37-8546-f9bf3ee7e83f",
        "outputId": "2a1dbfa0-23f0-4b34-de20-e1a947ba781f"
      },
      "outputs": [
        {
          "output_type": "stream",
          "name": "stdout",
          "text": [
            "r2_score (XGB) - Train: 0.6144011897646602, Test: 0.588168394609992\n",
            "mean_squared_error (XGB) - Train: 57968696.325660005, Test: 78348890.95502505\n"
          ]
        }
      ],
      "source": [
        "import xgboost as xgb\n",
        "xgb_reg = xgb.XGBRegressor(n_estimators=100, learning_rate=0.02, random_state=42)\n",
        "\n",
        "# Define the hyperparameters\n",
        "param_test = {'max_depth': [3,6,8], 'gamma': [0.1,0.2,0.3], 'subsample': [0.8,0.9], 'colsample_bytree': [0.8,0.9], 'reg_alpha': [0.01,0.1,1]}\n",
        "\n",
        "# Grid search\n",
        "grid_search = GridSearchCV(xgb_reg, param_test, cv=5, scoring='r2', n_jobs=-1)\n",
        "\n",
        "# Fit the model\n",
        "grid_search.fit(x_train,y_train)\n",
        "\n",
        "# best hyperparameter\n",
        "grid_search.best_params_\n",
        "\n",
        "# Best estimator\n",
        "best_reg_xgb = grid_search.best_estimator_\n",
        "best_reg_xgb\n",
        "\n",
        "# Calculating R^2_scores\n",
        "r2_score_train_xgb = r2_score(y_train, best_reg_xgb.predict(x_train))\n",
        "r2_score_test_xgb = r2_score(y_test, best_reg_xgb.predict(x_test))\n",
        "\n",
        "# Calculating MeanSquaredError\n",
        "mse_train_xgb = mean_squared_error(y_train, best_reg_xgb.predict(x_train))\n",
        "mse_test_xgb = mean_squared_error(y_test, best_reg_xgb.predict(x_test))\n",
        "\n",
        "print(\"r2_score (XGB) - Train: {}, Test: {}\".format(r2_score_train_xgb, r2_score_test_xgb))\n",
        "print(\"mean_squared_error (XGB) - Train: {}, Test: {}\".format(mse_train_xgb, mse_test_xgb))"
      ]
    },
    {
      "cell_type": "markdown",
      "source": [
        "### 3. What were the available ML model options that had to be performed in this task?\n",
        "* Multi Linear Regression\n",
        "* Ridge Regression with Validation Curve\n",
        "* Lasso Regression with Validation Curve\n",
        "* Decision Tree Regressor\n",
        "* Bagging\n",
        "* Random Forest with GridSearchCV\n",
        "* Gradient Boosting with GridSearchCV\n",
        "* Ada Boost with GridSearchCV\n",
        "* XG Boost with GridSearchCV"
      ],
      "metadata": {
        "id": "a2ce4719-f560-4389-96d3-1644de2cfc39"
      },
      "id": "a2ce4719-f560-4389-96d3-1644de2cfc39"
    },
    {
      "cell_type": "markdown",
      "source": [
        "### 4. Which model’s performance is best and what could be the possible reason for that?\n",
        "Random Forest Regressor model's performance is the best in this task. It has given high r2_scores for both train and test data (r2_score (RF) - Train: 0.9479622537580785, Test: 0.640953507323311).\n",
        "Random Forest can handle both regression and classification tasks with a high degree of accuracy and reduces overfitting. It produces great results even without hyper-parameter tuning most of the time."
      ],
      "metadata": {
        "id": "cCJJ_ATxVSQl"
      },
      "id": "cCJJ_ATxVSQl"
    },
    {
      "cell_type": "markdown",
      "source": [
        "### 5. What steps can be taken to improve this selected model’s performance even further?\n",
        "* Hyperparameter tuning: Perform more thorough hyperparameter tuning. Optimizing model parameters to find the best configuration for the data. GridSearchCV can help find the optimal combination of hyperparameters. By using GridSearchCV the model's performance can be improved even further.\n",
        "* Cross-Validation: Use cross-validation techniques to evaluate model's performance and avoid overfitting."
      ],
      "metadata": {
        "id": "3UIOb1KkVocX"
      },
      "id": "3UIOb1KkVocX"
    }
  ],
  "metadata": {
    "kernelspec": {
      "display_name": "Python 3 (ipykernel)",
      "language": "python",
      "name": "python3"
    },
    "language_info": {
      "codemirror_mode": {
        "name": "ipython",
        "version": 3
      },
      "file_extension": ".py",
      "mimetype": "text/x-python",
      "name": "python",
      "nbconvert_exporter": "python",
      "pygments_lexer": "ipython3",
      "version": "3.12.4"
    },
    "colab": {
      "provenance": []
    }
  },
  "nbformat": 4,
  "nbformat_minor": 5
}
